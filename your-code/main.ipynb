{
 "cells": [
  {
   "cell_type": "markdown",
   "metadata": {},
   "source": [
    "# Before your start:\n",
    "- Read the README.md file\n",
    "- Comment as much as you can and use the resources in the README.md file\n",
    "- Happy learning!"
   ]
  },
  {
   "cell_type": "code",
   "execution_count": 1,
   "metadata": {},
   "outputs": [],
   "source": [
    "# Import reduce from functools, numpy and pandas\n",
    "from functools import reduce\n",
    "import numpy as np\n",
    "import pandas as pn"
   ]
  },
  {
   "cell_type": "markdown",
   "metadata": {},
   "source": [
    "# Challenge 1 - Mapping\n",
    "\n",
    "#### We will use the map function to clean up words in a book.\n",
    "\n",
    "In the following cell, we will read a text file containing the book The Prophet by Khalil Gibran."
   ]
  },
  {
   "cell_type": "code",
   "execution_count": 5,
   "metadata": {},
   "outputs": [
    {
     "name": "stdout",
     "output_type": "stream",
     "text": [
      "13637\n"
     ]
    }
   ],
   "source": [
    "# Run this code:\n",
    "\n",
    "location = '../data/58585-0.txt'\n",
    "with open(location, 'r', encoding=\"utf8\") as f:\n",
    "    prophet = f.read().split(' ')\n",
    "    \n",
    "#print(prophet)\n",
    "print(len(prophet))"
   ]
  },
  {
   "cell_type": "markdown",
   "metadata": {},
   "source": [
    "#### Let's remove the first 568 words since they contain information about the book but are not part of the book itself. \n",
    "\n",
    "Do this by removing from `prophet` elements 0 through 567 of the list (you can also do this by keeping elements 568 through the last element)."
   ]
  },
  {
   "cell_type": "code",
   "execution_count": 6,
   "metadata": {},
   "outputs": [
    {
     "name": "stdout",
     "output_type": "stream",
     "text": [
      "13070\n"
     ]
    }
   ],
   "source": [
    "del prophet[0:567]\n",
    "print(len(prophet))\n",
    "#print(prophet)"
   ]
  },
  {
   "cell_type": "code",
   "execution_count": null,
   "metadata": {},
   "outputs": [],
   "source": [
    "print(prophet[0:20])"
   ]
  },
  {
   "cell_type": "markdown",
   "metadata": {},
   "source": [
    "If you look through the words, you will find that many words have a reference attached to them. For example, let's look at words 1 through 10."
   ]
  },
  {
   "cell_type": "markdown",
   "metadata": {},
   "source": [
    "#### The next step is to create a function that will remove references. \n",
    "\n",
    "We will do this by splitting the string on the `{` character and keeping only the part before this character. Write your function below."
   ]
  },
  {
   "cell_type": "code",
   "execution_count": null,
   "metadata": {},
   "outputs": [],
   "source": [
    "def reference(x):\n",
    "    '''\n",
    "    Input: A string\n",
    "    Output: The string with references removed\n",
    "    \n",
    "    Example:\n",
    "    Input: 'the{7}'\n",
    "    Output: 'the'\n",
    "    '''\n"
   ]
  },
  {
   "cell_type": "code",
   "execution_count": null,
   "metadata": {},
   "outputs": [],
   "source": [
    "# your code here\n",
    "import re\n",
    "def reference (x):\n",
    "\n",
    "\n"
   ]
  },
  {
   "cell_type": "code",
   "execution_count": 84,
   "metadata": {},
   "outputs": [
    {
     "name": "stdout",
     "output_type": "stream",
     "text": [
      "['{7}chosenandthe\\nbeloved', '{8}Long\\nwerethedaysofpainIhavespent', '{11}Shallmyheartbecomea\\ntreeheavy', '{12}he\\nhimselfcouldnotspeakhisdeeper', '{13}andyourshadowhasbeenalight\\nuponourfaces', '{14}And\\nshehailedhim', '{15}speaksaveofthatwhichisevennow\\nmovingwithinyoursouls', '{16}caressesyourtenderestbranches\\nthatquiverinthesun', '{17}yournakednessandpassoutof\\nlove', '{18}To\\nknowthepainoftoomuchtenderness', '{20}Singand\\ndancetogetherandbejoyous', '{21}Andawomanwhoheldababe\\nagainstherbosomsaid', '{22}For\\nlifegoesnotbackwardnortarrieswith', '{25}onewhoshallreceiveisjoygreater\\nthangiving', '{28}Forthelawthatdeliveredyouinto\\nmyhandshalldelivermeintoamightier', '{29}lettherebeinyourheartasong\\nforeachcup', '{31}assignedtoyouwhenthatdreamwas\\nborn', '{33}Andhewhoseizes\\ntherainbowtolayitonaclothinthe', '{34}Andifyousingthoughas\\nangels', '{38}mightseekoneanotherthrough\\nvineyards', '{42}Forgetnotthatmodesty\\nisforashieldagainsttheeyeofthe', '{44}And\\nsuffernotthebarren', '{45}Thenoneofthejudgesofthecity\\nstoodforthandsaid', '{48}theburdenbearerfortheguiltless\\nandunblamed', '{50}Andyouwhowould\\nunderstandjustice', '{52}Whatofthe\\ncripplewhohatesdancers', '{53}imagesdrawnontheearthcanhold\\nyou', '{57}Andthepriestessspokeagain\\nandsaid', '{61}withinyouhealsyoursick\\nself', '{63}knowledgewithstafforsounding\\nline', '{65}Andhewhoisversedinthescience\\nofnumberscantelloftheregions', '{67}Andlettherebeno\\npurposeinfriendshipsavethedeepening', '{69}withoutknowledgeorforethoughtreveal\\natruthwhichtheythemselvesdonot', '{71}Whoamongyoudoesnotfeelthathis\\npowertoloveisboundless', '{72}Andoneoftheeldersofthecity\\nsaid', '{73}Youaregoodwhen\\nyoustrivetogiveofyourself', '{74}Eventhosewholimpgonot\\nbackward', '{78}Butyouwhoarebornofthe\\nmountainsandtheforestsandtheseas', '{80}Iwouldnotjudgenor\\nrebukethem', '{82}sweet\\nmusicfromitorconfusedsounds', '{84}Hervoiceyieldstoour\\nsilenceslikeafaintlightthatquivers', '{85}Allthesethings\\nhaveyousaidofbeauty', '{86}Beautyiseternitygazingatitself\\ninamirror', '{88}He\\nwhowearshismoralitybutashisbest', '{89}Forin\\nadorationyoucannotflyhigherthan', '{91}Yourfear\\nofdeathisbutthetremblingofthe', '{93}Evenwhilethe\\nearthsleepswetravel', '{94}Andifthisdayisnotafulfilment\\nofyourneedsandmylove', '{96}His\\nmightbindsyoutotheearth', '{97}ThinknotIsaythesethingsin\\norderthatyoumaysaytheonetothe', '{98}Itislifeinquestoflifein\\nbodiesthatfearthegrave', '{99}Andinthisliesmyhonourandmy\\nreward', '{100}Verilythekindnessthat\\ngazesuponitselfinamirrorturnsto', '{101}Whyseekyouthe\\nunattainable', '{102}ForoftenhaveIputmyfinger\\ninmyownwoundthatImighthavethe', '{103}Andwhoknowsbutacrystalismist\\nindecay', '{105}Nowthey\\nshallwaitnolonger', '{106}Youhavesungtomeinmy\\naloneness', '{107}theshipuntilithadvanishedinto\\nthemist']\n"
     ]
    }
   ],
   "source": [
    "import re\n",
    "#convert the list of string in a unique string:\n",
    "str1 = ''.join(prophet)\n",
    "#print(str1)\n",
    "\n",
    "\n",
    "word1 = str1.split('{')\n",
    "#print(word1)\n",
    "\n",
    "x = re.findall(\"({\\d*}\\w*\\s\\w*)\",str1)   \n",
    "        # I want characters described by:\n",
    "        #1.{ -corchete-  2.\\d*  -zero or more letters-   3.\\s -space-    4. \\w* -zero or more letters-\n",
    "#print(x)\n",
    "for i in range(len(x)):\n",
    "    if x in word1:\n",
    "         word1.remove[x] \n",
    "    else:\n",
    "         word1\n",
    "print(x)\n",
    "#type(prophet)"
   ]
  },
  {
   "cell_type": "markdown",
   "metadata": {},
   "source": [
    "Now that we have our function, use the `map()` function to apply this function to our book, The Prophet. Return the resulting list to a new list called `prophet_reference`."
   ]
  },
  {
   "cell_type": "code",
   "execution_count": null,
   "metadata": {},
   "outputs": [],
   "source": [
    "# your code here\n",
    "\n",
    "text1 = list(map(reference,prophet))"
   ]
  },
  {
   "cell_type": "markdown",
   "metadata": {},
   "source": [
    "Another thing you may have noticed is that some words contain a line break. Let's write a function to split those words. Our function will return the string split on the character `\\n`. Write your function in the cell below."
   ]
  },
  {
   "cell_type": "code",
   "execution_count": null,
   "metadata": {},
   "outputs": [],
   "source": [
    "#def line_break(x):\n",
    "    '''\n",
    "    Input: A string\n",
    "    Output: A list of strings split on the line break (\\n) character\n",
    "        \n",
    "    Example:\n",
    "    Input: 'the\\nbeloved'\n",
    "    Output: ['the', 'beloved']\n",
    "    '''\n",
    "    \n",
    "    # your code here"
   ]
  },
  {
   "cell_type": "code",
   "execution_count": 60,
   "metadata": {},
   "outputs": [
    {
     "name": "stdout",
     "output_type": "stream",
     "text": [
      "['Farewell................92', '', '', '', '', 'THEPROPHET', '', '|Almustafa,the7}chosenandthe', 'beloved,whowasadawnuntohisown', 'day,hadwaitedtwelveyearsinthecity', 'ofOrphaleseforhisshipthatwasto', 'returnandbearhimbacktotheisleof', 'hisbirth.', '', 'Andinthetwelfthyear,ontheseventh', 'dayofIelool,themonthofreaping,he', 'climbedthehillwithoutthecitywalls', 'andlookedseaward;andhebeheldhis', 'shipcomingwiththemist.', '', 'Thenthegatesofhisheartwereflung', 'open,andhisjoyflewfaroverthesea.', 'Andheclosedhiseyesandprayedinthe', 'silencesofhissoul.', '', '*****', '', 'Butashedescendedthehill,asadness', 'cameuponhim,andhethoughtinhis', 'heart:', '', 'HowshallIgoinpeaceandwithout', 'sorrow?Nay,notwithoutawoundinthe', 'spiritshallIleavethiscity.8}Long', 'werethedaysofpainIhavespent', 'withinitswalls,andlongwerethe', 'nightsofaloneness;andwhocandepart', 'fromhispainandhisalonenesswithout', 'regret?', '', 'ToomanyfragmentsofthespirithaveI', 'scatteredinthesestreets,andtoomany', 'arethechildrenofmylongingthatwalk', 'nakedamongthesehills,andIcannot', 'withdrawfromthemwithoutaburdenand', 'anache.', '', 'ItisnotagarmentIcastoffthis', 'day,butaskinthatItearwithmyown', 'hands.', '', 'NorisitathoughtIleavebehindme,', 'butaheartmadesweetwithhungerand', 'withthirst.', '', '*****', '', 'YetIcannottarrylonger.', '', 'Theseathatcallsallthingsuntoher', 'callsme,andImustembark.', '', 'Fortostay,thoughthehoursburnin', 'thenight,istofreezeandcrystallize', 'andbeboundinamould.', '', 'FainwouldItakewithmeallthatis', 'here.ButhowshallI?', '', 'Avoicecannotcarrythetongueand', '9}thelipsthatgaveitwings.Alone', 'mustitseektheether.', '', 'Andaloneandwithouthisnestshallthe', 'eagleflyacrossthesun.', '', '*****', '', 'Nowwhenhereachedthefootofthe', 'hill,heturnedagaintowardsthesea,', 'andhesawhisshipapproachingthe', 'harbour,anduponherprowthemariners,', 'themenofhisownland.', '', 'Andhissoulcriedouttothem,andhe', 'said:', '', 'Sonsofmyancientmother,youridersof', 'thetides,', '', 'Howoftenhaveyousailedinmydreams.', 'Andnowyoucomeinmyawakening,which', 'ismydeeperdream.', '', 'ReadyamItogo,andmyeagernesswith', 'sailsfullsetawaitsthewind.', '', 'OnlyanotherbreathwillIbreathein', 'thisstillair,onlyanotherlovinglook', 'castbackward,', '', 'AndthenIshallstandamongyou,a', 'seafareramongseafarers.10}Andyou,', 'vastsea,sleeplessmother,', '', 'Whoalonearepeaceandfreedomtothe', 'riverandthestream,', '', 'Onlyanotherwindingwillthisstream', 'make,onlyanothermurmurinthisglade,', '', 'AndthenshallIcometoyou,a', 'boundlessdroptoaboundlessocean.', '', '*****', '', 'Andashewalkedhesawfromafarmen', 'andwomenleavingtheirfieldsandtheir', 'vineyardsandhasteningtowardsthecity', 'gates.', '', 'Andheheardtheirvoicescallinghis', 'name,andshoutingfromfieldtofield', 'tellingoneanotherofthecomingofhis', 'ship.', '', 'Andhesaidtohimself:', '', 'Shallthedayofpartingbethedayof', 'gathering?', '', 'Andshallitbesaidthatmyevewasin', 'truthmydawn?', '', 'AndwhatshallIgiveuntohimwhohas', 'lefthisploughinmidfurrow,orto', 'himwhohasstoppedthewheelofhis', 'winepress?11}Shallmyheartbecomea', 'treeheavy-ladenwithfruitthatImay', 'gatherandgiveuntothem?', '', 'Andshallmydesiresflowlikea', 'fountainthatImayfilltheircups?', '', 'AmIaharpthatthehandofthemighty', 'maytouchme,oraflutethathisbreath', 'maypassthroughme?', '', 'AseekerofsilencesamI,andwhat', 'treasurehaveIfoundinsilencesthatI', 'maydispensewithconfidence?', '', 'Ifthisismydayofharvest,inwhat', 'fieldshaveIsowedtheseed,andin', 'whatunrememberedseasons?', '', 'IfthisindeedbethehourinwhichI', 'liftupmylantern,itisnotmyflame', 'thatshallburntherein.', '', 'EmptyanddarkshallIraisemylantern,', '', 'Andtheguardianofthenightshallfill', 'itwithoilandheshalllightitalso.', '', '*****', '', 'Thesethingshesaidinwords.Butmuch', 'inhisheartremainedunsaid.For12}he', 'himselfcouldnotspeakhisdeeper', 'secret.', '', '*****', '', '[Illustration:0020]', '', 'Andwhenheenteredintothecityall', 'thepeoplecametomeethim,andthey', 'werecryingouttohimaswithone', 'voice.', '', 'Andtheeldersofthecitystoodforth', 'andsaid:', '', 'Gonotyetawayfromus.', '', 'Anoontidehaveyoubeeninour', 'twilight,andyouryouthhasgivenus', 'dreamstodream.', '', 'Nostrangerareyouamongus,nor', 'aguest,butoursonandourdearly', 'beloved.', '', 'Suffernotyetoureyestohungerfor', 'yourface.', '', '*****', '', 'Andthepriestsandthepriestessessaid', 'untohim:', '', 'Letnotthewavesoftheseaseparateus', 'now,andtheyearsyouhavespentinour', 'midstbecomeamemory.', '', 'Youhavewalkedamongusaspirit,', '13}andyourshadowhasbeenalight', 'uponourfaces.', '', 'Muchhavewelovedyou.Butspeechless', 'wasourlove,andwithveilshasitbeen', 'veiled.', '', 'Yetnowitcriesalouduntoyou,and', 'wouldstandrevealedbeforeyou.', '', 'Andeverhasitbeenthatloveknows', 'notitsowndepthuntilthehourof', 'separation.', '', '*****', '', 'Andotherscamealsoandentreatedhim.', 'Butheansweredthemnot.Heonlybent', 'hishead;andthosewhostoodnearsaw', 'histearsfallinguponhisbreast.', '', 'Andheandthepeopleproceededtowards', 'thegreatsquarebeforethetemple.', '', 'Andtherecameoutofthesanctuarya', 'womanwhosenamewasAlmitra.Andshe', 'wasaseeress.', '', 'Andhelookeduponherwithexceeding', 'tenderness,foritwasshewhohadfirst', 'soughtandbelievedinhimwhenhehad', 'beenbutadayintheircity.14}And', 'shehailedhim,saying:', '', 'ProphetofGod,inquestofthe', 'uttermost,longhaveyousearchedthe', 'distancesforyourship.', '', 'Andnowyourshiphascome,andyoumust', 'needsgo.', '', 'Deepisyourlongingforthelandof', 'yourmemoriesandthedwellingplace', 'ofyourgreaterdesires;andourlove', 'wouldnotbindyounorourneedshold', 'you.', '', 'Yetthisweaskereyouleaveus,that', 'youspeaktousandgiveusofyour', 'truth.', '', 'Andwewillgiveituntoourchildren,', 'andtheyuntotheirchildren,andit', 'shallnotperish.', '', 'Inyouralonenessyouhavewatchedwith', 'ourdays,andinyourwakefulnessyou', 'havelistenedtotheweepingandthe', 'laughterofoursleep.', '', 'Nowthereforediscloseustoourselves,', 'andtellusallthathasbeenshown', 'youofthatwhichisbetweenbirthand', 'death.', '', '*****', '', 'Andheanswered,', '', 'PeopleofOrphalese,ofwhatcanI', '15}speaksaveofthatwhichisevennow', 'movingwithinyoursouls?', '', '**********', '', 'ThensaidAlmitra,Speaktousof', '_Love_.', '', 'Andheraisedhisheadandlookedupon', 'thepeople,andtherefellastillness', 'uponthem.Andwithagreatvoicehe', 'said:', '', 'Whenlovebeckonstoyou,followhim,', '', 'Thoughhiswaysarehardandsteep.', '', 'Andwhenhiswingsenfoldyouyieldto', 'him,', '', 'Thoughtheswordhiddenamonghis', 'pinionsmaywoundyou.', '', 'Andwhenhespeakstoyoubelievein', 'him,', '', 'Thoughhisvoicemayshatteryourdreams', 'asthenorthwindlayswastethegarden.', '', 'Forevenaslovecrownsyousoshall', 'hecrucifyyou.Evenasheisforyour', 'growthsoisheforyourpruning.', '', 'Evenasheascendstoyourheightand', '16}caressesyourtenderestbranches', 'thatquiverinthesun,', '', 'Soshallhedescendtoyourrootsand', 'shakethemintheirclingingtothe', 'earth.', '', '*****', '', 'Likesheavesofcornhegathersyouunto', 'himself.', '', 'Hethreshesyoutomakeyounaked.', '', 'Hesiftsyoutofreeyoufromyour', 'husks.', '', 'Hegrindsyoutowhiteness.', '', 'Hekneadsyouuntilyouarepliant;', '', 'Andthenheassignsyoutohissacred', 'fire,thatyoumaybecomesacredbread', 'forGod’ssacredfeast.', '', '*****', '', 'Allthesethingsshalllovedountoyou', 'thatyoumayknowthesecretsofyour', 'heart,andinthatknowledgebecomea', 'fragmentofLife’sheart.', '', 'Butifinyourfearyouwouldseekonly', 'love’speaceandlove’spleasure,', '', 'Thenitisbetterforyouthatyou', 'cover17}yournakednessandpassoutof', 'love’sthreshing-floor,', '', 'Intotheseasonlessworldwhereyou', 'shalllaugh,butnotallofyour', 'laughter,andweep,butnotallofyour', 'tears.', '', '*****', '', 'Lovegivesnaughtbutitselfandtakes', 'naughtbutfromitself.', '', 'Lovepossessesnotnorwoulditbe', 'possessed;', '', 'Forloveissufficientuntolove.', '', 'Whenyouloveyoushouldnotsay,“God', 'isinmyheart,”butrather,“Iamin', 'theheartofGod.”', '', 'Andthinknotyoucandirectthecourse', 'oflove,forlove,ifitfindsyou', 'worthy,directsyourcourse.', '', 'Lovehasnootherdesirebuttofulfil', 'itself.', '', 'Butifyouloveandmustneedshave', 'desires,letthesebeyourdesires:', '', 'Tomeltandbelikearunningbrookthat', 'singsitsmelodytothenight.18}To', 'knowthepainoftoomuchtenderness.', '', 'Tobewoundedbyyourownunderstanding', 'oflove;', '', 'Andtobleedwillinglyandjoyfully.', '', 'Towakeatdawnwithawingedheartand', 'givethanksforanotherdayofloving;', '', 'Torestatthenoonhourandmeditate', 'love’secstacy;', '', 'Toreturnhomeateventidewith', 'gratitude;', '', 'Andthentosleepwithaprayerfor', 'thebelovedinyourheartandasongof', 'praiseuponyourlips.', '', '[Illustration:0029]', '', '**********', '', '19}ThenAlmitraspokeagainandsaid,', 'Andwhatof_Marriage_master?', '', 'Andheansweredsaying:', '', 'Youwereborntogether,andtogetheryou', 'shallbeforevermore.', '', 'Youshallbetogetherwhenthewhite', 'wingsofdeathscatteryourdays.', '', 'Aye,youshallbetogethereveninthe', 'silentmemoryofGod.', '', 'Butlettherebespacesinyour', 'togetherness,', '', 'Andletthewindsoftheheavensdance', 'betweenyou.', '', '*****', '', 'Loveoneanother,butmakenotabondof', 'love:', '', 'Letitratherbeamovingseabetween', 'theshoresofyoursouls.', '', 'Filleachother’scupbutdrinknotfrom', 'onecup.', '', 'Giveoneanotherofyourbreadbuteat', 'notfromthesameloaf.20}Singand', 'dancetogetherandbejoyous,butlet', 'eachoneofyoubealone,', '', 'Evenasthestringsofalutearealone', 'thoughtheyquiverwiththesamemusic.', '', '*****', '', 'Giveyourhearts,butnotintoeach', 'other’skeeping.', '', 'ForonlythehandofLifecancontain', 'yourhearts.', '', 'Andstandtogetheryetnottoonear', 'together:', '', 'Forthepillarsofthetemplestand', 'apart,', '', 'Andtheoaktreeandthecypressgrow', 'notineachother’sshadow.', '', '[Illustration:0032]', '', '**********', '', '21}Andawomanwhoheldababe', 'againstherbosomsaid,Speaktousof', '_Children_.', '', 'Andhesaid:', '', 'Yourchildrenarenotyourchildren.', '', 'Theyarethesonsanddaughtersof', 'Life’slongingforitself.', '', 'Theycomethroughyoubutnotfromyou,', '', 'Andthoughtheyarewithyouyetthey', 'belongnottoyou.', '', '*****', '', 'Youmaygivethemyourlovebutnotyour', 'thoughts,', '', 'Fortheyhavetheirownthoughts.', '', 'Youmayhousetheirbodiesbutnottheir', 'souls,', '', 'Fortheirsoulsdwellinthehouseof', 'tomorrow,whichyoucannotvisit,not', 'eveninyourdreams.', '', 'Youmaystrivetobelikethem,butseek', 'nottomakethemlikeyou.22}For', 'lifegoesnotbackwardnortarrieswith', 'yesterday.', '', 'Youarethebowsfromwhichyour', 'childrenaslivingarrowsaresent', 'forth.', '', 'Thearcherseesthemarkuponthepath', 'oftheinfinite,andHebendsyouwith', 'HismightthatHisarrowsmaygoswift', 'andfar.', '', 'LetyourbendingintheArcher’shandbe', 'forgladness;', '', 'Forevenashelovesthearrowthat', 'flies,soHelovesalsothebowthatis', 'stable.', '', '**********', '', '23}Thensaidarichman,Speaktousof', '_Giving_.', '', 'Andheanswered:', '', 'Yougivebutlittlewhenyougiveof', 'yourpossessions.', '', 'Itiswhenyougiveofyourselfthatyou', 'trulygive.', '', 'Forwhatareyourpossessionsbutthings', 'youkeepandguardforfearyoumayneed', 'themtomorrow?', '', 'Andtomorrow,whatshalltomorrowbring', 'totheoverprudentdogburyingbones', 'inthetracklesssandashefollowsthe', 'pilgrimstotheholycity?', '', 'Andwhatisfearofneedbutneed', 'itself?', '', 'Isnotdreadofthirstwhenyourwellis', 'full,thethirstthatisunquenchable?', '', 'Therearethosewhogivelittleofthe', '24}muchwhichtheyhave--andtheygive', 'itforrecognitionandtheirhidden', 'desiremakestheirgiftsunwholesome.', '', 'Andtherearethosewhohavelittleand', 'giveitall.', '', 'Thesearethebelieversinlifeand', 'thebountyoflife,andtheircofferis', 'neverempty.', '', 'Therearethosewhogivewithjoy,and', 'thatjoyistheirreward.', '', 'Andtherearethosewhogivewithpain,', 'andthatpainistheirbaptism.', '', 'Andtherearethosewhogiveandknow', 'notpainingiving,nordotheyseek', 'joy,norgivewithmindfulnessof', 'virtue;', '', 'Theygiveasinyondervalleythemyrtle', 'breathesitsfragranceintospace.', '', 'ThroughthehandsofsuchastheseGod', 'speaks,andfrombehindtheireyesHe', 'smilesupontheearth.', '', '[Illustration:0039]', '', 'Itiswelltogivewhenasked,butit', 'isbettertogiveunasked,through', 'understanding;', '', 'Andtotheopen-handedthesearchfor', '25}onewhoshallreceiveisjoygreater', 'thangiving.', '', 'Andisthereaughtyouwouldwithhold?', '', 'Allyouhaveshallsomedaybegiven;', '', 'Thereforegivenow,thattheseason', 'ofgivingmaybeyoursandnotyour', 'inheritors’.', '', 'Youoftensay,“Iwouldgive,butonly', 'tothedeserving.”', '', 'Thetreesinyourorchardsaynotso,', 'northeflocksinyourpasture.', '', 'Theygivethattheymaylive,forto', 'withholdistoperish.', '', 'Surelyhewhoisworthytoreceivehis', 'daysandhisnights,isworthyofall', 'elsefromyou.', '', 'Andhewhohasdeservedtodrinkfrom', 'theoceanoflifedeservestofillhis', 'cupfromyourlittlestream.', '', 'Andwhatdesertgreatershalltherebe,', 'thanthatwhichliesinthecourage', 'andtheconfidence,naythecharity,of', 'receiving?', '', 'Andwhoareyouthatmenshouldrend', '26}theirbosomandunveiltheirpride,', 'thatyoumayseetheirworthnakedand', 'theirprideunabashed?', '', 'Seefirstthatyouyourselfdeserveto', 'beagiver,andaninstrumentofgiving.', '', 'Forintruthitislifethatgivesunto', 'life--whileyou,whodeemyourselfa', 'giver,arebutawitness.', '', 'Andyoureceivers--andyouare', 'allreceivers--assumenoweightof', 'gratitude,lestyoulayayokeupon', 'yourselfanduponhimwhogives.', '', 'Ratherrisetogetherwiththegiveron', 'hisgiftsasonwings;', '', 'Fortobeovermindfulofyourdebt,is', 'itodoubthisgenerositywhohasthe', 'freeheartedearthformother,andGod', 'forfather.', '', '[Illustration:0042]', '', '**********', '', '27}Thenanoldman,akeeperofan', 'inn,said,Speaktousof_Eatingand', 'Drinking_.', '', 'Andhesaid:', '', 'Wouldthatyoucouldliveonthe', 'fragranceoftheearth,andlikeanair', 'plantbesustainedbythelight.', '', 'Butsinceyoumustkilltoeat,androb', 'thenewlybornofitsmother’smilkto', 'quenchyourthirst,letitthenbean', 'actofworship,', '', 'Andletyourboardstandanaltaron', 'whichthepureandtheinnocentof', 'forestandplainaresacrificedforthat', 'whichispurerandstillmoreinnocent', 'inman.', '', '*****', '', 'Whenyoukillabeastsaytohiminyour', 'heart,', '', '“Bythesamepowerthatslaysyou,Itoo', 'amslain;andItooshallbeconsumed.', '28}Forthelawthatdeliveredyouinto', 'myhandshalldelivermeintoamightier', 'hand.', '', 'Yourbloodandmybloodisnaughtbut', 'thesapthatfeedsthetreeofheaven.”', '', '*****', '', 'Andwhenyoucrushanapplewithyour', 'teeth,saytoitinyourheart,', '', '“Yourseedsshallliveinmybody,', '', 'Andthebudsofyourtomorrowshall', 'blossominmyheart,', '', 'Andyourfragranceshallbemybreath,', 'Andtogetherweshallrejoicethrough', 'alltheseasons.”', '', '*****', '', 'Andintheautumn,whenyougather', 'thegrapesofyourvineyardsforthe', 'winepress,sayinyourheart,', '', '“Itooamavineyard,andmyfruitshall', 'begatheredforthewinepress,', '', 'AndlikenewwineIshallbekeptin', 'eternalvessels.”', '', 'Andinwinter,whenyoudrawthewine,', '29}lettherebeinyourheartasong', 'foreachcup;', '', 'Andlettherebeinthesonga', 'remembrancefortheautumndays,andfor', 'thevineyard,andforthewinepress.', '', '*****', '*****', '', '30}Thenaploughmansaid,Speak', 'tousof_Work_.', '', 'Andheanswered,saying:', '', 'Youworkthatyoumaykeeppacewiththe', 'earthandthesouloftheearth.', '', 'Fortobeidleistobecomeastranger', 'untotheseasons,andtostepoutof', 'life’sprocession,thatmarchesin', 'majestyandproudsubmissiontowardsthe', 'infinite.', '', 'Whenyouworkyouareaflutethrough', 'whoseheartthewhisperingofthehours', 'turnstomusic.', '', 'Whichofyouwouldbeareed,dumband', 'silent,whenallelsesingstogetherin', 'unison?', '', 'Alwaysyouhavebeentoldthatworkisa', 'curseandlabouramisfortune.', '', 'ButIsaytoyouthatwhenyouworkyou', 'fulfilapartofearth’sfurthestdream,', '31}assignedtoyouwhenthatdreamwas', 'born,', '', 'Andinkeepingyourselfwithlabouryou', 'areintruthlovinglife,', '', 'Andtolovelifethroughlabouristobe', 'intimatewithlife’sinmostsecret.', '', '*****', '', 'Butifyouinyourpaincallbirthan', 'afflictionandthesupportoftheflesh', 'acursewrittenuponyourbrow,thenI', 'answerthatnaughtbutthesweatof', 'yourbrowshallwashawaythatwhichis', 'written.', '', 'Youhavebeentoldalsothatlifeis', 'darkness,andinyourwearinessyouecho', 'whatwassaidbytheweary.', '', 'AndIsaythatlifeisindeeddarkness', '‘savewhenthereisurge,', '', 'Andallurgeisblindsavewhenthereis', 'knowledge,', '', 'Andallknowledgeisvainsavewhen', 'thereiswork,', '', 'Andallworkisemptysavewhenthereis', 'love;', '', 'Andwhenyouworkwithloveyoubind', '32}yourselftoyourself,andtoone', 'another,andtoGod.', '', '*****', '', 'Andwhatisittoworkwithlove?', '', 'Itistoweavetheclothwiththreads', 'drawnfromyourheart,evenasifyour', 'belovedweretowearthatcloth.', '', 'Itistobuildahousewithaffection,', 'evenasifyourbelovedweretodwellin', 'thathouse.', '', 'Itistosowseedswithtendernessand', 'reaptheharvestwithjoy,evenasif', 'yourbelovedweretoeatthefruit.', '', 'Itistochargeallthingsyoufashion', 'withabreathofyourownspirit,', '', 'Andtoknowthatalltheblesseddead', 'arestandingaboutyouandwatching.', '', 'OftenhaveIheardyousay,asif', 'speakinginsleep,“Hewhoworksin', 'marble,andfindstheshapeofhisown', 'soulinthestone,isnoblerthanhewho', 'ploughsthesoil.33}Andhewhoseizes', 'therainbowtolayitonaclothinthe', 'likenessofman,ismorethanhewho', 'makesthesandalsforourfeet.”', '', 'ButIsay,notinsleepbutinthe', 'overwakefulnessofnoontide,thatthe', 'windspeaksnotmoresweetlytothe', 'giantoaksthantotheleastofallthe', 'bladesofgrass;', '', 'Andhealoneisgreatwhoturnsthe', 'voiceofthewindintoasongmade', 'sweeterbyhisownloving.', '', '*****', '', 'Workislovemadevisible.', '', 'Andifyoucannotworkwithlovebut', 'onlywithdistaste,itisbetterthat', 'youshouldleaveyourworkandsitat', 'thegateofthetempleandtakealmsof', 'thosewhoworkwithjoy.', '', 'Forifyoubakebreadwithindifference,', 'youbakeabitterbreadthatfeedsbut', 'halfman’shunger.', '', 'Andifyougrudgethecrushingofthe', 'grapes,yourgrudgedistilsapoisonin', 'thewine.34}Andifyousingthoughas', 'angels,andlovenotthesinging,you', 'muffleman’searstothevoicesofthe', 'dayandthevoicesofthenight.', '', '**********', '', '35}Thenawomansaid,Speaktousof', '_JoyandSorrow_.', '', 'Andheanswered:', '', 'Yourjoyisyoursorrowunmasked.', '', 'Andtheselfsamewellfromwhichyour', 'laughterriseswasoftentimesfilled', 'withyourtears.', '', 'Andhowelsecanitbe?', '', 'Thedeeperthatsorrowcarvesintoyour', 'being,themorejoyyoucancontain.', '', 'Isnotthecupthatholdsyourwinethe', 'verycupthatwasburnedinthepotter’s', 'oven?', '', 'Andisnotthelutethatsoothesyour', 'spirit,theverywoodthatwashollowed', 'withknives?', '', 'Whenyouarejoyous,lookdeepintoyour', 'heartandyoushallfinditisonly', 'thatwhichhasgivenyousorrowthatis', 'givingyoujoy.', '', 'Whenyouaresorrowfullookagainin', '36}yourheart,andyoushallseethat', 'intruthyouareweepingforthatwhich', 'hasbeenyourdelight.', '', '*****', '', 'Someofyousay,“Joyisgreaterthan', 'sorrow,”andotherssay,“Nay,sorrowis', 'thegreater.”', '', 'ButIsayuntoyou,theyare', 'inseparable.', '', 'Togethertheycome,andwhenonesits', 'alonewithyouatyourboard,remember', 'thattheotherisasleepuponyourbed.', '', 'Verilyyouaresuspendedlikescales', 'betweenyoursorrowandyourjoy.', '', 'Onlywhenyouareemptyareyouat', 'standstillandbalanced.', '', 'Whenthetreasure-keeperliftsyouto', 'weighhisgoldandhissilver,needs', 'mustyourjoyoryoursorrowriseor', 'fall.', '', '**********', '', '37}Thenamasoncameforthandsaid,', 'Speaktousof_Houses_.', '', 'Andheansweredandsaid:', '', 'Buildofyourimaginingsabowerinthe', 'wildernessereyoubuildahousewithin', 'thecitywalls.', '', 'Forevenasyouhavehome-comingsin', 'yourtwilight,sohasthewandererin', 'you,theeverdistantandalone.', '', 'Yourhouseisyourlargerbody.', '', 'Itgrowsinthesunandsleepsinthe', 'stillnessofthenight;anditisnot', 'dreamless.Doesnotyourhousedream?', 'anddreaming,leavethecityforgrove', 'orhilltop?', '', 'WouldthatIcouldgatheryourhouses', 'intomyhand,andlikeasowerscatter', 'theminforestandmeadow.', '', 'Wouldthevalleyswereyourstreets,and', 'thegreenpathsyouralleys,thatyou', '38}mightseekoneanotherthrough', 'vineyards,andcomewiththefragrance', 'oftheearthinyourgarments.', '', 'Butthesethingsarenotyettobe.', '', 'Intheirfearyourforefathersgathered', 'youtooneartogether.Andthatfear', 'shallendurealittlelonger.Alittle', 'longershallyourcitywallsseparate', 'yourhearthsfromyourfields.', '', '*****', '', 'Andtellme,peopleofOrphalese,what', 'haveyouinthesehouses?Andwhatisit', 'youguardwithfasteneddoors?', '', 'Haveyoupeace,thequieturgethat', 'revealsyourpower?', '', 'Haveyouremembrances,theglimmering', 'archesthatspanthesummitsofthe', 'mind?', '', 'Haveyoubeauty,thatleadstheheart', 'fromthingsfashionedofwoodandstone', 'totheholymountain?', '', 'Tellme,haveyoutheseinyourhouses?', '', 'Orhaveyouonlycomfort,andthelust', 'forcomfort,thatstealthythingthat', '39}entersthehouseaguest,andthen', 'becomesahost,andthenamaster?', '', '*****', '', 'Ay,anditbecomesatamer,andwith', 'hookandscourgemakespuppetsofyour', 'largerdesires.', '', 'Thoughitshandsaresilken,itsheart', 'isofiron.', '', 'Itlullsyoutosleeponlytostandby', 'yourbedandjeeratthedignityofthe', 'flesh.', '', 'Itmakesmockofyoursoundsenses,and', 'laystheminthistledownlikefragile', 'vessels.', '', 'Verilythelustforcomfortmurders', 'thepassionofthesoul,andthenwalks', 'grinninginthefuneral.', '', 'Butyou,childrenofspace,yourestless', 'inrest,youshallnotbetrappednor', 'tamed.', '', 'Yourhouseshallbenotananchorbuta', 'mast.', '', 'Itshallnotbeaglisteningfilmthat', '40}coversawound,butaneyelidthat', 'guardstheeye.', '', 'Youshallnotfoldyourwingsthatyou', 'maypassthroughdoors,norbendyour', 'headsthattheystrikenotagainsta', 'ceiling,norfeartobreathelestwalls', 'shouldcrackandfalldown.', '', 'Youshallnotdwellintombsmadebythe', 'deadfortheliving.', '', 'Andthoughofmagnificenceand', 'splendour,yourhouseshallnothold', 'yoursecretnorshelteryourlonging.', '', 'Forthatwhichisboundlessinyou', 'abidesinthemansionofthesky,whose', 'dooristhemorningmist,andwhose', 'windowsarethesongsandthesilences', 'ofnight.', '', '**********', '', '41}Andtheweaversaid,Speaktousof', '_Clothes_.', '', 'Andheanswered:', '', 'Yourclothesconcealmuchofyour', 'beauty,yettheyhidenotthe', 'unbeautiful.', '', 'Andthoughyouseekingarmentsthe', 'freedomofprivacyyoumayfindinthem', 'aharnessandachain.', '', 'Wouldthatyoucouldmeetthesunand', 'thewindwithmoreofyourskinandless', 'ofyourraiment,', '', 'Forthebreathoflifeisinthe', 'sunlightandthehandoflifeisinthe', 'wind.', '', 'Someofyousay,“Itisthenorthwind', 'whohaswoventheclotheswewear.”', '', 'AndIsay,Ay,itwasthenorthwind,', '', 'Butshamewashisloom,andthe', 'softeningofthesinewswashisthread.', '', 'Andwhenhisworkwasdonehelaughedin', 'theforest.42}Forgetnotthatmodesty', 'isforashieldagainsttheeyeofthe', 'unclean.', '', 'Andwhentheuncleanshallbenomore,', 'whatweremodestybutafetteranda', 'foulingofthemind?', '', 'Andforgetnotthattheearthdelights', 'tofeelyourbarefeetandthewinds', 'longtoplaywithyourhair.', '', '**********', '', '43}Andamerchantsaid,Speaktousof', '_BuyingandSelling_.', '', 'Andheansweredandsaid:', '', 'Toyoutheearthyieldsherfruit,and', 'youshallnotwantifyoubutknowhow', 'tofillyourhands.', '', 'Itisinexchangingthegiftsofthe', 'earththatyoushallfindabundanceand', 'besatisfied.', '', 'Yetunlesstheexchangebeinloveand', 'kindlyjustice,itwillbutleadsometo', 'greedandotherstohunger.', '', 'Wheninthemarketplaceyoutoilersof', 'theseaandfieldsandvineyardsmeet', 'theweaversandthepottersandthe', 'gatherersofspices,--', '', 'Invokethenthemasterspiritofthe', 'earth,tocomeintoyourmidstand', 'sanctifythescalesandthereckoning', 'thatweighsvalueagainstvalue.44}And', 'suffernotthebarren-handedtotake', 'partinyourtransactions,whowould', 'selltheirwordsforyourlabour.', '', 'Tosuchmenyoushouldsay,', '', '“Comewithustothefield,orgowith', 'ourbrotherstotheseaandcastyour', 'net;', '', 'Forthelandandtheseashallbe', 'bountifultoyouevenastous.”', '', '*****', '', 'Andiftherecomethesingersandthe', 'dancersandthefluteplayers,--buyof', 'theirgiftsalso.', '', 'Fortheytooaregatherersoffruitand', 'frankincense,andthatwhichtheybring,', 'thoughfashionedofdreams,israiment', 'andfoodforyoursoul.', '', 'Andbeforeyouleavethemarketplace,', 'seethatnoonehasgonehiswaywith', 'emptyhands.', '', 'Forthemasterspiritoftheearthshall', 'notsleeppeacefullyuponthewind', 'tilltheneedsoftheleastofyouare', 'satisfied.', '', '**********', '', '45}Thenoneofthejudgesofthecity', 'stoodforthandsaid,Speaktousof', '_CrimeandPunishment_.', '', 'Andheanswered,saying:', '', 'Itiswhenyourspiritgoeswandering', 'uponthewind,', '', 'Thatyou,aloneandunguarded,commit', 'awronguntoothersandthereforeunto', 'yourself.', '', 'Andforthatwrongcommittedmustyou', 'knockandwaitawhileunheededatthe', 'gateoftheblessed.', '', 'Liketheoceanisyourgod-self;', '', 'Itremainsforeverundefiled.', '', 'Andliketheetheritliftsbutthe', 'winged.', '', 'Evenlikethesunisyourgod-self;', '', 'Itknowsnotthewaysofthemolenor', 'seeksittheholesoftheserpent.', '46}Butyourgod-selfdwellsnotalone', 'inyourbeing.', '', 'Muchinyouisstillman,andmuchin', 'youisnotyetman,', '', 'Butashapelesspigmythatwalksasleep', 'inthemistsearchingforitsown', 'awakening.', '', 'AndofthemaninyouwouldInowspeak.', '', 'Foritisheandnotyourgod-selfnor', 'thepigmyinthemist,thatknowscrime', 'andthepunishmentofcrime.', '', '*****', '', 'OftentimeshaveIheardyouspeakofone', 'whocommitsawrongasthoughhewere', 'notoneofyou,butastrangeruntoyou', 'andanintruderuponyourworld.', '', 'ButIsaythatevenastheholyandthe', 'righteouscannotrisebeyondthehighest', 'whichisineachoneofyou,', '', 'Sothewickedandtheweakcannotfall', 'lowerthanthelowestwhichisinyou', 'also.', '', 'Andasasingleleafturnsnotyellow', 'butwiththesilentknowledgeofthe', 'wholetree,47}Sothewrong-doercannot', 'dowrongwithoutthehiddenwillofyou', 'all.', '', 'Likeaprocessionyouwalktogether', 'towardsyourgod-self.', '', '[Illustration:0064]', '', 'Youarethewayandthewayfarers.', '', 'Andwhenoneofyoufallsdownhefalls', 'forthosebehindhim,acautionagainst', 'thestumblingstone.', '', 'Ay,andhefallsforthoseaheadofhim,', 'whothoughfasterandsureroffoot,yet', 'removednotthestumblingstone.', '', 'Andthisalso,thoughthewordlieheavy', 'uponyourhearts:', '', 'Themurderedisnotunaccountablefor', 'hisownmurder,', '', 'Andtherobbedisnotblamelessinbeing', 'robbed.', '', 'Therighteousisnotinnocentofthe', 'deedsofthewicked,', '', 'Andthewhite-handedisnotcleaninthe', 'doingsofthefelon.', '', 'Yea,theguiltyisoftentimesthevictim', 'oftheinjured,', '', 'Andstillmoreoftenthecondemnedis', '48}theburdenbearerfortheguiltless', 'andunblamed.', '', 'Youcannotseparatethejustfromthe', 'unjustandthegoodfromthewicked;', '', 'Fortheystandtogetherbeforetheface', 'ofthesunevenastheblackthreadand', 'thewhitearewoventogether.', '', 'Andwhentheblackthreadbreaks,the', 'weavershalllookintothewholecloth,', 'andheshallexaminetheloomalso.', '', '*****', '', 'Ifanyofyouwouldbringtojudgment', 'theunfaithfulwife,', '', 'Lethimalsoweightheheartofher', 'husbandinscales,andmeasurehissoul', 'withmeasurements.', '', 'Andlethimwhowouldlashtheoffender', 'lookuntothespiritoftheoffended.', '', 'Andifanyofyouwouldpunishinthe', 'nameofrighteousnessandlaytheax', 'untotheeviltree,lethimseetoits', 'roots;', '', 'Andverilyhewillfindtherootsofthe', 'goodandthebad,thefruitfulandthe', '49}fruitless,allentwinedtogetherin', 'thesilentheartoftheearth.', '', 'Andyoujudgeswhowouldbejust,', '', 'Whatjudgmentpronounceyouuponhim', 'whothoughhonestinthefleshyetisa', 'thiefinspirit?', '', 'Whatpenaltylayyouuponhimwhoslays', 'inthefleshyetishimselfslaininthe', 'spirit?', '', 'Andhowprosecuteyouhimwhoinaction', 'isadeceiverandanoppressor,', '', 'Yetwhoalsoisaggrievedandoutraged?', '', '*****', '', 'Andhowshallyoupunishthosewhose', 'remorseisalreadygreaterthantheir', 'misdeeds?', '', 'Isnotremorsethejusticewhichis', 'administeredbythatverylawwhichyou', 'wouldfainserve?', '', 'Yetyoucannotlayremorseuponthe', 'innocentnorliftitfromtheheartof', 'theguilty.', '', 'Unbiddenshallitcallinthenight,', 'thatmenmaywakeandgazeupon', 'themselves.50}Andyouwhowould', 'understandjustice,howshallyouunless', 'youlookuponalldeedsinthefullness', 'oflight?', '', 'Onlythenshallyouknowthattheerect', 'andthefallenarebutonemanstanding', 'intwilightbetweenthenightofhis', 'pigmy-selfandthedayofhisgod-self,', 'Andthatthecorner-stoneofthetemple', 'isnothigherthantheloweststonein', 'itsfoundation.', '', '**********', '', '51}Thenalawyersaid,Butwhatofour', '_Laws_,master?', '', 'Andheanswered:', '', 'Youdelightinlayingdownlaws,', '', 'Yetyoudelightmoreinbreakingthem.', '', 'Likechildrenplayingbytheoceanwho', 'buildsand-towerswithconstancyand', 'thendestroythemwithlaughter.', '', 'Butwhileyoubuildyoursand-towersthe', 'oceanbringsmoresandtotheshore,', '', 'Andwhenyoudestroythemtheocean', 'laughswithyou.', '', 'Verilytheoceanlaughsalwayswiththe', 'innocent.', '', 'Butwhatofthosetowhomlifeisnot', 'anocean,andman-madelawsarenot', 'sand-towers,', '', 'Buttowhomlifeisarock,andthelaw', 'achiselwithwhichtheywouldcarveit', 'intheirownlikeness?52}Whatofthe', 'cripplewhohatesdancers?', '', 'Whatoftheoxwholoveshisyokeand', 'deemstheelkanddeeroftheforest', 'strayandvagrantthings?', '', 'Whatoftheoldserpentwhocannotshed', 'hisskin,andcallsallothersnakedand', 'shameless?', '', 'Andofhimwhocomesearlytothe', 'wedding-feast,andwhenover-fedand', 'tiredgoeshiswaysayingthatall', 'feastsareviolationandallfeasters', 'lawbreakers?', '', '*****', '', 'WhatshallIsayofthesesavethat', 'theytoostandinthesunlight,butwith', 'theirbackstothesun?', '', 'Theyseeonlytheirshadows,andtheir', 'shadowsaretheirlaws.', '', 'Andwhatisthesuntothembutacaster', 'ofshadows?', '', 'Andwhatisittoacknowledgethe', 'lawsbuttostoopdownandtracetheir', 'shadowsupontheearth?', '', 'Butyouwhowalkfacingthesun,what', '53}imagesdrawnontheearthcanhold', 'you?', '', 'Youwhotravelwiththewind,what', 'weather-vaneshalldirectyourcourse?', '', 'Whatman’slawshallbindyouifyou', 'breakyouryokebutuponnoman’sprison', 'door?', '', 'Whatlawsshallyoufearifyoudance', 'butstumbleagainstnoman’siron', 'chains?', '', 'Andwhoishethatshallbringyouto', 'judgmentifyoutearoffyourgarment', 'yetleaveitinnoman’spath?', '', '*****', '', 'PeopleofOrphalese,youcanmufflethe', 'drum,andyoucanloosenthestrings', 'ofthelyre,butwhoshallcommandthe', 'skylarknottosing?', '', '**********', '', '54}Andanoratorsaid,Speaktousof', '_Freedom_.', '', 'Andheanswered:', '', 'Atthecitygateandbyyourfireside', 'Ihaveseenyouprostrateyourselfand', 'worshipyourownfreedom,', '', 'Evenasslaveshumblethemselvesbefore', 'atyrantandpraisehimthoughheslays', 'them.', '', 'Ay,inthegroveofthetempleandin', 'theshadowofthecitadelIhaveseen', 'thefreestamongyouweartheirfreedom', 'asayokeandahandcuff.', '', 'Andmyheartbledwithinme;foryou', 'canonlybefreewheneventhedesire', 'ofseekingfreedombecomesaharness', 'toyou,andwhenyouceasetospeakof', 'freedomasagoalandafulfilment.', '', 'Youshallbefreeindeedwhenyour', 'daysarenotwithoutacarenoryour', '55}nightswithoutawantandagrief,', '', 'Butratherwhenthesethingsgirdleyour', 'lifeandyetyouriseabovethemnaked', 'andunbound.', '', '*****', '', 'Andhowshallyourisebeyondyourdays', 'andnightsunlessyoubreakthe', 'chainswhichyouatthedawnofyour', 'understandinghavefastenedaroundyour', 'noonhour?', '', 'Intruththatwhichyoucallfreedomis', 'thestrongestofthesechains,though', 'itslinksglitterinthesunanddazzle', 'youreyes.', '', 'Andwhatisitbutfragmentsofyour', 'ownselfyouwoulddiscardthatyoumay', 'becomefree?', '', 'Ifitisanunjustlawyouwould', 'abolish,thatlawwaswrittenwithyour', 'ownhanduponyourownforehead.', '', 'Youcannoteraseitbyburningyourlaw', 'booksnorbywashingtheforeheadsof', 'yourjudges,thoughyoupourthesea', 'uponthem.', '', 'Andifitisadespotyouwould', '56}dethrone,seefirstthathisthrone', 'erectedwithinyouisdestroyed.', '', 'Forhowcanatyrantrulethefreeand', 'theproud,butforatyrannyintheir', 'ownfreedomandashameintheirown', 'pride?', '', 'Andifitisacareyouwouldcastoff,', 'thatcarthasbeenchosenbyyourather', 'thanimposeduponyou.', '', 'Andifitisafearyouwoulddispel,', 'theseatofthatfearisinyourheart', 'andnotinthehandofthefeared.', '', '*****', '', 'Verilyallthingsmovewithinyourbeing', 'inconstanthalfembrace,thedesired', 'andthedreaded,therepugnantandthe', 'cherished,thepursuedandthatwhich', 'youwouldescape.', '', 'Thesethingsmovewithinyouaslights', 'andshadowsinpairsthatcling.', '', 'Andwhentheshadowfadesandisno', 'more,thelightthatlingersbecomesa', 'shadowtoanotherlight.', '', 'Andthusyourfreedomwhenitlosesits', 'fettersbecomesitselfthefetterofa', 'greaterfreedom.', '', '**********', '', '57}Andthepriestessspokeagain', 'andsaid:Speaktousof_Reasonand', 'Passion_.', '', 'Andheanswered,saying:', '', 'Yoursoulisoftentimesabattlefield,', 'uponwhichyourreasonandyourjudgment', 'wagewaragainstyourpassionandyour', 'appetite.', '', 'WouldthatIcouldbethepeacemakerin', 'yoursoul,thatImightturnthediscord', 'andtherivalryofyourelementsinto', 'onenessandmelody.', '', 'ButhowshallI,unlessyouyourselves', 'bealsothepeacemakers,nay,thelovers', 'ofallyourelements?', '', 'Yourreasonandyourpassionarethe', 'rudderandthesailsofyourseafaring', 'soul.', '', 'Ifeitheryoursailsoryourrudderbe', 'broken,youcanbuttossanddrift,', 'orelsebeheldatastandstillin', 'mid-seas.58}Forreason,rulingalone,', 'isaforceconfining;andpassion,', 'unattended,isaflamethatburnstoits', 'owndestruction.', '', 'Thereforeletyoursoulexaltyour', 'reasontotheheightofpassion,thatit', 'maysing;', '', 'Andletitdirectyourpassionwith', 'reason,thatyourpassionmaylive', 'throughitsowndailyresurrection,', 'andlikethephoenixriseaboveitsown', 'ashes.', '', '*****', '', 'Iwouldhaveyouconsideryourjudgment', 'andyourappetiteevenasyouwouldtwo', 'lovedguestsinyourhouse.', '', 'Surelyyouwouldnothonouroneguest', 'abovetheother;forhewhoismore', 'mindfulofonelosestheloveandthe', 'faithofboth', '', 'Amongthehills,whenyousitinthe', 'coolshadeofthewhitepoplars,sharing', 'thepeaceandserenityofdistantfields', 'andmeadows--thenletyourheartsayin', 'silence,“Godrestsinreason.”', '', 'Andwhenthestormcomes,andthe', '59}mightywindshakestheforest,', 'andthunderandlightningproclaimthe', 'majestyofthesky,--thenletyourheart', 'sayinawe,“Godmovesinpassion.”', '', 'AndsinceyouareabreathinGod’s', 'sphere,andaleafinGod’sforest,you', 'tooshouldrestinreasonandmovein', 'passion.', '', '**********', '', '60}Andawomanspoke,saying,Tellus', 'of_Pain_.', '', 'Andhesaid:', '', 'Yourpainisthebreakingoftheshell', 'thatenclosesyourunderstanding.', '', 'Evenasthestoneofthefruitmust', 'break,thatitsheartmaystandinthe', 'sun,somustyouknowpain.', '', 'Andcouldyoukeepyourheartinwonder', 'atthedailymiraclesofyourlife,your', 'painwouldnotseemlesswondrousthan', 'yourjoy;', '', 'Andyouwouldaccepttheseasonsofyour', 'heart,evenasyouhavealwaysaccepted', 'theseasonsthatpassoveryourfields.', '', 'Andyouwouldwatchwithserenity', 'throughthewintersofyourgrief.', '', 'Muchofyourpainisself-chosen.', '', 'Itisthebitterpotionbywhichthe', 'physician61}withinyouhealsyoursick', 'self.', '', 'Thereforetrustthephysician,anddrink', 'hisremedyinsilenceandtranquillity:', 'Forhishand,thoughheavyandhard,is', 'guidedbythetenderhandoftheUnseen,', 'Andthecuphebrings,thoughitburn', 'yourlips,hasbeenfashionedofthe', 'claywhichthePotterhasmoistenedwith', 'Hisownsacredtears.', '', '**********', '', '62}Andamansaid,Speaktousof', '_Self-Knowledge_.', '', 'Andheanswered,saying:', '', 'Yourheartsknowinsilencethesecrets', 'ofthedaysandthenights.', '', 'Butyourearsthirstforthesoundof', 'yourheart’sknowledge.', '', 'Youwouldknowinwordsthatwhichyou', 'havealwaysknowninthought.', '', 'Youwouldtouchwithyourfingersthe', 'nakedbodyofyourdreams.', '', 'Anditiswellyoushould.', '', 'Thehiddenwell-springofyoursoulmust', 'needsriseandrunmurmuringtothesea;', '', 'Andthetreasureofyourinfinitedepths', 'wouldberevealedtoyoureyes.', '', 'Butlettherebenoscalestoweighyour', 'unknowntreasure;', '', 'Andseeknotthedepthsofyour', '63}knowledgewithstafforsounding', 'line.', '', 'Forselfisaseaboundlessand', 'measureless.', '', '*****', '', 'Saynot,“Ihavefoundthetruth,”but', 'rather,“Ihavefoundatruth.”', '', 'Saynot,“Ihavefoundthepathofthe', 'soul.”Sayrather,“Ihavemetthesoul', 'walkinguponmypath.”', '', 'Forthesoulwalksuponallpaths.', '', 'Thesoulwalksnotuponaline,neither', 'doesitgrowlikeareed.', '', 'Thesoulunfoldsitself,likealotusof', 'countlesspetals.', '', '[Illustration:0083]', '', '**********', '', '64}Thensaidateacher,Speaktousof', '_Teaching_.', '', 'Andhesaid:', '', '“Nomancanrevealtoyouaughtbutthat', 'whichalreadylieshalfasleepinthe', 'dawningofyourknowledge.', '', 'Theteacherwhowalksintheshadowof', 'thetemple,amonghisfollowers,gives', 'notofhiswisdombutratherofhis', 'faithandhislovingness.', '', 'Ifheisindeedwisehedoesnotbid', 'youenterthehouseofhiswisdom,but', 'ratherleadsyoutothethresholdof', 'yourownmind.', '', 'Theastronomermayspeaktoyouofhis', 'understandingofspace,buthecannot', 'giveyouhisunderstanding.', '', 'Themusicianmaysingtoyouofthe', 'rhythmwhichisinallspace,buthe', 'cannotgiveyoutheearwhicharrests', 'therhythmnorthevoicethatechoesit.', '65}Andhewhoisversedinthescience', 'ofnumberscantelloftheregions', 'ofweightandmeasure,buthecannot', 'conductyouthither.', '', 'Forthevisionofonemanlendsnotits', 'wingstoanotherman.', '', 'Andevenaseachoneofyoustandsalone', 'inGod’sknowledge,somusteachoneof', 'youbealoneinhisknowledgeofGodand', 'inhisunderstandingoftheearth.', '', '**********', '', '66}Andayouthsaid,Speaktousof', '_Friendship_.', '', 'Andheanswered,saying:', '', 'Yourfriendisyourneedsanswered.', '', 'Heisyourfieldwhichyousowwithlove', 'andreapwiththanksgiving.', '', 'Andheisyourboardandyourfireside.', '', 'Foryoucometohimwithyourhunger,', 'andyouseekhimforpeace.', '', 'Whenyourfriendspeakshismindyou', 'fearnotthe“nay”inyourownmind,nor', 'doyouwithholdthe“ay.”', '', 'Andwhenheissilentyourheartceases', 'nottolistentohisheart;', '', 'Forwithoutwords,infriendship,all', 'thoughts,alldesires,allexpectations', 'arebornandshared,withjoythatis', 'unacclaimed.', '', 'Whenyoupartfromyourfriend,you', 'grievenot;', '', 'Forthatwhichyoulovemostinhim', 'maybeclearerinhisabsence,asthe', 'mountaintotheclimberisclearer', 'fromtheplain.67}Andlettherebeno', 'purposeinfriendshipsavethedeepening', 'ofthespirit.', '', 'Forlovethatseeksaughtbutthe', 'disclosureofitsownmysteryisnot', 'lovebutanetcastforth:andonlythe', 'unprofitableiscaught.', '', '*****', '', 'Andletyourbestbeforyourfriend.', '', 'Ifhemustknowtheebbofyourtide,', 'lethimknowitsfloodalso.', '', 'Forwhatisyourfriendthatyoushould', 'seekhimwithhourstokill?', '', 'Seekhimalwayswithhourstolive.', '', 'Foritishistofillyourneed,butnot', 'youremptiness.', '', 'Andinthesweetnessoffriendship', 'lettherebelaughter,andsharingof', 'pleasures.', '', 'Forinthedewoflittlethings', 'theheartfindsitsmorningandis', 'refreshed.', '', '**********', '', '68}Andthenascholarsaid,Speakof', '_Talking_.', '', 'Andheanswered,saying:', '', 'Youtalkwhenyouceasetobeatpeace', 'withyourthoughts;', '', 'Andwhenyoucannolongerdwellinthe', 'solitudeofyourheartyouliveinyour', 'lips,andsoundisadiversionanda', 'pastime.', '', 'Andinmuchofyourtalking,thinkingis', 'halfmurdered.', '', 'Forthoughtisabirdofspace,thatin', 'acageofwordsmayindeedunfoldits', 'wingsbutcannotfly.', '', 'Therearethoseamongyouwhoseekthe', 'talkativethroughfearofbeingalone.', '', 'Thesilenceofalonenessrevealsto', 'theireyestheirnakedselvesandthey', 'wouldescape.', '', 'Andtherearethosewhotalk,and', '69}withoutknowledgeorforethoughtreveal', 'atruthwhichtheythemselvesdonot', 'understand.', '', 'Andtherearethosewhohavethetruth', 'withinthem,buttheytellitnotin', 'words.', '', 'Inthebosomofsuchasthesethespirit', 'dwellsinrhythmicsilence.', '', '*****', '', 'Whenyoumeetyourfriendonthe', 'roadsideorinthemarketplace,letthe', 'spiritinyoumoveyourlipsanddirect', 'yourtongue.', '', 'Letthevoicewithinyourvoicespeakto', 'theearofhisear;', '', 'Forhissoulwillkeepthetruthof', 'yourheartasthetasteofthewineis', 'remembered', '', 'Whenthecolourisforgottenandthe', 'vesselisnomore.', '', '**********', '', '70}Andanastronomersaid,Master,what', 'of_Time_?', '', 'Andheanswered:', '', 'Youwouldmeasuretimethemeasureless', 'andtheimmeasurable.', '', 'Youwouldadjustyourconductand', 'evendirectthecourseofyourspirit', 'accordingtohoursandseasons.', '', 'Oftimeyouwouldmakeastreamupon', 'whosebankyouwouldsitandwatchits', 'flowing.', '', 'Yetthetimelessinyouisawareof', 'life’stimelessness,', '', 'Andknowsthatyesterdayisbuttoday’s', 'memoryandtomorrowistoday’sdream.', '', 'Andthatthatwhichsingsand', 'contemplatesinyouisstilldwelling', 'withintheboundsofthatfirstmoment', 'whichscatteredthestarsintospace.', '71}Whoamongyoudoesnotfeelthathis', 'powertoloveisboundless?', '', 'Andyetwhodoesnotfeelthatvery', 'love,thoughboundless,encompassed', 'withinthecentreofhisbeing,and', 'movingnotfromlovethoughttolove', 'thought,norfromlovedeedstoother', 'lovedeeds?', '', 'Andisnottimeevenasloveis,', 'undividedandpaceless?', '', '*****', '', 'Butifinyourthoughtyoumustmeasure', 'timeintoseasons,leteachseason', 'encirclealltheotherseasons,', '', 'Andlettodayembracethepastwith', 'remembranceandthefuturewithlonging.', '', '**********', '', '72}Andoneoftheeldersofthecity', 'said,Speaktousof_GoodandEvil_.', '', 'Andheanswered:', '', 'OfthegoodinyouIcanspeak,butnot', 'oftheevil.', '', 'Forwhatisevilbutgoodtorturedby', 'itsownhungerandthirst?', '', 'Verilywhengoodishungryitseeksfood', 'evenindarkcaves,andwhenitthirsts', 'itdrinksevenofdeadwaters.', '', 'Youaregoodwhenyouareonewith', 'yourself.', '', 'Yetwhenyouarenotonewithyourself', 'youarenotevil.', '', 'Foradividedhouseisnotadenof', 'thieves;itisonlyadividedhouse.', '', 'Andashipwithoutruddermaywander', 'aimlesslyamongperilousislesyetsink', 'nottothebottom.73}Youaregoodwhen', 'youstrivetogiveofyourself.', '', 'Yetyouarenotevilwhenyouseekgain', 'foryourself.', '', 'Forwhenyoustriveforgainyouare', 'butarootthatclingstotheearthand', 'sucksatherbreast.', '', 'Surelythefruitcannotsaytotheroot,', '“Belikeme,ripeandfullandever', 'givingofyourabundance.”', '', 'Fortothefruitgivingisaneed,as', 'receivingisaneedtotheroot.', '', '*****', '', 'Youaregoodwhenyouarefullyawakein', 'yourspeech,', '', 'Yetyouarenotevilwhenyousleep', 'whileyourtonguestaggerswithout', 'purpose.', '', 'Andevenstumblingspeechmaystrengthen', 'aweaktongue.', '', 'Youaregoodwhenyouwalktoyourgoal', 'firmlyandwithboldsteps.', '', 'Yetyouarenotevilwhenyougothither', 'limping.74}Eventhosewholimpgonot', 'backward.', '', 'Butyouwhoarestrongandswift,see', 'thatyoudonotlimpbeforethelame,', 'deemingitkindness.', '', '*****', '', 'Youaregoodincountlessways,andyou', 'arenotevilwhenyouarenotgood,', '', 'Youareonlyloiteringandsluggard.', '', 'Pitythatthestagscannotteach', 'swiftnesstotheturtles.', '', 'Inyourlongingforyourgiantselflies', 'yourgoodness:andthatlongingisin', 'allofyou.', '', 'Butinsomeofyouthatlongingisa', 'torrentrushingwithmighttothesea,', 'carryingthesecretsofthehillsides', 'andthesongsoftheforest.', '', 'Andinothersitisaflatstreamthat', 'losesitselfinanglesandbendsand', 'lingersbeforeitreachestheshore.', '', 'Butletnothimwholongsmuchsayto', '75}himwholongslittle,“Whereforeare', 'youslowandhalting?”', '', 'Forthetrulygoodasknotthenaked,', '“Whereisyourgarment?”northe', 'houseless,“Whathasbefallenyour', 'house?”', '', '**********', '', '76}Thenapriestesssaid,Speaktous', 'of_Prayer_.', '', 'Andheanswered,saying:', '', 'Youprayinyourdistressandinyour', 'need;wouldthatyoumightprayalso', 'inthefullnessofyourjoyandinyour', 'daysofabundance.', '', 'Forwhatisprayerbuttheexpansionof', 'yourselfintothelivingether?', '', 'Andifitisforyourcomforttopour', 'yourdarknessintospace,itisalsofor', 'yourdelighttopourforththedawning', 'ofyourheart.', '', 'Andifyoucannotbutweepwhenyour', 'soulsummonsyoutoprayer,sheshould', 'spuryouagainandyetagain,though', 'weeping,untilyoushallcomelaughing.', '', 'Whenyouprayyourisetomeetinthe', 'airthosewhoareprayingatthatvery', '77}hour,andwhomsaveinprayeryou', 'maynotmeet.', '', 'Thereforeletyourvisittothattemple', 'invisiblebefornaughtbutecstasyand', 'sweetcommunion.', '', 'Forifyoushouldenterthetemplefor', 'nootherpurposethanaskingyoushall', 'notreceive:', '', 'Andifyoushouldenterintoitto', 'humbleyourselfyoushallnotbelifted:', '', 'Orevenifyoushouldenterintoitto', 'begforthegoodofothersyoushallnot', 'beheard.', '', 'Itisenoughthatyouenterthetemple', 'invisible.', '', '*****', '', 'Icannotteachyouhowtoprayinwords.', '', 'Godlistensnottoyourwordssavewhen', 'HeHimselfuttersthemthroughyour', 'lips.', '', 'AndIcannotteachyoutheprayerofthe', 'seasandtheforestsandthemountains.', '78}Butyouwhoarebornofthe', 'mountainsandtheforestsandtheseas', 'canfindtheirprayerinyourheart,', '', 'Andifyoubutlisteninthestillness', 'ofthenightyoushallhearthemsaying', 'insilence,', '', '“OurGod,whoartourwingedself,itis', 'thywillinusthatwilleth.', '', 'Itisthydesireinusthatdesireth.', '', 'Itisthyurgeinusthatwouldturnour', 'nights,whicharethine,intodayswhich', 'arethinealso.', '', 'Wecannotasktheeforaught,forthou', 'knowestourneedsbeforetheyareborn', 'inus:', '', 'Thouartourneed;andingivingusmore', 'ofthyselfthougivestusall.”', '', '[Illustration:0100]', '', '**********', '', '79}Thenahermit,whovisitedthecity', 'onceayear,cameforthandsaid,Speak', 'tousof_Pleasure_.', '', 'Andheanswered,saying:', '', 'Pleasureisafreedom-song,', '', 'Butitisnotfreedom.', '', 'Itistheblossomingofyourdesires,', '', 'Butitisnottheirfruit.', '', 'Itisadepthcallinguntoaheight,', '', 'Butitisnotthedeepnorthehigh.', '', 'Itisthecagedtakingwing,', '', 'Butitisnotspaceencompassed.', '', 'Ay,inverytruth,pleasureisa', 'freedom-song.', '', 'AndIfainwouldhaveyousingitwith', 'fullnessofheart;yetIwouldnothave', 'youloseyourheartsinthesinging.', '', 'Someofyouryouthseekpleasureasif', 'itwereall,andtheyarejudgedand', 'rebuked.80}Iwouldnotjudgenor', 'rebukethem.Iwouldhavethemseek.', '', 'Fortheyshallfindpleasure,butnot', 'heralone;', '', 'Sevenarehersisters,andtheleastof', 'themismorebeautifulthanpleasure.', '', 'Haveyounotheardofthemanwhowas', 'diggingintheearthforrootsandfound', 'atreasure?', '', '*****', '', 'Andsomeofyoureldersremember', 'pleasureswithregretlikewrongs', 'committedindrunkenness.', '', 'Butregretisthebecloudingofthemind', 'andnotitschastisement.', '', 'Theyshouldremembertheirpleasures', 'withgratitude,astheywouldthe', 'harvestofasummer.', '', 'Yetifitcomfortsthemtoregret,let', 'thembecomforted.', '', 'Andthereareamongyouthosewho', 'areneitheryoungtoseeknoroldto', 'remember;', '', 'Andintheirfearofseekingand', 'remembering81}theyshunallpleasures,', 'lesttheyneglectthespiritoroffend', 'againstit.', '', 'Butevenintheirforegoingistheir', 'pleasure.', '', 'Andthustheytoofindatreasurethough', 'theydigforrootswithquiveringhands.', '', 'Buttellme,whoishethatcanoffend', 'thespirit?', '', 'Shallthenightingaleoffendthe', 'stillnessofthenight,orthefirefly', 'thestars?', '', 'Andshallyourflameoryoursmoke', 'burdenthewind?', '', 'Thinkyouthespiritisastillpool', 'whichyoucantroublewithastaff?', '', '*****', '', 'Oftentimesindenyingyourselfpleasure', 'youdobutstorethedesireinthe', 'recessesofyourbeing.', '', 'Whoknowsbutthatwhichseemsomitted', 'today,waitsfortomorrow?', '', 'Evenyourbodyknowsitsheritage', 'anditsrightfulneedandwillnotbe', 'deceived.', '', 'Andyourbodyistheharpofyoursoul,', '', 'Anditisyourstobringforth82}sweet', 'musicfromitorconfusedsounds.', '', '*****', '', 'Andnowyouaskinyourheart,“How', 'shallwedistinguishthatwhichis', 'goodinpleasurefromthatwhichisnot', 'good?”', '', 'Gotoyourfieldsandyourgardens,and', 'youshalllearnthatitisthepleasure', 'ofthebeetogatherhoneyofthe', 'flower,', '', 'Butitisalsothepleasureofthe', 'flowertoyielditshoneytothebee.', '', 'Fortothebeeaflowerisafountainof', 'life,', '', 'Andtotheflowerabeeisamessenger', 'oflove,', '', 'Andtoboth,beeandflower,thegiving', 'andthereceivingofpleasureisaneed', 'andanecstasy.', '', 'PeopleofOrphalese,beinyour', 'pleasuresliketheflowersandthebees.', '', '**********', '', '83}Andapoetsaid,Speaktousof', '_Beauty_.', '', 'Andheanswered:', '', 'Whereshallyouseekbeauty,andhow', 'shallyoufindherunlesssheherselfbe', 'yourwayandyourguide?', '', 'Andhowshallyouspeakofherexcept', 'shebetheweaverofyourspeech?', '', 'Theaggrievedandtheinjuredsay,', '“Beautyiskindandgentle.', '', 'Likeayoungmotherhalf-shyofherown', 'gloryshewalksamongus.”', '', 'Andthepassionatesay,“Nay,beautyis', 'athingofmightanddread.', '', 'Likethetempestsheshakestheearth', 'beneathusandtheskyaboveus.”', '', 'Thetiredandthewearysay,“Beautyis', 'ofsoftwhisperings.Shespeaksinour', 'spirit.84}Hervoiceyieldstoour', 'silenceslikeafaintlightthatquivers', 'infearoftheshadow.”', '', 'Buttherestlesssay,“Wehaveheardher', 'shoutingamongthemountains,', '', 'Andwithhercriescamethesoundof', 'hoofs,andthebeatingofwingsandthe', 'roaringoflions.”', '', 'Atnightthewatchmenofthecitysay,', '“Beautyshallrisewiththedawnfrom', 'theeast.”', '', 'Andatnoontidethetoilersandthe', 'wayfarerssay,“Wehaveseenherleaning', 'overtheearthfromthewindowsofthe', 'sunset.”', '', '*****', '', 'Inwintersaythesnow-bound,“Sheshall', 'comewiththespringleapinguponthe', 'hills.”', '', 'Andinthesummerheatthereapers', 'say,“Wehaveseenherdancingwiththe', 'autumnleaves,andwesawadriftof', 'snowinherhair.”85}Allthesethings', 'haveyousaidofbeauty,', '', 'Yetintruthyouspokenotofherbutof', 'needsunsatisfied,', '', 'Andbeautyisnotaneedbutanecstasy.', '', 'Itisnotamouththirstingnoranempty', 'handstretchedforth,', '', 'Butratheraheartenflamedandasoul', 'enchanted.', '', 'Itisnottheimageyouwouldseenor', 'thesongyouwouldhear,', '', 'Butratheranimageyouseethoughyou', 'closeyoureyesandasongyouhear', 'thoughyoushutyourears.', '', 'Itisnotthesapwithinthefurrowed', 'bark,norawingattachedtoaclaw,', '', 'Butratheragardenforeverinbloom', 'andaflockofangelsforeverin', 'flight.', '', '*****', '', 'PeopleofOrphalese,beautyislifewhen', 'lifeunveilsherholyface.', '', 'Butyouarelifeandyouaretheveil.', '86}Beautyiseternitygazingatitself', 'inamirror.', '', 'Butyouareeternityandyouarethe', 'mirror.', '', '**********', '', '87}Andanoldpriestsaid,Speaktous', 'of_Religion_.', '', 'Andhesaid:', '', 'HaveIspokenthisdayofaughtelse?', '', 'Isnotreligionalldeedsandall', 'reflection,', '', 'Andthatwhichisneitherdeednor', 'reflection,butawonderandasurprise', 'everspringinginthesoul,evenwhile', 'thehandshewthestoneortendthe', 'loom?', '', 'Whocanseparatehisfaithfrom', 'hisactions,orhisbelieffromhis', 'occupations?', '', 'Whocanspreadhishoursbeforehim,', 'saving,“ThisforGodandthisfor', 'myself;Thisformysoul,andthisother', 'formybody?”', '', 'Allyourhoursarewingsthatbeat', 'throughspacefromselftoself.88}He', 'whowearshismoralitybutashisbest', 'garmentwerebetternaked.', '', 'Thewindandthesunwilltearnoholes', 'inhisskin.', '', 'Andhewhodefineshisconductbyethics', 'imprisonshissong-birdinacage.', '', 'Thefreestsongcomesnotthroughbars', 'andwires.', '', 'Andhetowhomworshippingisawindow,', 'toopenbutalsotoshut,hasnotyet', 'visitedthehouseofhissoulwhose', 'windowsarefromdawntodawn.', '', '*****', '', 'Yourdailylifeisyourtempleandyour', 'religion.', '', 'Wheneveryouenterintoittakewithyou', 'yourall.', '', 'Taketheploughandtheforgeandthe', 'malletandthelute,', '', 'Thethingsyouhavefashionedin', 'necessityorfordelight.', '', 'Forinreveryyoucannotriseaboveyour', 'achievementsnorfalllowerthanyour', 'failures.', '', 'Andtakewithyouallmen:89}Forin', 'adorationyoucannotflyhigherthan', 'theirhopesnorhumbleyourselflower', 'thantheirdespair.', '', '*****', '', 'AndifyouwouldknowGodbenot', 'thereforeasolverofriddles.', '', 'Ratherlookaboutyouandyoushallsee', 'Himplayingwithyourchildren.', '', 'Andlookintospace;youshallseeHim', 'walkinginthecloud,outstretchingHis', 'armsinthelightninganddescendingin', 'rain.', '', 'YoushallseeHimsmilinginflowers,', 'thenrisingandwavingHishandsin', 'trees.', '', '**********', '', '90}ThenAlmitraspoke,saying,Wewould', 'asknowof_Death_.', '', 'Andhesaid:', '', 'Youwouldknowthesecretofdeath.', '', 'Buthowshallyoufinditunlessyou', 'seekitintheheartoflife?', '', 'Theowlwhosenight-boundeyesareblind', 'untothedaycannotunveilthemystery', 'oflight.', '', 'Ifyouwouldindeedbeholdthespirit', 'ofdeath,openyourheartwideuntothe', 'bodyoflife.', '', 'Forlifeanddeathareone,evenasthe', 'riverandtheseaareone.', '', 'Inthedepthofyourhopesanddesires', 'liesyoursilentknowledgeofthe', 'beyond;', '', 'Andlikeseedsdreamingbeneaththesnow', 'yourheartdreamsofspring.', '', 'Trustthedreams,forinthemishidden', 'thegatetoeternity.91}Yourfear', 'ofdeathisbutthetremblingofthe', 'shepherdwhenhestandsbeforetheking', 'whosehandistobelaiduponhimin', 'honour.', '', 'Istheshepherdnotjoyfulbeneathhis', 'trembling,thatheshallwearthemark', 'oftheking?', '', 'Yetishenotmoremindfulofhis', 'trembling?', '', '*****', '', 'Forwhatisittodiebuttostandnaked', 'inthewindandtomeltintothesun?', '', 'Andwhatisittoceasebreathing,but', 'tofreethebreathfromitsrestless', 'tides,thatitmayriseandexpandand', 'seekGodunencumbered?', '', 'Onlywhenyoudrinkfromtheriverof', 'silenceshallyouindeedsing.', '', 'Andwhenyouhavereachedthemountain', 'top,thenyoushallbegintoclimb.', '', 'Andwhentheearthshallclaimyour', 'limbs,thenshallyoutrulydance.', '92}Andnowitwasevening.', '', 'AndAlmitratheseeresssaid,Blessedbe', 'thisdayandthisplaceandyourspirit', 'thathasspoken.', '', 'Andheanswered,WasitIwhospoke?Was', 'Inotalsoalistener?', '', '*****', '', 'Thenhedescendedthestepsofthe', 'Templeandallthepeoplefollowedhim.', 'Andhereachedhisshipandstoodupon', 'thedeck.', '', 'Andfacingthepeopleagain,heraised', 'hisvoiceandsaid:', '', 'PeopleofOrphalese,thewindbidsme', 'leaveyou.', '', 'LesshastyamIthanthewind,yetI', 'mustgo.', '', 'Wewanderers,everseekingthelonelier', 'way,beginnodaywherewehaveended', 'anotherday;andnosunrisefindsus', 'wheresunsetleftus.93}Evenwhilethe', 'earthsleepswetravel.', '', 'Wearetheseedsofthetenacious', 'plant,anditisinourripenessandour', 'fullnessofheartthatwearegivento', 'thewindandarescattered.', '', '*****', '', 'Briefweremydaysamongyou,and', 'brieferstillthewordsIhavespoken.', '', 'Butshouldmyvoicefadeinyourears,', 'andmylovevanishinyourmemory,then', 'Iwillcomeagain,', '', 'Andwitharicherheartandlipsmore', 'yieldingtothespiritwillIspeak.', '', 'Yea,Ishallreturnwiththetide,', '', 'Andthoughdeathmayhideme,andthe', 'greatersilenceenfoldme,yetagain', 'willIseekyourunderstanding.', '', 'AndnotinvainwillIseek.', '', 'IfaughtIhavesaidistruth,that', 'truthshallrevealitselfinaclearer', 'voice,andinwordsmorekintoyour', 'thoughts.', '', 'Igowiththewind,peopleof', 'Orphalese,butnotdownintoemptiness;', '94}Andifthisdayisnotafulfilment', 'ofyourneedsandmylove,thenletit', 'beapromisetillanotherday.', '', 'Man’sneedschange,butnothislove,', 'norhisdesirethathisloveshould', 'satisfyhisneeds.', '', 'Knowtherefore,thatfromthegreater', 'silenceIshallreturn.', '', 'Themistthatdriftsawayatdawn,', 'leavingbutdewinthefields,shall', 'riseandgatherintoacloudandthen', 'falldowninrain.', '', 'AndnotunlikethemisthaveIbeen.', '', 'InthestillnessofthenightIhave', 'walkedinyourstreets,andmyspirit', 'hasenteredyourhouses,', '', 'Andyourheart-beatswereinmyheart,', 'andyourbreathwasuponmyface,andI', 'knewyouall.', '', 'Ay,Iknewyourjoyandyourpain,', 'andinyoursleepyourdreamsweremy', 'dreams.', '', 'AndoftentimesIwasamongyoualake', 'amongthemountains.', '', 'Imirroredthesummitsinyouandthe', '95}bendingslopes,andeventhe', 'passingflocksofyourthoughtsandyour', 'desires.', '', 'Andtomysilencecamethelaughter', 'ofyourchildreninstreams,andthe', 'longingofyouryouthsinrivers.', '', 'Andwhentheyreachedmydepththe', 'streamsandtheriversceasednotyetto', 'sing.', '', '[Illustration:0119]', '', 'Butsweeterstillthanlaughterand', 'greaterthanlongingcametome.', '', 'Itwastheboundlessinyou;', '', 'Thevastmaninwhomyouareallbut', 'cellsandsinews;', '', 'Heinwhosechantallyoursingingis', 'butasoundlessthrobbing.', '', 'Itisinthevastmanthatyouarevast,', '', 'AndinbeholdinghimthatIbeheldyou', 'andlovedyou.', '', 'Forwhatdistancescanlovereachthat', 'arenotinthatvastsphere?', '', 'Whatvisions,whatexpectationsandwhat', 'presumptionscanoutsoarthatflight?', '', 'Likeagiantoaktreecoveredwithapple', 'blossomsisthevastmaninyou.96}His', 'mightbindsyoutotheearth,his', 'fragranceliftsyouintospace,andin', 'hisdurabilityyouaredeathless.', '', '*****', '', 'Youhavebeentoldthat,evenlikea', 'chain,youareasweakasyourweakest', 'link.', '', 'Thisisbuthalfthetruth.Youarealso', 'asstrongasyourstrongestlink.', '', 'Tomeasureyoubyyoursmallestdeed', 'istoreckonthepowerofoceanbythe', 'frailtyofitsfoam.', '', 'Tojudgeyoubyyourfailuresisto', 'castblameupontheseasonsfortheir', 'inconstancy.', '', 'Ay,youarelikeanocean,', '', 'Andthoughheavy-groundedshipsawait', 'thetideuponyourshores,yet,even', 'likeanocean,youcannothastenyour', 'tides.', '', 'Andliketheseasonsyouarealso,', '', 'Andthoughinyourwinteryoudenyyour', 'spring,', '', 'Yetspring,reposingwithinyou,smiles', 'inherdrowsinessandisnotoffended.', '97}ThinknotIsaythesethingsin', 'orderthatyoumaysaytheonetothe', 'other,“Hepraiseduswell.Hesawbut', 'thegoodinus.”', '', 'Ionlyspeaktoyouinwordsofthat', 'whichyouyourselvesknowinthought.', '', 'Andwhatiswordknowledgebutashadow', 'ofwordlessknowledge?', '', 'Yourthoughtsandmywordsarewaves', 'fromasealedmemorythatkeepsrecords', 'ofouryesterdays,', '', 'Andoftheancientdayswhentheearth', 'knewnotusnorherself,', '', 'Andofnightswhenearthwasup-wrought', 'withconfusion.', '', '*****', '', 'Wisemenhavecometoyoutogiveyou', 'oftheirwisdom.Icametotakeofyour', 'wisdom:', '', 'AndbeholdIhavefoundthatwhichis', 'greaterthanwisdom.', '', 'Itisaflamespiritinyouever', 'gatheringmoreofitself,', '', 'Whileyou,heedlessofitsexpansion,', 'bewailthewitheringofyourdays.', '98}Itislifeinquestoflifein', 'bodiesthatfearthegrave.', '', '*****', '', 'Therearenograveshere.', '', 'Thesemountainsandplainsareacradle', 'andastepping-stone.', '', 'Wheneveryoupassbythefieldwhere', 'youhavelaidyourancestorslookwell', 'thereupon,andyoushallseeyourselves', 'andyourchildrendancinghandinhand.', '', 'Verilyyouoftenmakemerrywithout', 'knowing.', '', 'Othershavecometoyoutowhomfor', 'goldenpromisesmadeuntoyourfaith', 'youhavegivenbutrichesandpowerand', 'glory.', '', 'LessthanapromisehaveIgiven,and', 'yetmoregeneroushaveyoubeentome.', '', 'Youhavegivenmemydeeperthirsting', 'afterlife.', '', 'Surelythereisnogreatergifttoaman', 'thanthatwhichturnsallhisaims', 'intoparchinglipsandalllifeintoa', 'fountain.', '', '[Illustration:0125]', '', '99}Andinthisliesmyhonourandmy', 'reward,--', '', 'ThatwheneverIcometothefountain', 'todrinkIfindthelivingwateritself', 'thirsty;', '', 'AnditdrinksmewhileIdrinkit.', '', '*****', '', 'Someofyouhavedeemedmeproudand', 'over-shytoreceivegifts.', '', 'TooproudindeedamItoreceivewages,', 'butnotgifts.', '', 'AndthoughIhaveeatenberriesamong', 'thehillswhenyouwouldhavehadmesit', 'atyourboard,', '', 'Andsleptintheporticoofthetemple', 'whenyouwouldgladlyhaveshelteredme,', '', 'Yetwasitnotyourlovingmindfulness', 'ofmydaysandmynightsthatmadefood', 'sweettomymouthandgirdledmysleep', 'withvisions?', '', 'ForthisIblessyoumost:', '', 'Yougivemuchandknownotthatyougive', 'atall.100}Verilythekindnessthat', 'gazesuponitselfinamirrorturnsto', 'stone,', '', 'Andagooddeedthatcallsitselfby', 'tendernamesbecomestheparenttoa', 'curse.', '', '*****', '', 'Andsomeofyouhavecalledmealoof,', 'anddrunkwithmyownaloneness,', '', 'Andyouhavesaid,“Heholdscouncil', 'withthetreesoftheforest,butnot', 'withmen.', '', 'Hesitsaloneonhill-topsandlooks', 'downuponourcity.”', '', 'TrueitisthatIhaveclimbedthehills', 'andwalkedinremoteplaces.', '', 'HowcouldIhaveseenyousavefroma', 'greatheightoragreatdistance?', '', 'Howcanonebeindeednearunlesshebe', 'tar?', '', 'Andothersamongyoucalleduntome,not', 'inwords,andtheysaid,', '', '“Stranger,stranger,loverof', 'unreachableheights,whydwellyouamong', 'thesummitswhereeaglesbuild', 'theirnests?101}Whyseekyouthe', 'unattainable?', '', 'Whatstormswouldyoutrapinyournet,', '', 'Andwhatvaporousbirdsdoyouhuntin', 'thesky?', '', 'Comeandbeoneofus.', '', 'Descendandappeaseyourhungerwithour', 'breadandquenchyourthirstwithour', 'wine.”', '', 'Inthesolitudeoftheirsoulstheysaid', 'thesethings;', '', 'Butweretheirsolitudedeeperthey', 'wouldhaveknownthatIsoughtbutthe', 'secretofyourjoyandyourpain,', '', 'AndIhuntedonlyyourlargerselves', 'thatwalkthesky.', '', '*****', '', 'Butthehunterwasalsothehunted;', '', 'Formanyofmyarrowsleftmybowonly', 'toseekmyownbreast.', '', 'Andtheflierwasalsothecreeper;', '', 'Forwhenmywingswerespreadinthe', 'suntheirshadowupontheearthwasa', 'turtle.', '', 'AndIthebelieverwasalsothedoubter;', '102}ForoftenhaveIputmyfinger', 'inmyownwoundthatImighthavethe', 'greaterbeliefinyouandthegreater', 'knowledgeofyou.', '', '*****', '', 'Anditiswiththisbeliefandthis', 'knowledgethatIsay,', '', 'Youarenotenclosedwithinyourbodies,', 'norconfinedtohousesorfields.', '', 'Thatwhichisyoudwellsabovethe', 'mountainandroveswiththewind.', '', 'Itisnotathingthatcrawlsinto', 'thesunforwarmthordigsholesinto', 'darknessforsafety,', '', 'Butathingfree,aspiritthatenvelops', 'theearthandmovesintheether.', '', 'Ifthesebevaguewords,thenseeknot', 'toclearthem.', '', 'Vagueandnebulousisthebeginningof', 'allthings,butnottheirend,', '', 'AndIfainwouldhaveyouremembermeas', 'abeginning.', '', 'Life,andallthatlives,isconceived', 'inthemistandnotinthecrystal.', '103}Andwhoknowsbutacrystalismist', 'indecay?', '', '*****', '', 'ThiswouldIhaveyourememberin', 'rememberingme:', '', 'Thatwhichseemsmostfeebleand', 'bewilderedinyouisthestrongestand', 'mostdetermined.', '', 'Isitnotyourbreaththathaserected', 'andhardenedthestructureofyour', 'bones?', '', 'Andisitnotadreamwhichnoneofyou', 'rememberhavingdreamt,thatbuilded', 'yourcityandfashionedallthereisin', 'it?', '', 'Couldyoubutseethetidesofthat', 'breathyouwouldceasetoseeallelse,', '', 'Andifyoucouldhearthewhisperingof', 'thedreamyouwouldhearnoothersound.', '', 'Butyoudonotsee,nordoyouhear,and', 'itiswell.', '', 'Theveilthatcloudsyoureyesshallbe', 'liftedbythehandsthatwoveit,', '', 'Andtheclaythatfillsyourearsshall', 'bepiercedbythosefingersthatkneaded', 'it.104}Andyoushallsee.', '', 'Andyoushallhear.', '', 'Yetyoushallnotdeplorehavingknown', 'blindness,norregrethavingbeendeaf.', '', 'Forinthatdayyoushallknowthe', 'hiddenpurposesinallthings,', '', 'Andyoushallblessdarknessasyou', 'wouldblesslight.', '', 'Aftersayingthesethingshelooked', 'abouthim,andhesawthepilotofhis', 'shipstandingbythehelmandgazing', 'nowatthefullsailsandnowatthe', 'distance.', '', 'Andhesaid:', '', 'Patient,overpatient,isthecaptainof', 'myship.', '', 'Thewindblows,andrestlessarethe', 'sails;', '', 'Eventherudderbegsdirection;', '', 'Yetquietlymycaptainawaitsmy', 'silence.', '', 'Andthesemymariners,whohaveheard', 'thechoirofthegreatersea,theytoo', 'haveheardmepatiently.105}Nowthey', 'shallwaitnolonger.', '', 'Iamready.', '', 'Thestreamhasreachedthesea,and', 'oncemorethegreatmotherholdsherson', 'againstherbreast.', '', '*****', '', 'Fareyouwell,peopleofOrphalese.', '', 'Thisdayhasended.', '', 'Itisclosinguponusevenasthe', 'water-lilyuponitsowntomorrow.', '', 'Whatwasgivenushereweshallkeep,', '', 'Andifitsufficesnot,thenagainmust', 'wecometogetherandtogetherstretch', 'ourhandsuntothegiver.', '', 'ForgetnotthatIshallcomebackto', 'you.', '', 'Alittlewhile,andmylongingshall', 'gatherdustandfoamforanotherbody.', '', 'Alittlewhile,amomentofrestupon', 'thewind,andanotherwomanshallbear', 'me.', '', 'FarewelltoyouandtheyouthIhave', 'spentwithyou.', '', 'Itwasbutyesterdaywemetina', 'dream.106}Youhavesungtomeinmy', 'aloneness,andIofyourlongingshave', 'builtatowerinthesky.', '', 'Butnowoursleephasfledandourdream', 'isover,anditisnolongerdawn.', '', 'Thenoontideisuponusandourhalf', 'wakinghasturnedtofullerday,andwe', 'mustpart.', '', 'Ifinthetwilightofmemoryweshould', 'meetoncemore,weshallspeakagain', 'togetherandyoushallsingtomea', 'deepersong.', '', 'Andifourhandsshouldmeetinanother', 'dreamweshallbuildanothertowerin', 'thesky.', '', '*****', '', 'Sosayinghemadeasignaltothe', 'seamen,andstraightwaytheyweighed', 'anchorandcasttheshiploosefromits', 'moorings,andtheymovedeastward.', '', 'Andacrycamefromthepeopleasfroma', 'singleheart,anditroseintothedusk', 'andwascarriedoutoverthesealikea', 'greattrumpeting.', '', 'OnlyAlmitrawassilent,gazingafter', '107}theshipuntilithadvanishedinto', 'themist.', '', 'Andwhenallthepeopleweredispersed', 'shestillstoodaloneuponthesea-wall,', 'rememberinginherhearthissaying,', '', '“Alittlewhile,amomentofrestupon', 'thewind,andanotherwomanshallbear', 'me.”', '', '[Illustration:0134]', '', '', '', '', '', '', '', '', 'EndoftheProjectGutenbergEBookofTheProphet,byKahlilGibran', '', '***ENDOFTHISPROJECTGUTENBERGEBOOKTHEPROPHET***', '', '*****Thisfileshouldbenamed58585-0.txtor58585-0.zip*****', 'Thisandallassociatedfilesofvariousformatswillbefoundin:', 'http://www.gutenberg.org/5/8/5/8/58585/', '', 'ProducedbyDavidWidgerfrompageimagesgenerously', 'providedbytheInternetArchive', '', '', 'Updatededitionswillreplacethepreviousone--theoldeditionswill', 'berenamed.', '', 'CreatingtheworksfromprinteditionsnotprotectedbyU.S.copyright', 'lawmeansthatnooneownsaUnitedStatescopyrightintheseworks,', 'sotheFoundation(andyou!)cancopyanddistributeitintheUnited', 'Stateswithoutpermissionandwithoutpayingcopyright', 'royalties.Specialrules,setforthintheGeneralTermsofUsepart', 'ofthislicense,applytocopyinganddistributingProject', 'Gutenberg-tmelectronicworkstoprotectthePROJECTGUTENBERG-tm', 'conceptandtrademark.ProjectGutenbergisaregisteredtrademark,', 'andmaynotbeusedifyouchargefortheeBooks,unlessyoureceive', 'specificpermission.Ifyoudonotchargeanythingforcopiesofthis', 'eBook,complyingwiththerulesisveryeasy.YoumayusethiseBook', 'fornearlyanypurposesuchascreationofderivativeworks,reports,', 'performancesandresearch.Theymaybemodifiedandprintedandgiven', 'away--youmaydopracticallyANYTHINGintheUnitedStateswitheBooks', 'notprotectedbyU.S.copyrightlaw.Redistributionissubjecttothe', 'trademarklicense,especiallycommercialredistribution.', '', 'START:FULLLICENSE', '', 'THEFULLPROJECTGUTENBERGLICENSE', 'PLEASEREADTHISBEFOREYOUDISTRIBUTEORUSETHISWORK', '', 'ToprotecttheProjectGutenberg-tmmissionofpromotingthefree', 'distributionofelectronicworks,byusingordistributingthiswork', '(oranyotherworkassociatedinanywaywiththephrase\"Project', 'Gutenberg\"),youagreetocomplywithallthetermsoftheFull', 'ProjectGutenberg-tmLicenseavailablewiththisfileoronlineat', 'www.gutenberg.org/license.', '', 'Section1.GeneralTermsofUseandRedistributingProject', 'Gutenberg-tmelectronicworks', '', '1.A.ByreadingorusinganypartofthisProjectGutenberg-tm', 'electronicwork,youindicatethatyouhaveread,understand,agreeto', 'andacceptallthetermsofthislicenseandintellectualproperty', '(trademark/copyright)agreement.Ifyoudonotagreetoabidebyall', 'thetermsofthisagreement,youmustceaseusingandreturnor', 'destroyallcopiesofProjectGutenberg-tmelectronicworksinyour', 'possession.Ifyoupaidafeeforobtainingacopyoforaccesstoa', 'ProjectGutenberg-tmelectronicworkandyoudonotagreetobebound', 'bythetermsofthisagreement,youmayobtainarefundfromthe', 'personorentitytowhomyoupaidthefeeassetforthinparagraph', '1.E.8.', '', '1.B.\"ProjectGutenberg\"isaregisteredtrademark.Itmayonlybe', 'usedonorassociatedinanywaywithanelectronicworkbypeoplewho', 'agreetobeboundbythetermsofthisagreement.Thereareafew', 'thingsthatyoucandowithmostProjectGutenberg-tmelectronicworks', 'evenwithoutcomplyingwiththefulltermsofthisagreement.See', 'paragraph1.Cbelow.TherearealotofthingsyoucandowithProject', 'Gutenberg-tmelectronicworksifyoufollowthetermsofthis', 'agreementandhelppreservefreefutureaccesstoProjectGutenberg-tm', 'electronicworks.Seeparagraph1.Ebelow.', '', '1.C.TheProjectGutenbergLiteraryArchiveFoundation(\"the', 'Foundation\"orPGLAF),ownsacompilationcopyrightinthecollection', 'ofProjectGutenberg-tmelectronicworks.Nearlyalltheindividual', 'worksinthecollectionareinthepublicdomainintheUnited', 'States.Ifanindividualworkisunprotectedbycopyrightlawinthe', 'UnitedStatesandyouarelocatedintheUnitedStates,wedonot', 'claimarighttopreventyoufromcopying,distributing,performing,', 'displayingorcreatingderivativeworksbasedontheworkaslongas', 'allreferencestoProjectGutenbergareremoved.Ofcourse,wehope', 'thatyouwillsupporttheProjectGutenberg-tmmissionofpromoting', 'freeaccesstoelectronicworksbyfreelysharingProjectGutenberg-tm', 'worksincompliancewiththetermsofthisagreementforkeepingthe', 'ProjectGutenberg-tmnameassociatedwiththework.Youcaneasily', 'complywiththetermsofthisagreementbykeepingthisworkinthe', 'sameformatwithitsattachedfullProjectGutenberg-tmLicensewhen', 'youshareitwithoutchargewithothers.', '', '1.D.Thecopyrightlawsoftheplacewhereyouarelocatedalsogovern', 'whatyoucandowiththiswork.Copyrightlawsinmostcountriesare', 'inaconstantstateofchange.IfyouareoutsidetheUnitedStates,', 'checkthelawsofyourcountryinadditiontothetermsofthis', 'agreementbeforedownloading,copying,displaying,performing,', 'distributingorcreatingderivativeworksbasedonthisworkorany', 'otherProjectGutenberg-tmwork.TheFoundationmakesno', 'representationsconcerningthecopyrightstatusofanyworkinany', 'countryoutsidetheUnitedStates.', '', '1.E.UnlessyouhaveremovedallreferencestoProjectGutenberg:', '', '1.E.1.Thefollowingsentence,withactivelinksto,orother', 'immediateaccessto,thefullProjectGutenberg-tmLicensemustappear', 'prominentlywheneveranycopyofaProjectGutenberg-tmwork(anywork', 'onwhichthephrase\"ProjectGutenberg\"appears,orwithwhichthe', 'phrase\"ProjectGutenberg\"isassociated)isaccessed,displayed,', 'performed,viewed,copiedordistributed:', '', 'ThiseBookisfortheuseofanyoneanywhereintheUnitedStatesand', 'mostotherpartsoftheworldatnocostandwithalmostno', 'restrictionswhatsoever.Youmaycopyit,giveitawayorre-useit', 'underthetermsoftheProjectGutenbergLicenseincludedwiththis', 'eBookoronlineatwww.gutenberg.org.Ifyouarenotlocatedinthe', \"UnitedStates,you'llhavetocheckthelawsofthecountrywhereyou\", 'arelocatedbeforeusingthisebook.', '', '1.E.2.IfanindividualProjectGutenberg-tmelectronicworkis', 'derivedfromtextsnotprotectedbyU.S.copyrightlaw(doesnot', 'containanoticeindicatingthatitispostedwithpermissionofthe', 'copyrightholder),theworkcanbecopiedanddistributedtoanyonein', 'theUnitedStateswithoutpayinganyfeesorcharges.Ifyouare', 'redistributingorprovidingaccesstoaworkwiththephrase\"Project', 'Gutenberg\"associatedwithorappearingonthework,youmustcomply', 'eitherwiththerequirementsofparagraphs1.E.1through1.E.7or', 'obtainpermissionfortheuseoftheworkandtheProjectGutenberg-tm', 'trademarkassetforthinparagraphs1.E.8or1.E.9.', '', '1.E.3.IfanindividualProjectGutenberg-tmelectronicworkisposted', 'withthepermissionofthecopyrightholder,youruseanddistribution', 'mustcomplywithbothparagraphs1.E.1through1.E.7andany', 'additionaltermsimposedbythecopyrightholder.Additionalterms', 'willbelinkedtotheProjectGutenberg-tmLicenseforallworks', 'postedwiththepermissionofthecopyrightholderfoundatthe', 'beginningofthiswork.', '', '1.E.4.DonotunlinkordetachorremovethefullProjectGutenberg-tm', 'Licensetermsfromthiswork,oranyfilescontainingapartofthis', 'workoranyotherworkassociatedwithProjectGutenberg-tm.', '', '1.E.5.Donotcopy,display,perform,distributeorredistributethis', 'electronicwork,oranypartofthiselectronicwork,without', 'prominentlydisplayingthesentencesetforthinparagraph1.E.1with', 'activelinksorimmediateaccesstothefulltermsoftheProject', 'Gutenberg-tmLicense.', '', '1.E.6.Youmayconverttoanddistributethisworkinanybinary,', 'compressed,markedup,nonproprietaryorproprietaryform,including', 'anywordprocessingorhypertextform.However,ifyouprovideaccess', 'toordistributecopiesofaProjectGutenberg-tmworkinaformat', 'otherthan\"PlainVanillaASCII\"orotherformatusedintheofficial', 'versionpostedontheofficialProjectGutenberg-tmwebsite', '(www.gutenberg.org),youmust,atnoadditionalcost,feeorexpense', 'totheuser,provideacopy,ameansofexportingacopy,orameans', 'ofobtainingacopyuponrequest,oftheworkinitsoriginal\"Plain', 'VanillaASCII\"orotherform.Anyalternateformatmustincludethe', 'fullProjectGutenberg-tmLicenseasspecifiedinparagraph1.E.1.', '', '1.E.7.Donotchargeafeeforaccessto,viewing,displaying,', 'performing,copyingordistributinganyProjectGutenberg-tmworks', 'unlessyoucomplywithparagraph1.E.8or1.E.9.', '', '1.E.8.Youmaychargeareasonablefeeforcopiesoforproviding', 'accesstoordistributingProjectGutenberg-tmelectronicworks', 'providedthat', '', '*Youpayaroyaltyfeeof20%ofthegrossprofitsyouderivefrom', 'theuseofProjectGutenberg-tmworkscalculatedusingthemethod', 'youalreadyusetocalculateyourapplicabletaxes.Thefeeisowed', 'totheowneroftheProjectGutenberg-tmtrademark,buthehas', 'agreedtodonateroyaltiesunderthisparagraphtotheProject', 'GutenbergLiteraryArchiveFoundation.Royaltypaymentsmustbepaid', 'within60daysfollowingeachdateonwhichyouprepare(orare', 'legallyrequiredtoprepare)yourperiodictaxreturns.Royalty', 'paymentsshouldbeclearlymarkedassuchandsenttotheProject', 'GutenbergLiteraryArchiveFoundationattheaddressspecifiedin', 'Section4,\"InformationaboutdonationstotheProjectGutenberg', 'LiteraryArchiveFoundation.\"', '', '*Youprovideafullrefundofanymoneypaidbyauserwhonotifies', 'youinwriting(orbye-mail)within30daysofreceiptthats/he', 'doesnotagreetothetermsofthefullProjectGutenberg-tm', 'License.Youmustrequiresuchausertoreturnordestroyall', 'copiesoftheworkspossessedinaphysicalmediumanddiscontinue', 'alluseofandallaccesstoothercopiesofProjectGutenberg-tm', 'works.', '', '*Youprovide,inaccordancewithparagraph1.F.3,afullrefundof', 'anymoneypaidforaworkorareplacementcopy,ifadefectinthe', 'electronicworkisdiscoveredandreportedtoyouwithin90daysof', 'receiptofthework.', '', '*Youcomplywithallothertermsofthisagreementforfree', 'distributionofProjectGutenberg-tmworks.', '', '1.E.9.IfyouwishtochargeafeeordistributeaProject', 'Gutenberg-tmelectronicworkorgroupofworksondifferenttermsthan', 'aresetforthinthisagreement,youmustobtainpermissioninwriting', 'fromboththeProjectGutenbergLiteraryArchiveFoundationandThe', 'ProjectGutenbergTrademarkLLC,theowneroftheProjectGutenberg-tm', 'trademark.ContacttheFoundationassetforthinSection3below.', '', '1.F.', '', '1.F.1.ProjectGutenbergvolunteersandemployeesexpendconsiderable', 'efforttoidentify,docopyrightresearchon,transcribeandproofread', 'worksnotprotectedbyU.S.copyrightlawincreatingtheProject', 'Gutenberg-tmcollection.Despitetheseefforts,ProjectGutenberg-tm', 'electronicworks,andthemediumonwhichtheymaybestored,may', 'contain\"Defects,\"suchas,butnotlimitedto,incomplete,inaccurate', 'orcorruptdata,transcriptionerrors,acopyrightorother', 'intellectualpropertyinfringement,adefectiveordamageddiskor', 'othermedium,acomputervirus,orcomputercodesthatdamageor', 'cannotbereadbyyourequipment.', '', '1.F.2.LIMITEDWARRANTY,DISCLAIMEROFDAMAGES-Exceptforthe\"Right', 'ofReplacementorRefund\"describedinparagraph1.F.3,theProject', 'GutenbergLiteraryArchiveFoundation,theowneroftheProject', 'Gutenberg-tmtrademark,andanyotherpartydistributingaProject', 'Gutenberg-tmelectronicworkunderthisagreement,disclaimall', 'liabilitytoyoufordamages,costsandexpenses,includinglegal', 'fees.YOUAGREETHATYOUHAVENOREMEDIESFORNEGLIGENCE,STRICT', 'LIABILITY,BREACHOFWARRANTYORBREACHOFCONTRACTEXCEPTTHOSE', 'PROVIDEDINPARAGRAPH1.F.3.YOUAGREETHATTHEFOUNDATION,THE', 'TRADEMARKOWNER,ANDANYDISTRIBUTORUNDERTHISAGREEMENTWILLNOTBE', 'LIABLETOYOUFORACTUAL,DIRECT,INDIRECT,CONSEQUENTIAL,PUNITIVEOR', 'INCIDENTALDAMAGESEVENIFYOUGIVENOTICEOFTHEPOSSIBILITYOFSUCH', 'DAMAGE.', '', '1.F.3.LIMITEDRIGHTOFREPLACEMENTORREFUND-Ifyoudiscovera', 'defectinthiselectronicworkwithin90daysofreceivingit,youcan', 'receivearefundofthemoney(ifany)youpaidforitbysendinga', 'writtenexplanationtothepersonyoureceivedtheworkfrom.Ifyou', 'receivedtheworkonaphysicalmedium,youmustreturnthemedium', 'withyourwrittenexplanation.Thepersonorentitythatprovidedyou', 'withthedefectiveworkmayelecttoprovideareplacementcopyin', 'lieuofarefund.Ifyoureceivedtheworkelectronically,theperson', 'orentityprovidingittoyoumaychoosetogiveyouasecond', 'opportunitytoreceivetheworkelectronicallyinlieuofarefund.If', 'thesecondcopyisalsodefective,youmaydemandarefundinwriting', 'withoutfurtheropportunitiestofixtheproblem.', '', '1.F.4.Exceptforthelimitedrightofreplacementorrefundsetforth', \"inparagraph1.F.3,thisworkisprovidedtoyou'AS-IS',WITHNO\", 'OTHERWARRANTIESOFANYKIND,EXPRESSORIMPLIED,INCLUDINGBUTNOT', 'LIMITEDTOWARRANTIESOFMERCHANTABILITYORFITNESSFORANYPURPOSE.', '', '1.F.5.Somestatesdonotallowdisclaimersofcertainimplied', 'warrantiesortheexclusionorlimitationofcertaintypesof', 'damages.Ifanydisclaimerorlimitationsetforthinthisagreement', 'violatesthelawofthestateapplicabletothisagreement,the', 'agreementshallbeinterpretedtomakethemaximumdisclaimeror', 'limitationpermittedbytheapplicablestatelaw.Theinvalidityor', 'unenforceabilityofanyprovisionofthisagreementshallnotvoidthe', 'remainingprovisions.', '', '1.F.6.INDEMNITY-YouagreetoindemnifyandholdtheFoundation,the', 'trademarkowner,anyagentoremployeeoftheFoundation,anyone', 'providingcopiesofProjectGutenberg-tmelectronicworksin', 'accordancewiththisagreement,andanyvolunteersassociatedwiththe', 'production,promotionanddistributionofProjectGutenberg-tm', 'electronicworks,harmlessfromallliability,costsandexpenses,', 'includinglegalfees,thatarisedirectlyorindirectlyfromanyof', 'thefollowingwhichyoudoorcausetooccur:(a)distributionofthis', 'oranyProjectGutenberg-tmwork,(b)alteration,modification,or', 'additionsordeletionstoanyProjectGutenberg-tmwork,and(c)any', 'Defectyoucause.', '', 'Section2.InformationabouttheMissionofProjectGutenberg-tm', '', 'ProjectGutenberg-tmissynonymouswiththefreedistributionof', 'electronicworksinformatsreadablebythewidestvarietyof', 'computersincludingobsolete,old,middle-agedandnewcomputers.It', 'existsbecauseoftheeffortsofhundredsofvolunteersanddonations', 'frompeopleinallwalksoflife.', '', 'Volunteersandfinancialsupporttoprovidevolunteerswiththe', \"assistancetheyneedarecriticaltoreachingProjectGutenberg-tm's\", 'goalsandensuringthattheProjectGutenberg-tmcollectionwill', 'remainfreelyavailableforgenerationstocome.In2001,theProject', 'GutenbergLiteraryArchiveFoundationwascreatedtoprovideasecure', 'andpermanentfutureforProjectGutenberg-tmandfuture', 'generations.TolearnmoreabouttheProjectGutenbergLiterary', 'ArchiveFoundationandhowyoureffortsanddonationscanhelp,see', 'Sections3and4andtheFoundationinformationpageat', 'www.gutenberg.orgSection3.InformationabouttheProjectGutenberg', 'LiteraryArchiveFoundation', '', 'TheProjectGutenbergLiteraryArchiveFoundationisanonprofit', '501(c)(3)educationalcorporationorganizedunderthelawsofthe', 'stateofMississippiandgrantedtaxexemptstatusbytheInternal', \"RevenueService.TheFoundation'sEINorfederaltaxidentification\", 'numberis64-6221541.ContributionstotheProjectGutenbergLiterary', 'ArchiveFoundationaretaxdeductibletothefullextentpermittedby', \"U.S.federallawsandyourstate'slaws.\", '', \"TheFoundation'sprincipalofficeisinFairbanks,Alaska,withthe\", 'mailingaddress:POBox750175,Fairbanks,AK99775,butits', 'volunteersandemployeesarescatteredthroughoutnumerous', 'locations.Itsbusinessofficeislocatedat809North1500West,Salt', 'LakeCity,UT84116,(801)596-1887.Emailcontactlinksandupto', \"datecontactinformationcanbefoundattheFoundation'swebsiteand\", 'officialpageatwww.gutenberg.org/contact', '', 'Foradditionalcontactinformation:', '', 'Dr.GregoryB.Newby', 'ChiefExecutiveandDirector', 'gbnewby@pglaf.org', '', 'Section4.InformationaboutDonationstotheProjectGutenberg', 'LiteraryArchiveFoundation', '', 'ProjectGutenberg-tmdependsuponandcannotsurvivewithoutwide', 'spreadpublicsupportanddonationstocarryoutitsmissionof', 'increasingthenumberofpublicdomainandlicensedworksthatcanbe', 'freelydistributedinmachinereadableformaccessiblebythewidest', 'arrayofequipmentincludingoutdatedequipment.Manysmalldonations', '($1to$5,000)areparticularlyimportanttomaintainingtaxexempt', 'statuswiththeIRS.', '', 'TheFoundationiscommittedtocomplyingwiththelawsregulating', 'charitiesandcharitabledonationsinall50statesoftheUnited', 'States.Compliancerequirementsarenotuniformandittakesa', 'considerableeffort,muchpaperworkandmanyfeestomeetandkeepup', 'withtheserequirements.Wedonotsolicitdonationsinlocations', 'wherewehavenotreceivedwrittenconfirmationofcompliance.ToSEND', 'DONATIONSordeterminethestatusofcomplianceforanyparticular', 'statevisitwww.gutenberg.org/donate', '', 'Whilewecannotanddonotsolicitcontributionsfromstateswherewe', 'havenotmetthesolicitationrequirements,weknowofnoprohibition', 'againstacceptingunsoliciteddonationsfromdonorsinsuchstateswho', 'approachuswithofferstodonate.', '', 'Internationaldonationsaregratefullyaccepted,butwecannotmake', 'anystatementsconcerningtaxtreatmentofdonationsreceivedfrom', 'outsidetheUnitedStates.U.S.lawsaloneswampoursmallstaff.', '', 'PleasechecktheProjectGutenbergWebpagesforcurrentdonation', 'methodsandaddresses.Donationsareacceptedinanumberofother', 'waysincludingchecks,onlinepaymentsandcreditcarddonations.To', 'donate,pleasevisit:www.gutenberg.org/donate', '', 'Section5.GeneralInformationAboutProjectGutenberg-tmelectronicworks.', '', 'ProfessorMichaelS.HartwastheoriginatoroftheProject', 'Gutenberg-tmconceptofalibraryofelectronicworksthatcouldbe', 'freelysharedwithanyone.Forfortyyears,heproducedand', 'distributedProjectGutenberg-tmeBookswithonlyaloosenetworkof', 'volunteersupport.', '', 'ProjectGutenberg-tmeBooksareoftencreatedfromseveralprinted', 'editions,allofwhichareconfirmedasnotprotectedbycopyrightin', 'theU.S.unlessacopyrightnoticeisincluded.Thus,wedonot', 'necessarilykeepeBooksincompliancewithanyparticularpaper', 'edition.', '', 'MostpeoplestartatourWebsitewhichhasthemainPGsearch', 'facility:www.gutenberg.org', '', 'ThisWebsiteincludesinformationaboutProjectGutenberg-tm,', 'includinghowtomakedonationstotheProjectGutenbergLiterary', 'ArchiveFoundation,howtohelpproduceourneweBooks,andhowto', 'subscribetoouremailnewslettertohearaboutneweBooks.', '', '']\n"
     ]
    }
   ],
   "source": [
    "#convert the list of string in a unique string:\n",
    "str2 = ''.join(text1)\n",
    "#print(str1)\n",
    "\n",
    "\n",
    "word2 = str2.split('\\n')\n",
    "print(word2)\n",
    "\n",
    "\n",
    "y = re.findall(\"({\\d*}\\w*\\s\\w*)\",str2)   \n",
    "        # I want characters described by:\n",
    "        #1.{ -corchete-  2.\\d*  -zero or more letters-   3.\\s -space-    4. \\w* -zero or more letters-\n",
    "#print(x)\n",
    "for i in range(len(y)):\n",
    "    if x in word2:\n",
    "         word1.remove[y]\n",
    "    else:\n",
    "         word2\n",
    "print(x)\n",
    "#type(prophet)"
   ]
  },
  {
   "cell_type": "markdown",
   "metadata": {},
   "source": [
    "Apply the `line_break` function to the `prophet_reference` list. Name the new list `prophet_line`."
   ]
  },
  {
   "cell_type": "code",
   "execution_count": null,
   "metadata": {},
   "outputs": [],
   "source": [
    "# your code here\n",
    "\n",
    "text2 = list(map(line_break,text1))"
   ]
  },
  {
   "cell_type": "markdown",
   "metadata": {},
   "source": [
    "If you look at the elements of `prophet_line`, you will see that the function returned lists and not strings. Our list is now a list of lists. Flatten the list using list comprehension. Assign this new list to `prophet_flat`."
   ]
  },
  {
   "cell_type": "code",
   "execution_count": null,
   "metadata": {},
   "outputs": [],
   "source": [
    "# your code here\n",
    "\n"
   ]
  },
  {
   "cell_type": "markdown",
   "metadata": {},
   "source": [
    "# Challenge 2 - Filtering\n",
    "\n",
    "When printing out a few words from the book, we see that there are words that we may not want to keep if we choose to analyze the corpus of text. Below is a list of words that we would like to get rid of. Create a function that will return false if it contains a word from the list of words specified and true otherwise."
   ]
  },
  {
   "cell_type": "code",
   "execution_count": 142,
   "metadata": {},
   "outputs": [
    {
     "data": {
      "text/plain": [
       "True"
      ]
     },
     "execution_count": 142,
     "metadata": {},
     "output_type": "execute_result"
    }
   ],
   "source": [
    "def word_filter(x):\n",
    "    '''\n",
    "    Input: A string\n",
    "    Output: True if the word is not in the specified list \n",
    "    and False if the word is in the list.\n",
    "        \n",
    "    Example:\n",
    "    word list = ['and', 'the']\n",
    "    Input: 'and'\n",
    "    Output: False\n",
    "    \n",
    "    Input: 'John'\n",
    "    Output: True\n",
    "    '''\n",
    "    \n",
    "    word_list = ['and', 'the', 'a', 'an']\n",
    "    for el in word_list:\n",
    "        if el in x:\n",
    "            return(False)\n",
    "        else:\n",
    "            return(True)\n",
    "    \n",
    "word_filter('apple sun AND red')\n",
    "    # your code here"
   ]
  },
  {
   "cell_type": "code",
   "execution_count": 135,
   "metadata": {},
   "outputs": [
    {
     "name": "stdout",
     "output_type": "stream",
     "text": [
      "['a', 'p', 'p', 'l', 'e', ' ', 's', 'u', 'n', ' ', 'a', 'n', 'd', ' ', 'r', 'e', 'd']\n"
     ]
    }
   ],
   "source": [
    "a = 'apple sun and red'\n",
    "prophet_filter = list(filter(word_filter,a))\n",
    "print(prophet_filter)"
   ]
  },
  {
   "cell_type": "markdown",
   "metadata": {},
   "source": [
    "Use the `filter()` function to filter out the words speficied in the `word_filter()` function. Store the filtered list in the variable `prophet_filter`."
   ]
  },
  {
   "cell_type": "markdown",
   "metadata": {},
   "source": [
    "# Bonus Challenge\n",
    "\n",
    "Rewrite the `word_filter` function above to not be case sensitive."
   ]
  },
  {
   "cell_type": "code",
   "execution_count": 140,
   "metadata": {},
   "outputs": [
    {
     "data": {
      "text/plain": [
       "True"
      ]
     },
     "execution_count": 140,
     "metadata": {},
     "output_type": "execute_result"
    }
   ],
   "source": [
    "def word_filter_case(x):\n",
    "   \n",
    "    word_list = ['and', 'the', 'a', 'an']\n",
    "    \n",
    "    # your code here\n",
    "    \n",
    "    for el in word_list:\n",
    "        if el in x.lower(): ##we make sure that doesnt care if you put upper letter.\n",
    "            return(False)\n",
    "        else:\n",
    "            return(True)\n",
    "    \n",
    "word_filter('apple sun THE red')\n",
    "    # your code here"
   ]
  },
  {
   "cell_type": "markdown",
   "metadata": {},
   "source": [
    "# Challenge 3 - Reducing\n",
    "\n",
    "#### Now that we have significantly cleaned up our text corpus, let's use the `reduce()` function to put the words back together into one long string separated by spaces. \n",
    "\n",
    "from functools import reduceWe will start by writing a function that takes two strings and concatenates them together with a space between the two strings."
   ]
  },
  {
   "cell_type": "code",
   "execution_count": 146,
   "metadata": {},
   "outputs": [
    {
     "data": {
      "text/plain": [
       "'hola perro'"
      ]
     },
     "execution_count": 146,
     "metadata": {},
     "output_type": "execute_result"
    }
   ],
   "source": [
    "from functools import reduce\n",
    "def concat_space(a, b):\n",
    "    '''\n",
    "    Input:Two strings\n",
    "    Output: A single string separated by a space\n",
    "        \n",
    "    Example:\n",
    "    Input: 'John', 'Smith'\n",
    "    Output: 'John Smith'\n",
    "    '''\n",
    "    \n",
    "    # your code here\n",
    "    \n",
    "    return reduce(lambda a,b: a + ' '+ b,(a,b)) \n",
    "concat_space ('hola', 'perro')"
   ]
  },
  {
   "cell_type": "markdown",
   "metadata": {},
   "source": [
    "Use the function above to reduce the text corpus in the list `prophet_filter` into a single string. Assign this new string to the variable `prophet_string`."
   ]
  },
  {
   "cell_type": "code",
   "execution_count": 149,
   "metadata": {},
   "outputs": [
    {
     "data": {
      "text/plain": [
       "'a p p l e   s u n   a n d   r e d'"
      ]
     },
     "execution_count": 149,
     "metadata": {},
     "output_type": "execute_result"
    }
   ],
   "source": [
    "#Reminder prophet_filter is in variable a = 'apple sun and red'\n",
    "# your code here\n",
    "reduce(concat_space, prophet_filter)"
   ]
  },
  {
   "cell_type": "markdown",
   "metadata": {},
   "source": [
    "# Challenge 4 - Applying Functions to DataFrames\n",
    "\n",
    "#### Our next step is to use the apply function to a dataframe and transform all cells.\n",
    "\n",
    "To do this, we will connect to Ironhack's database and retrieve the data from the *pollution* database. Select the *beijing_pollution* table and retrieve its data."
   ]
  },
  {
   "cell_type": "code",
   "execution_count": null,
   "metadata": {},
   "outputs": [],
   "source": [
    "# your code here"
   ]
  },
  {
   "cell_type": "markdown",
   "metadata": {},
   "source": [
    "Let's look at the data using the `head()` function."
   ]
  },
  {
   "cell_type": "code",
   "execution_count": null,
   "metadata": {},
   "outputs": [],
   "source": [
    "# your code here"
   ]
  },
  {
   "cell_type": "markdown",
   "metadata": {},
   "source": [
    "The next step is to create a function that divides a cell by 24 to produce an hourly figure. Write the function below."
   ]
  },
  {
   "cell_type": "code",
   "execution_count": null,
   "metadata": {},
   "outputs": [],
   "source": [
    "def hourly(x):\n",
    "    '''\n",
    "    Input: A numerical value\n",
    "    Output: The value divided by 24\n",
    "        \n",
    "    Example:\n",
    "    Input: 48\n",
    "    Output: 2.0\n",
    "    '''\n",
    "    \n",
    "    # your code here"
   ]
  },
  {
   "cell_type": "markdown",
   "metadata": {},
   "source": [
    "Apply this function to the columns `Iws`, `Is`, and `Ir`. Store this new dataframe in the variable `pm25_hourly`."
   ]
  },
  {
   "cell_type": "code",
   "execution_count": null,
   "metadata": {},
   "outputs": [],
   "source": [
    "# your code here"
   ]
  },
  {
   "cell_type": "markdown",
   "metadata": {},
   "source": [
    "#### Our last challenge will be to create an aggregate function and apply it to a select group of columns in our dataframe.\n",
    "\n",
    "Write a function that returns the standard deviation of a column divided by the length of a column minus 1. Since we are using pandas, do not use the `len()` function. One alternative is to use `count()`. Also, use the numpy version of standard deviation."
   ]
  },
  {
   "cell_type": "code",
   "execution_count": null,
   "metadata": {},
   "outputs": [],
   "source": [
    "def sample_sd(x):\n",
    "    '''\n",
    "    Input: A Pandas series of values\n",
    "    Output: the standard deviation divided by the number of elements in the series\n",
    "        \n",
    "    Example:\n",
    "    Input: pd.Series([1,2,3,4])\n",
    "    Output: 0.3726779962\n",
    "    '''\n",
    "    \n",
    "    # your code here"
   ]
  }
 ],
 "metadata": {
  "kernelspec": {
   "display_name": "Python 3",
   "language": "python",
   "name": "python3"
  },
  "language_info": {
   "codemirror_mode": {
    "name": "ipython",
    "version": 3
   },
   "file_extension": ".py",
   "mimetype": "text/x-python",
   "name": "python",
   "nbconvert_exporter": "python",
   "pygments_lexer": "ipython3",
   "version": "3.7.3"
  }
 },
 "nbformat": 4,
 "nbformat_minor": 2
}
