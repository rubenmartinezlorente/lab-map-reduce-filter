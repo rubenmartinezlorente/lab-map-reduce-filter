{
 "cells": [
  {
   "cell_type": "markdown",
   "metadata": {},
   "source": [
    "# Before your start:\n",
    "- Read the README.md file\n",
    "- Comment as much as you can and use the resources in the README.md file\n",
    "- Happy learning!"
   ]
  },
  {
   "cell_type": "code",
   "execution_count": 1,
   "metadata": {},
   "outputs": [],
   "source": [
    "# Import reduce from functools, numpy and pandas\n",
    "from functools import reduce\n",
    "import numpy as np\n",
    "import pandas as pn"
   ]
  },
  {
   "cell_type": "markdown",
   "metadata": {},
   "source": [
    "# Challenge 1 - Mapping\n",
    "\n",
    "#### We will use the map function to clean up words in a book.\n",
    "\n",
    "In the following cell, we will read a text file containing the book The Prophet by Khalil Gibran."
   ]
  },
  {
   "cell_type": "code",
   "execution_count": 2,
   "metadata": {},
   "outputs": [
    {
     "name": "stdout",
     "output_type": "stream",
     "text": [
      "13637\n"
     ]
    }
   ],
   "source": [
    "# Run this code:\n",
    "\n",
    "location = '../data/58585-0.txt'\n",
    "with open(location, 'r', encoding=\"utf8\") as f:\n",
    "    prophet = f.read().split(' ')\n",
    "    \n",
    "#print(prophet)\n",
    "print(len(prophet))"
   ]
  },
  {
   "cell_type": "markdown",
   "metadata": {},
   "source": [
    "#### Let's remove the first 568 words since they contain information about the book but are not part of the book itself. \n",
    "\n",
    "Do this by removing from `prophet` elements 0 through 567 of the list (you can also do this by keeping elements 568 through the last element)."
   ]
  },
  {
   "cell_type": "code",
   "execution_count": 3,
   "metadata": {},
   "outputs": [
    {
     "name": "stdout",
     "output_type": "stream",
     "text": [
      "13070\n"
     ]
    }
   ],
   "source": [
    "del prophet[0:567]\n",
    "print(len(prophet))\n",
    "#print(prophet)"
   ]
  },
  {
   "cell_type": "code",
   "execution_count": 11,
   "metadata": {},
   "outputs": [
    {
     "name": "stdout",
     "output_type": "stream",
     "text": [
      "['Farewell................92\\n\\n\\n\\n\\nTHE', 'PROPHET\\n\\n|Almustafa,', 'the{7}', 'chosen', 'and', 'the\\nbeloved,', 'who', 'was', 'a', 'dawn', 'unto', 'his', 'own\\nday,', 'had', 'waited', 'twelve', 'years', 'in', 'the', 'city\\nof']\n"
     ]
    }
   ],
   "source": [
    "print(prophet[0:20])"
   ]
  },
  {
   "cell_type": "markdown",
   "metadata": {},
   "source": [
    "If you look through the words, you will find that many words have a reference attached to them. For example, let's look at words 1 through 10."
   ]
  },
  {
   "cell_type": "markdown",
   "metadata": {},
   "source": [
    "#### The next step is to create a function that will remove references. \n",
    "\n",
    "We will do this by splitting the string on the `{` character and keeping only the part before this character. Write your function below."
   ]
  },
  {
   "cell_type": "code",
   "execution_count": null,
   "metadata": {},
   "outputs": [],
   "source": [
    "def reference(x):\n",
    "    '''\n",
    "    Input: A string\n",
    "    Output: The string with references removed\n",
    "    \n",
    "    Example:\n",
    "    Input: 'the{7}'\n",
    "    Output: 'the'\n",
    "    '''\n"
   ]
  },
  {
   "cell_type": "code",
   "execution_count": 27,
   "metadata": {},
   "outputs": [],
   "source": [
    "# your code here\n",
    "import re\n",
    "def reference (x):\n",
    "\n",
    "\n"
   ]
  },
  {
   "cell_type": "code",
   "execution_count": 51,
   "metadata": {},
   "outputs": [
    {
     "name": "stdout",
     "output_type": "stream",
     "text": [
      "['Farewell................92\\n\\n\\n\\n\\nTHEPROPHET\\n\\n|Almustafa,the', '7}chosenandthe\\nbeloved,whowasadawnuntohisown\\nday,hadwaitedtwelveyearsinthecity\\nofOrphaleseforhisshipthatwasto\\nreturnandbearhimbacktotheisleof\\nhisbirth.\\n\\nAndinthetwelfthyear,ontheseventh\\ndayofIelool,themonthofreaping,he\\nclimbedthehillwithoutthecitywalls\\nandlookedseaward;andhebeheldhis\\nshipcomingwiththemist.\\n\\nThenthegatesofhisheartwereflung\\nopen,andhisjoyflewfaroverthesea.\\nAndheclosedhiseyesandprayedinthe\\nsilencesofhissoul.\\n\\n*****\\n\\nButashedescendedthehill,asadness\\ncameuponhim,andhethoughtinhis\\nheart:\\n\\nHowshallIgoinpeaceandwithout\\nsorrow?Nay,notwithoutawoundinthe\\nspiritshallIleavethiscity.', '8}Long\\nwerethedaysofpainIhavespent\\nwithinitswalls,andlongwerethe\\nnightsofaloneness;andwhocandepart\\nfromhispainandhisalonenesswithout\\nregret?\\n\\nToomanyfragmentsofthespirithaveI\\nscatteredinthesestreets,andtoomany\\narethechildrenofmylongingthatwalk\\nnakedamongthesehills,andIcannot\\nwithdrawfromthemwithoutaburdenand\\nanache.\\n\\nItisnotagarmentIcastoffthis\\nday,butaskinthatItearwithmyown\\nhands.\\n\\nNorisitathoughtIleavebehindme,\\nbutaheartmadesweetwithhungerand\\nwiththirst.\\n\\n*****\\n\\nYetIcannottarrylonger.\\n\\nTheseathatcallsallthingsuntoher\\ncallsme,andImustembark.\\n\\nFortostay,thoughthehoursburnin\\nthenight,istofreezeandcrystallize\\nandbeboundinamould.\\n\\nFainwouldItakewithmeallthatis\\nhere.ButhowshallI?\\n\\nAvoicecannotcarrythetongueand\\n', '9}thelipsthatgaveitwings.Alone\\nmustitseektheether.\\n\\nAndaloneandwithouthisnestshallthe\\neagleflyacrossthesun.\\n\\n*****\\n\\nNowwhenhereachedthefootofthe\\nhill,heturnedagaintowardsthesea,\\nandhesawhisshipapproachingthe\\nharbour,anduponherprowthemariners,\\nthemenofhisownland.\\n\\nAndhissoulcriedouttothem,andhe\\nsaid:\\n\\nSonsofmyancientmother,youridersof\\nthetides,\\n\\nHowoftenhaveyousailedinmydreams.\\nAndnowyoucomeinmyawakening,which\\nismydeeperdream.\\n\\nReadyamItogo,andmyeagernesswith\\nsailsfullsetawaitsthewind.\\n\\nOnlyanotherbreathwillIbreathein\\nthisstillair,onlyanotherlovinglook\\ncastbackward,\\n\\nAndthenIshallstandamongyou,a\\nseafareramongseafarers.', '10}Andyou,\\nvastsea,sleeplessmother,\\n\\nWhoalonearepeaceandfreedomtothe\\nriverandthestream,\\n\\nOnlyanotherwindingwillthisstream\\nmake,onlyanothermurmurinthisglade,\\n\\nAndthenshallIcometoyou,a\\nboundlessdroptoaboundlessocean.\\n\\n*****\\n\\nAndashewalkedhesawfromafarmen\\nandwomenleavingtheirfieldsandtheir\\nvineyardsandhasteningtowardsthecity\\ngates.\\n\\nAndheheardtheirvoicescallinghis\\nname,andshoutingfromfieldtofield\\ntellingoneanotherofthecomingofhis\\nship.\\n\\nAndhesaidtohimself:\\n\\nShallthedayofpartingbethedayof\\ngathering?\\n\\nAndshallitbesaidthatmyevewasin\\ntruthmydawn?\\n\\nAndwhatshallIgiveuntohimwhohas\\nlefthisploughinmidfurrow,orto\\nhimwhohasstoppedthewheelofhis\\nwinepress?', '11}Shallmyheartbecomea\\ntreeheavy-ladenwithfruitthatImay\\ngatherandgiveuntothem?\\n\\nAndshallmydesiresflowlikea\\nfountainthatImayfilltheircups?\\n\\nAmIaharpthatthehandofthemighty\\nmaytouchme,oraflutethathisbreath\\nmaypassthroughme?\\n\\nAseekerofsilencesamI,andwhat\\ntreasurehaveIfoundinsilencesthatI\\nmaydispensewithconfidence?\\n\\nIfthisismydayofharvest,inwhat\\nfieldshaveIsowedtheseed,andin\\nwhatunrememberedseasons?\\n\\nIfthisindeedbethehourinwhichI\\nliftupmylantern,itisnotmyflame\\nthatshallburntherein.\\n\\nEmptyanddarkshallIraisemylantern,\\n\\nAndtheguardianofthenightshallfill\\nitwithoilandheshalllightitalso.\\n\\n*****\\n\\nThesethingshesaidinwords.Butmuch\\ninhisheartremainedunsaid.For', '12}he\\nhimselfcouldnotspeakhisdeeper\\nsecret.\\n\\n*****\\n\\n[Illustration:0020]\\n\\nAndwhenheenteredintothecityall\\nthepeoplecametomeethim,andthey\\nwerecryingouttohimaswithone\\nvoice.\\n\\nAndtheeldersofthecitystoodforth\\nandsaid:\\n\\nGonotyetawayfromus.\\n\\nAnoontidehaveyoubeeninour\\ntwilight,andyouryouthhasgivenus\\ndreamstodream.\\n\\nNostrangerareyouamongus,nor\\naguest,butoursonandourdearly\\nbeloved.\\n\\nSuffernotyetoureyestohungerfor\\nyourface.\\n\\n*****\\n\\nAndthepriestsandthepriestessessaid\\nuntohim:\\n\\nLetnotthewavesoftheseaseparateus\\nnow,andtheyearsyouhavespentinour\\nmidstbecomeamemory.\\n\\nYouhavewalkedamongusaspirit,\\n', '13}andyourshadowhasbeenalight\\nuponourfaces.\\n\\nMuchhavewelovedyou.Butspeechless\\nwasourlove,andwithveilshasitbeen\\nveiled.\\n\\nYetnowitcriesalouduntoyou,and\\nwouldstandrevealedbeforeyou.\\n\\nAndeverhasitbeenthatloveknows\\nnotitsowndepthuntilthehourof\\nseparation.\\n\\n*****\\n\\nAndotherscamealsoandentreatedhim.\\nButheansweredthemnot.Heonlybent\\nhishead;andthosewhostoodnearsaw\\nhistearsfallinguponhisbreast.\\n\\nAndheandthepeopleproceededtowards\\nthegreatsquarebeforethetemple.\\n\\nAndtherecameoutofthesanctuarya\\nwomanwhosenamewasAlmitra.Andshe\\nwasaseeress.\\n\\nAndhelookeduponherwithexceeding\\ntenderness,foritwasshewhohadfirst\\nsoughtandbelievedinhimwhenhehad\\nbeenbutadayintheircity.', '14}And\\nshehailedhim,saying:\\n\\nProphetofGod,inquestofthe\\nuttermost,longhaveyousearchedthe\\ndistancesforyourship.\\n\\nAndnowyourshiphascome,andyoumust\\nneedsgo.\\n\\nDeepisyourlongingforthelandof\\nyourmemoriesandthedwellingplace\\nofyourgreaterdesires;andourlove\\nwouldnotbindyounorourneedshold\\nyou.\\n\\nYetthisweaskereyouleaveus,that\\nyouspeaktousandgiveusofyour\\ntruth.\\n\\nAndwewillgiveituntoourchildren,\\nandtheyuntotheirchildren,andit\\nshallnotperish.\\n\\nInyouralonenessyouhavewatchedwith\\nourdays,andinyourwakefulnessyou\\nhavelistenedtotheweepingandthe\\nlaughterofoursleep.\\n\\nNowthereforediscloseustoourselves,\\nandtellusallthathasbeenshown\\nyouofthatwhichisbetweenbirthand\\ndeath.\\n\\n*****\\n\\nAndheanswered,\\n\\nPeopleofOrphalese,ofwhatcanI\\n', '15}speaksaveofthatwhichisevennow\\nmovingwithinyoursouls?\\n\\n**********\\n\\nThensaidAlmitra,Speaktousof\\n_Love_.\\n\\nAndheraisedhisheadandlookedupon\\nthepeople,andtherefellastillness\\nuponthem.Andwithagreatvoicehe\\nsaid:\\n\\nWhenlovebeckonstoyou,followhim,\\n\\nThoughhiswaysarehardandsteep.\\n\\nAndwhenhiswingsenfoldyouyieldto\\nhim,\\n\\nThoughtheswordhiddenamonghis\\npinionsmaywoundyou.\\n\\nAndwhenhespeakstoyoubelievein\\nhim,\\n\\nThoughhisvoicemayshatteryourdreams\\nasthenorthwindlayswastethegarden.\\n\\nForevenaslovecrownsyousoshall\\nhecrucifyyou.Evenasheisforyour\\ngrowthsoisheforyourpruning.\\n\\nEvenasheascendstoyourheightand\\n', '16}caressesyourtenderestbranches\\nthatquiverinthesun,\\n\\nSoshallhedescendtoyourrootsand\\nshakethemintheirclingingtothe\\nearth.\\n\\n*****\\n\\nLikesheavesofcornhegathersyouunto\\nhimself.\\n\\nHethreshesyoutomakeyounaked.\\n\\nHesiftsyoutofreeyoufromyour\\nhusks.\\n\\nHegrindsyoutowhiteness.\\n\\nHekneadsyouuntilyouarepliant;\\n\\nAndthenheassignsyoutohissacred\\nfire,thatyoumaybecomesacredbread\\nforGod’ssacredfeast.\\n\\n*****\\n\\nAllthesethingsshalllovedountoyou\\nthatyoumayknowthesecretsofyour\\nheart,andinthatknowledgebecomea\\nfragmentofLife’sheart.\\n\\nButifinyourfearyouwouldseekonly\\nlove’speaceandlove’spleasure,\\n\\nThenitisbetterforyouthatyou\\ncover', '17}yournakednessandpassoutof\\nlove’sthreshing-floor,\\n\\nIntotheseasonlessworldwhereyou\\nshalllaugh,butnotallofyour\\nlaughter,andweep,butnotallofyour\\ntears.\\n\\n*****\\n\\nLovegivesnaughtbutitselfandtakes\\nnaughtbutfromitself.\\n\\nLovepossessesnotnorwoulditbe\\npossessed;\\n\\nForloveissufficientuntolove.\\n\\nWhenyouloveyoushouldnotsay,“God\\nisinmyheart,”butrather,“Iamin\\ntheheartofGod.”\\n\\nAndthinknotyoucandirectthecourse\\noflove,forlove,ifitfindsyou\\nworthy,directsyourcourse.\\n\\nLovehasnootherdesirebuttofulfil\\nitself.\\n\\nButifyouloveandmustneedshave\\ndesires,letthesebeyourdesires:\\n\\nTomeltandbelikearunningbrookthat\\nsingsitsmelodytothenight.', '18}To\\nknowthepainoftoomuchtenderness.\\n\\nTobewoundedbyyourownunderstanding\\noflove;\\n\\nAndtobleedwillinglyandjoyfully.\\n\\nTowakeatdawnwithawingedheartand\\ngivethanksforanotherdayofloving;\\n\\nTorestatthenoonhourandmeditate\\nlove’secstacy;\\n\\nToreturnhomeateventidewith\\ngratitude;\\n\\nAndthentosleepwithaprayerfor\\nthebelovedinyourheartandasongof\\npraiseuponyourlips.\\n\\n[Illustration:0029]\\n\\n**********\\n\\n', '19}ThenAlmitraspokeagainandsaid,\\nAndwhatof_Marriage_master?\\n\\nAndheansweredsaying:\\n\\nYouwereborntogether,andtogetheryou\\nshallbeforevermore.\\n\\nYoushallbetogetherwhenthewhite\\nwingsofdeathscatteryourdays.\\n\\nAye,youshallbetogethereveninthe\\nsilentmemoryofGod.\\n\\nButlettherebespacesinyour\\ntogetherness,\\n\\nAndletthewindsoftheheavensdance\\nbetweenyou.\\n\\n*****\\n\\nLoveoneanother,butmakenotabondof\\nlove:\\n\\nLetitratherbeamovingseabetween\\ntheshoresofyoursouls.\\n\\nFilleachother’scupbutdrinknotfrom\\nonecup.\\n\\nGiveoneanotherofyourbreadbuteat\\nnotfromthesameloaf.', '20}Singand\\ndancetogetherandbejoyous,butlet\\neachoneofyoubealone,\\n\\nEvenasthestringsofalutearealone\\nthoughtheyquiverwiththesamemusic.\\n\\n*****\\n\\nGiveyourhearts,butnotintoeach\\nother’skeeping.\\n\\nForonlythehandofLifecancontain\\nyourhearts.\\n\\nAndstandtogetheryetnottoonear\\ntogether:\\n\\nForthepillarsofthetemplestand\\napart,\\n\\nAndtheoaktreeandthecypressgrow\\nnotineachother’sshadow.\\n\\n[Illustration:0032]\\n\\n**********\\n\\n', '21}Andawomanwhoheldababe\\nagainstherbosomsaid,Speaktousof\\n_Children_.\\n\\nAndhesaid:\\n\\nYourchildrenarenotyourchildren.\\n\\nTheyarethesonsanddaughtersof\\nLife’slongingforitself.\\n\\nTheycomethroughyoubutnotfromyou,\\n\\nAndthoughtheyarewithyouyetthey\\nbelongnottoyou.\\n\\n*****\\n\\nYoumaygivethemyourlovebutnotyour\\nthoughts,\\n\\nFortheyhavetheirownthoughts.\\n\\nYoumayhousetheirbodiesbutnottheir\\nsouls,\\n\\nFortheirsoulsdwellinthehouseof\\ntomorrow,whichyoucannotvisit,not\\neveninyourdreams.\\n\\nYoumaystrivetobelikethem,butseek\\nnottomakethemlikeyou.', '22}For\\nlifegoesnotbackwardnortarrieswith\\nyesterday.\\n\\nYouarethebowsfromwhichyour\\nchildrenaslivingarrowsaresent\\nforth.\\n\\nThearcherseesthemarkuponthepath\\noftheinfinite,andHebendsyouwith\\nHismightthatHisarrowsmaygoswift\\nandfar.\\n\\nLetyourbendingintheArcher’shandbe\\nforgladness;\\n\\nForevenashelovesthearrowthat\\nflies,soHelovesalsothebowthatis\\nstable.\\n\\n**********\\n\\n', '23}Thensaidarichman,Speaktousof\\n_Giving_.\\n\\nAndheanswered:\\n\\nYougivebutlittlewhenyougiveof\\nyourpossessions.\\n\\nItiswhenyougiveofyourselfthatyou\\ntrulygive.\\n\\nForwhatareyourpossessionsbutthings\\nyoukeepandguardforfearyoumayneed\\nthemtomorrow?\\n\\nAndtomorrow,whatshalltomorrowbring\\ntotheoverprudentdogburyingbones\\ninthetracklesssandashefollowsthe\\npilgrimstotheholycity?\\n\\nAndwhatisfearofneedbutneed\\nitself?\\n\\nIsnotdreadofthirstwhenyourwellis\\nfull,thethirstthatisunquenchable?\\n\\nTherearethosewhogivelittleofthe\\n', '24}muchwhichtheyhave--andtheygive\\nitforrecognitionandtheirhidden\\ndesiremakestheirgiftsunwholesome.\\n\\nAndtherearethosewhohavelittleand\\ngiveitall.\\n\\nThesearethebelieversinlifeand\\nthebountyoflife,andtheircofferis\\nneverempty.\\n\\nTherearethosewhogivewithjoy,and\\nthatjoyistheirreward.\\n\\nAndtherearethosewhogivewithpain,\\nandthatpainistheirbaptism.\\n\\nAndtherearethosewhogiveandknow\\nnotpainingiving,nordotheyseek\\njoy,norgivewithmindfulnessof\\nvirtue;\\n\\nTheygiveasinyondervalleythemyrtle\\nbreathesitsfragranceintospace.\\n\\nThroughthehandsofsuchastheseGod\\nspeaks,andfrombehindtheireyesHe\\nsmilesupontheearth.\\n\\n[Illustration:0039]\\n\\nItiswelltogivewhenasked,butit\\nisbettertogiveunasked,through\\nunderstanding;\\n\\nAndtotheopen-handedthesearchfor\\n', '25}onewhoshallreceiveisjoygreater\\nthangiving.\\n\\nAndisthereaughtyouwouldwithhold?\\n\\nAllyouhaveshallsomedaybegiven;\\n\\nThereforegivenow,thattheseason\\nofgivingmaybeyoursandnotyour\\ninheritors’.\\n\\nYouoftensay,“Iwouldgive,butonly\\ntothedeserving.”\\n\\nThetreesinyourorchardsaynotso,\\nnortheflocksinyourpasture.\\n\\nTheygivethattheymaylive,forto\\nwithholdistoperish.\\n\\nSurelyhewhoisworthytoreceivehis\\ndaysandhisnights,isworthyofall\\nelsefromyou.\\n\\nAndhewhohasdeservedtodrinkfrom\\ntheoceanoflifedeservestofillhis\\ncupfromyourlittlestream.\\n\\nAndwhatdesertgreatershalltherebe,\\nthanthatwhichliesinthecourage\\nandtheconfidence,naythecharity,of\\nreceiving?\\n\\nAndwhoareyouthatmenshouldrend\\n', '26}theirbosomandunveiltheirpride,\\nthatyoumayseetheirworthnakedand\\ntheirprideunabashed?\\n\\nSeefirstthatyouyourselfdeserveto\\nbeagiver,andaninstrumentofgiving.\\n\\nForintruthitislifethatgivesunto\\nlife--whileyou,whodeemyourselfa\\ngiver,arebutawitness.\\n\\nAndyoureceivers--andyouare\\nallreceivers--assumenoweightof\\ngratitude,lestyoulayayokeupon\\nyourselfanduponhimwhogives.\\n\\nRatherrisetogetherwiththegiveron\\nhisgiftsasonwings;\\n\\nFortobeovermindfulofyourdebt,is\\nitodoubthisgenerositywhohasthe\\nfreeheartedearthformother,andGod\\nforfather.\\n\\n[Illustration:0042]\\n\\n**********\\n\\n', '27}Thenanoldman,akeeperofan\\ninn,said,Speaktousof_Eatingand\\nDrinking_.\\n\\nAndhesaid:\\n\\nWouldthatyoucouldliveonthe\\nfragranceoftheearth,andlikeanair\\nplantbesustainedbythelight.\\n\\nButsinceyoumustkilltoeat,androb\\nthenewlybornofitsmother’smilkto\\nquenchyourthirst,letitthenbean\\nactofworship,\\n\\nAndletyourboardstandanaltaron\\nwhichthepureandtheinnocentof\\nforestandplainaresacrificedforthat\\nwhichispurerandstillmoreinnocent\\ninman.\\n\\n*****\\n\\nWhenyoukillabeastsaytohiminyour\\nheart,\\n\\n“Bythesamepowerthatslaysyou,Itoo\\namslain;andItooshallbeconsumed.\\n', '28}Forthelawthatdeliveredyouinto\\nmyhandshalldelivermeintoamightier\\nhand.\\n\\nYourbloodandmybloodisnaughtbut\\nthesapthatfeedsthetreeofheaven.”\\n\\n*****\\n\\nAndwhenyoucrushanapplewithyour\\nteeth,saytoitinyourheart,\\n\\n“Yourseedsshallliveinmybody,\\n\\nAndthebudsofyourtomorrowshall\\nblossominmyheart,\\n\\nAndyourfragranceshallbemybreath,\\nAndtogetherweshallrejoicethrough\\nalltheseasons.”\\n\\n*****\\n\\nAndintheautumn,whenyougather\\nthegrapesofyourvineyardsforthe\\nwinepress,sayinyourheart,\\n\\n“Itooamavineyard,andmyfruitshall\\nbegatheredforthewinepress,\\n\\nAndlikenewwineIshallbekeptin\\neternalvessels.”\\n\\nAndinwinter,whenyoudrawthewine,\\n', '29}lettherebeinyourheartasong\\nforeachcup;\\n\\nAndlettherebeinthesonga\\nremembrancefortheautumndays,andfor\\nthevineyard,andforthewinepress.\\n\\n*****\\n*****\\n\\n', '30}Thenaploughmansaid,Speak\\ntousof_Work_.\\n\\nAndheanswered,saying:\\n\\nYouworkthatyoumaykeeppacewiththe\\nearthandthesouloftheearth.\\n\\nFortobeidleistobecomeastranger\\nuntotheseasons,andtostepoutof\\nlife’sprocession,thatmarchesin\\nmajestyandproudsubmissiontowardsthe\\ninfinite.\\n\\nWhenyouworkyouareaflutethrough\\nwhoseheartthewhisperingofthehours\\nturnstomusic.\\n\\nWhichofyouwouldbeareed,dumband\\nsilent,whenallelsesingstogetherin\\nunison?\\n\\nAlwaysyouhavebeentoldthatworkisa\\ncurseandlabouramisfortune.\\n\\nButIsaytoyouthatwhenyouworkyou\\nfulfilapartofearth’sfurthestdream,\\n', '31}assignedtoyouwhenthatdreamwas\\nborn,\\n\\nAndinkeepingyourselfwithlabouryou\\nareintruthlovinglife,\\n\\nAndtolovelifethroughlabouristobe\\nintimatewithlife’sinmostsecret.\\n\\n*****\\n\\nButifyouinyourpaincallbirthan\\nafflictionandthesupportoftheflesh\\nacursewrittenuponyourbrow,thenI\\nanswerthatnaughtbutthesweatof\\nyourbrowshallwashawaythatwhichis\\nwritten.\\n\\nYouhavebeentoldalsothatlifeis\\ndarkness,andinyourwearinessyouecho\\nwhatwassaidbytheweary.\\n\\nAndIsaythatlifeisindeeddarkness\\n‘savewhenthereisurge,\\n\\nAndallurgeisblindsavewhenthereis\\nknowledge,\\n\\nAndallknowledgeisvainsavewhen\\nthereiswork,\\n\\nAndallworkisemptysavewhenthereis\\nlove;\\n\\nAndwhenyouworkwithloveyoubind\\n', '32}yourselftoyourself,andtoone\\nanother,andtoGod.\\n\\n*****\\n\\nAndwhatisittoworkwithlove?\\n\\nItistoweavetheclothwiththreads\\ndrawnfromyourheart,evenasifyour\\nbelovedweretowearthatcloth.\\n\\nItistobuildahousewithaffection,\\nevenasifyourbelovedweretodwellin\\nthathouse.\\n\\nItistosowseedswithtendernessand\\nreaptheharvestwithjoy,evenasif\\nyourbelovedweretoeatthefruit.\\n\\nItistochargeallthingsyoufashion\\nwithabreathofyourownspirit,\\n\\nAndtoknowthatalltheblesseddead\\narestandingaboutyouandwatching.\\n\\nOftenhaveIheardyousay,asif\\nspeakinginsleep,“Hewhoworksin\\nmarble,andfindstheshapeofhisown\\nsoulinthestone,isnoblerthanhewho\\nploughsthesoil.', '33}Andhewhoseizes\\ntherainbowtolayitonaclothinthe\\nlikenessofman,ismorethanhewho\\nmakesthesandalsforourfeet.”\\n\\nButIsay,notinsleepbutinthe\\noverwakefulnessofnoontide,thatthe\\nwindspeaksnotmoresweetlytothe\\ngiantoaksthantotheleastofallthe\\nbladesofgrass;\\n\\nAndhealoneisgreatwhoturnsthe\\nvoiceofthewindintoasongmade\\nsweeterbyhisownloving.\\n\\n*****\\n\\nWorkislovemadevisible.\\n\\nAndifyoucannotworkwithlovebut\\nonlywithdistaste,itisbetterthat\\nyoushouldleaveyourworkandsitat\\nthegateofthetempleandtakealmsof\\nthosewhoworkwithjoy.\\n\\nForifyoubakebreadwithindifference,\\nyoubakeabitterbreadthatfeedsbut\\nhalfman’shunger.\\n\\nAndifyougrudgethecrushingofthe\\ngrapes,yourgrudgedistilsapoisonin\\nthewine.', '34}Andifyousingthoughas\\nangels,andlovenotthesinging,you\\nmuffleman’searstothevoicesofthe\\ndayandthevoicesofthenight.\\n\\n**********\\n\\n', '35}Thenawomansaid,Speaktousof\\n_JoyandSorrow_.\\n\\nAndheanswered:\\n\\nYourjoyisyoursorrowunmasked.\\n\\nAndtheselfsamewellfromwhichyour\\nlaughterriseswasoftentimesfilled\\nwithyourtears.\\n\\nAndhowelsecanitbe?\\n\\nThedeeperthatsorrowcarvesintoyour\\nbeing,themorejoyyoucancontain.\\n\\nIsnotthecupthatholdsyourwinethe\\nverycupthatwasburnedinthepotter’s\\noven?\\n\\nAndisnotthelutethatsoothesyour\\nspirit,theverywoodthatwashollowed\\nwithknives?\\n\\nWhenyouarejoyous,lookdeepintoyour\\nheartandyoushallfinditisonly\\nthatwhichhasgivenyousorrowthatis\\ngivingyoujoy.\\n\\nWhenyouaresorrowfullookagainin\\n', '36}yourheart,andyoushallseethat\\nintruthyouareweepingforthatwhich\\nhasbeenyourdelight.\\n\\n*****\\n\\nSomeofyousay,“Joyisgreaterthan\\nsorrow,”andotherssay,“Nay,sorrowis\\nthegreater.”\\n\\nButIsayuntoyou,theyare\\ninseparable.\\n\\nTogethertheycome,andwhenonesits\\nalonewithyouatyourboard,remember\\nthattheotherisasleepuponyourbed.\\n\\nVerilyyouaresuspendedlikescales\\nbetweenyoursorrowandyourjoy.\\n\\nOnlywhenyouareemptyareyouat\\nstandstillandbalanced.\\n\\nWhenthetreasure-keeperliftsyouto\\nweighhisgoldandhissilver,needs\\nmustyourjoyoryoursorrowriseor\\nfall.\\n\\n**********\\n\\n', '37}Thenamasoncameforthandsaid,\\nSpeaktousof_Houses_.\\n\\nAndheansweredandsaid:\\n\\nBuildofyourimaginingsabowerinthe\\nwildernessereyoubuildahousewithin\\nthecitywalls.\\n\\nForevenasyouhavehome-comingsin\\nyourtwilight,sohasthewandererin\\nyou,theeverdistantandalone.\\n\\nYourhouseisyourlargerbody.\\n\\nItgrowsinthesunandsleepsinthe\\nstillnessofthenight;anditisnot\\ndreamless.Doesnotyourhousedream?\\nanddreaming,leavethecityforgrove\\norhilltop?\\n\\nWouldthatIcouldgatheryourhouses\\nintomyhand,andlikeasowerscatter\\ntheminforestandmeadow.\\n\\nWouldthevalleyswereyourstreets,and\\nthegreenpathsyouralleys,thatyou\\n', '38}mightseekoneanotherthrough\\nvineyards,andcomewiththefragrance\\noftheearthinyourgarments.\\n\\nButthesethingsarenotyettobe.\\n\\nIntheirfearyourforefathersgathered\\nyoutooneartogether.Andthatfear\\nshallendurealittlelonger.Alittle\\nlongershallyourcitywallsseparate\\nyourhearthsfromyourfields.\\n\\n*****\\n\\nAndtellme,peopleofOrphalese,what\\nhaveyouinthesehouses?Andwhatisit\\nyouguardwithfasteneddoors?\\n\\nHaveyoupeace,thequieturgethat\\nrevealsyourpower?\\n\\nHaveyouremembrances,theglimmering\\narchesthatspanthesummitsofthe\\nmind?\\n\\nHaveyoubeauty,thatleadstheheart\\nfromthingsfashionedofwoodandstone\\ntotheholymountain?\\n\\nTellme,haveyoutheseinyourhouses?\\n\\nOrhaveyouonlycomfort,andthelust\\nforcomfort,thatstealthythingthat\\n', '39}entersthehouseaguest,andthen\\nbecomesahost,andthenamaster?\\n\\n*****\\n\\nAy,anditbecomesatamer,andwith\\nhookandscourgemakespuppetsofyour\\nlargerdesires.\\n\\nThoughitshandsaresilken,itsheart\\nisofiron.\\n\\nItlullsyoutosleeponlytostandby\\nyourbedandjeeratthedignityofthe\\nflesh.\\n\\nItmakesmockofyoursoundsenses,and\\nlaystheminthistledownlikefragile\\nvessels.\\n\\nVerilythelustforcomfortmurders\\nthepassionofthesoul,andthenwalks\\ngrinninginthefuneral.\\n\\nButyou,childrenofspace,yourestless\\ninrest,youshallnotbetrappednor\\ntamed.\\n\\nYourhouseshallbenotananchorbuta\\nmast.\\n\\nItshallnotbeaglisteningfilmthat\\n', '40}coversawound,butaneyelidthat\\nguardstheeye.\\n\\nYoushallnotfoldyourwingsthatyou\\nmaypassthroughdoors,norbendyour\\nheadsthattheystrikenotagainsta\\nceiling,norfeartobreathelestwalls\\nshouldcrackandfalldown.\\n\\nYoushallnotdwellintombsmadebythe\\ndeadfortheliving.\\n\\nAndthoughofmagnificenceand\\nsplendour,yourhouseshallnothold\\nyoursecretnorshelteryourlonging.\\n\\nForthatwhichisboundlessinyou\\nabidesinthemansionofthesky,whose\\ndooristhemorningmist,andwhose\\nwindowsarethesongsandthesilences\\nofnight.\\n\\n**********\\n\\n', '41}Andtheweaversaid,Speaktousof\\n_Clothes_.\\n\\nAndheanswered:\\n\\nYourclothesconcealmuchofyour\\nbeauty,yettheyhidenotthe\\nunbeautiful.\\n\\nAndthoughyouseekingarmentsthe\\nfreedomofprivacyyoumayfindinthem\\naharnessandachain.\\n\\nWouldthatyoucouldmeetthesunand\\nthewindwithmoreofyourskinandless\\nofyourraiment,\\n\\nForthebreathoflifeisinthe\\nsunlightandthehandoflifeisinthe\\nwind.\\n\\nSomeofyousay,“Itisthenorthwind\\nwhohaswoventheclotheswewear.”\\n\\nAndIsay,Ay,itwasthenorthwind,\\n\\nButshamewashisloom,andthe\\nsofteningofthesinewswashisthread.\\n\\nAndwhenhisworkwasdonehelaughedin\\ntheforest.', '42}Forgetnotthatmodesty\\nisforashieldagainsttheeyeofthe\\nunclean.\\n\\nAndwhentheuncleanshallbenomore,\\nwhatweremodestybutafetteranda\\nfoulingofthemind?\\n\\nAndforgetnotthattheearthdelights\\ntofeelyourbarefeetandthewinds\\nlongtoplaywithyourhair.\\n\\n**********\\n\\n', '43}Andamerchantsaid,Speaktousof\\n_BuyingandSelling_.\\n\\nAndheansweredandsaid:\\n\\nToyoutheearthyieldsherfruit,and\\nyoushallnotwantifyoubutknowhow\\ntofillyourhands.\\n\\nItisinexchangingthegiftsofthe\\nearththatyoushallfindabundanceand\\nbesatisfied.\\n\\nYetunlesstheexchangebeinloveand\\nkindlyjustice,itwillbutleadsometo\\ngreedandotherstohunger.\\n\\nWheninthemarketplaceyoutoilersof\\ntheseaandfieldsandvineyardsmeet\\ntheweaversandthepottersandthe\\ngatherersofspices,--\\n\\nInvokethenthemasterspiritofthe\\nearth,tocomeintoyourmidstand\\nsanctifythescalesandthereckoning\\nthatweighsvalueagainstvalue.', '44}And\\nsuffernotthebarren-handedtotake\\npartinyourtransactions,whowould\\nselltheirwordsforyourlabour.\\n\\nTosuchmenyoushouldsay,\\n\\n“Comewithustothefield,orgowith\\nourbrotherstotheseaandcastyour\\nnet;\\n\\nForthelandandtheseashallbe\\nbountifultoyouevenastous.”\\n\\n*****\\n\\nAndiftherecomethesingersandthe\\ndancersandthefluteplayers,--buyof\\ntheirgiftsalso.\\n\\nFortheytooaregatherersoffruitand\\nfrankincense,andthatwhichtheybring,\\nthoughfashionedofdreams,israiment\\nandfoodforyoursoul.\\n\\nAndbeforeyouleavethemarketplace,\\nseethatnoonehasgonehiswaywith\\nemptyhands.\\n\\nForthemasterspiritoftheearthshall\\nnotsleeppeacefullyuponthewind\\ntilltheneedsoftheleastofyouare\\nsatisfied.\\n\\n**********\\n\\n', '45}Thenoneofthejudgesofthecity\\nstoodforthandsaid,Speaktousof\\n_CrimeandPunishment_.\\n\\nAndheanswered,saying:\\n\\nItiswhenyourspiritgoeswandering\\nuponthewind,\\n\\nThatyou,aloneandunguarded,commit\\nawronguntoothersandthereforeunto\\nyourself.\\n\\nAndforthatwrongcommittedmustyou\\nknockandwaitawhileunheededatthe\\ngateoftheblessed.\\n\\nLiketheoceanisyourgod-self;\\n\\nItremainsforeverundefiled.\\n\\nAndliketheetheritliftsbutthe\\nwinged.\\n\\nEvenlikethesunisyourgod-self;\\n\\nItknowsnotthewaysofthemolenor\\nseeksittheholesoftheserpent.\\n', '46}Butyourgod-selfdwellsnotalone\\ninyourbeing.\\n\\nMuchinyouisstillman,andmuchin\\nyouisnotyetman,\\n\\nButashapelesspigmythatwalksasleep\\ninthemistsearchingforitsown\\nawakening.\\n\\nAndofthemaninyouwouldInowspeak.\\n\\nForitisheandnotyourgod-selfnor\\nthepigmyinthemist,thatknowscrime\\nandthepunishmentofcrime.\\n\\n*****\\n\\nOftentimeshaveIheardyouspeakofone\\nwhocommitsawrongasthoughhewere\\nnotoneofyou,butastrangeruntoyou\\nandanintruderuponyourworld.\\n\\nButIsaythatevenastheholyandthe\\nrighteouscannotrisebeyondthehighest\\nwhichisineachoneofyou,\\n\\nSothewickedandtheweakcannotfall\\nlowerthanthelowestwhichisinyou\\nalso.\\n\\nAndasasingleleafturnsnotyellow\\nbutwiththesilentknowledgeofthe\\nwholetree,', '47}Sothewrong-doercannot\\ndowrongwithoutthehiddenwillofyou\\nall.\\n\\nLikeaprocessionyouwalktogether\\ntowardsyourgod-self.\\n\\n[Illustration:0064]\\n\\nYouarethewayandthewayfarers.\\n\\nAndwhenoneofyoufallsdownhefalls\\nforthosebehindhim,acautionagainst\\nthestumblingstone.\\n\\nAy,andhefallsforthoseaheadofhim,\\nwhothoughfasterandsureroffoot,yet\\nremovednotthestumblingstone.\\n\\nAndthisalso,thoughthewordlieheavy\\nuponyourhearts:\\n\\nThemurderedisnotunaccountablefor\\nhisownmurder,\\n\\nAndtherobbedisnotblamelessinbeing\\nrobbed.\\n\\nTherighteousisnotinnocentofthe\\ndeedsofthewicked,\\n\\nAndthewhite-handedisnotcleaninthe\\ndoingsofthefelon.\\n\\nYea,theguiltyisoftentimesthevictim\\noftheinjured,\\n\\nAndstillmoreoftenthecondemnedis\\n', '48}theburdenbearerfortheguiltless\\nandunblamed.\\n\\nYoucannotseparatethejustfromthe\\nunjustandthegoodfromthewicked;\\n\\nFortheystandtogetherbeforetheface\\nofthesunevenastheblackthreadand\\nthewhitearewoventogether.\\n\\nAndwhentheblackthreadbreaks,the\\nweavershalllookintothewholecloth,\\nandheshallexaminetheloomalso.\\n\\n*****\\n\\nIfanyofyouwouldbringtojudgment\\ntheunfaithfulwife,\\n\\nLethimalsoweightheheartofher\\nhusbandinscales,andmeasurehissoul\\nwithmeasurements.\\n\\nAndlethimwhowouldlashtheoffender\\nlookuntothespiritoftheoffended.\\n\\nAndifanyofyouwouldpunishinthe\\nnameofrighteousnessandlaytheax\\nuntotheeviltree,lethimseetoits\\nroots;\\n\\nAndverilyhewillfindtherootsofthe\\ngoodandthebad,thefruitfulandthe\\n', '49}fruitless,allentwinedtogetherin\\nthesilentheartoftheearth.\\n\\nAndyoujudgeswhowouldbejust,\\n\\nWhatjudgmentpronounceyouuponhim\\nwhothoughhonestinthefleshyetisa\\nthiefinspirit?\\n\\nWhatpenaltylayyouuponhimwhoslays\\ninthefleshyetishimselfslaininthe\\nspirit?\\n\\nAndhowprosecuteyouhimwhoinaction\\nisadeceiverandanoppressor,\\n\\nYetwhoalsoisaggrievedandoutraged?\\n\\n*****\\n\\nAndhowshallyoupunishthosewhose\\nremorseisalreadygreaterthantheir\\nmisdeeds?\\n\\nIsnotremorsethejusticewhichis\\nadministeredbythatverylawwhichyou\\nwouldfainserve?\\n\\nYetyoucannotlayremorseuponthe\\ninnocentnorliftitfromtheheartof\\ntheguilty.\\n\\nUnbiddenshallitcallinthenight,\\nthatmenmaywakeandgazeupon\\nthemselves.', '50}Andyouwhowould\\nunderstandjustice,howshallyouunless\\nyoulookuponalldeedsinthefullness\\noflight?\\n\\nOnlythenshallyouknowthattheerect\\nandthefallenarebutonemanstanding\\nintwilightbetweenthenightofhis\\npigmy-selfandthedayofhisgod-self,\\nAndthatthecorner-stoneofthetemple\\nisnothigherthantheloweststonein\\nitsfoundation.\\n\\n**********\\n\\n', '51}Thenalawyersaid,Butwhatofour\\n_Laws_,master?\\n\\nAndheanswered:\\n\\nYoudelightinlayingdownlaws,\\n\\nYetyoudelightmoreinbreakingthem.\\n\\nLikechildrenplayingbytheoceanwho\\nbuildsand-towerswithconstancyand\\nthendestroythemwithlaughter.\\n\\nButwhileyoubuildyoursand-towersthe\\noceanbringsmoresandtotheshore,\\n\\nAndwhenyoudestroythemtheocean\\nlaughswithyou.\\n\\nVerilytheoceanlaughsalwayswiththe\\ninnocent.\\n\\nButwhatofthosetowhomlifeisnot\\nanocean,andman-madelawsarenot\\nsand-towers,\\n\\nButtowhomlifeisarock,andthelaw\\nachiselwithwhichtheywouldcarveit\\nintheirownlikeness?', '52}Whatofthe\\ncripplewhohatesdancers?\\n\\nWhatoftheoxwholoveshisyokeand\\ndeemstheelkanddeeroftheforest\\nstrayandvagrantthings?\\n\\nWhatoftheoldserpentwhocannotshed\\nhisskin,andcallsallothersnakedand\\nshameless?\\n\\nAndofhimwhocomesearlytothe\\nwedding-feast,andwhenover-fedand\\ntiredgoeshiswaysayingthatall\\nfeastsareviolationandallfeasters\\nlawbreakers?\\n\\n*****\\n\\nWhatshallIsayofthesesavethat\\ntheytoostandinthesunlight,butwith\\ntheirbackstothesun?\\n\\nTheyseeonlytheirshadows,andtheir\\nshadowsaretheirlaws.\\n\\nAndwhatisthesuntothembutacaster\\nofshadows?\\n\\nAndwhatisittoacknowledgethe\\nlawsbuttostoopdownandtracetheir\\nshadowsupontheearth?\\n\\nButyouwhowalkfacingthesun,what\\n', '53}imagesdrawnontheearthcanhold\\nyou?\\n\\nYouwhotravelwiththewind,what\\nweather-vaneshalldirectyourcourse?\\n\\nWhatman’slawshallbindyouifyou\\nbreakyouryokebutuponnoman’sprison\\ndoor?\\n\\nWhatlawsshallyoufearifyoudance\\nbutstumbleagainstnoman’siron\\nchains?\\n\\nAndwhoishethatshallbringyouto\\njudgmentifyoutearoffyourgarment\\nyetleaveitinnoman’spath?\\n\\n*****\\n\\nPeopleofOrphalese,youcanmufflethe\\ndrum,andyoucanloosenthestrings\\nofthelyre,butwhoshallcommandthe\\nskylarknottosing?\\n\\n**********\\n\\n', '54}Andanoratorsaid,Speaktousof\\n_Freedom_.\\n\\nAndheanswered:\\n\\nAtthecitygateandbyyourfireside\\nIhaveseenyouprostrateyourselfand\\nworshipyourownfreedom,\\n\\nEvenasslaveshumblethemselvesbefore\\natyrantandpraisehimthoughheslays\\nthem.\\n\\nAy,inthegroveofthetempleandin\\ntheshadowofthecitadelIhaveseen\\nthefreestamongyouweartheirfreedom\\nasayokeandahandcuff.\\n\\nAndmyheartbledwithinme;foryou\\ncanonlybefreewheneventhedesire\\nofseekingfreedombecomesaharness\\ntoyou,andwhenyouceasetospeakof\\nfreedomasagoalandafulfilment.\\n\\nYoushallbefreeindeedwhenyour\\ndaysarenotwithoutacarenoryour\\n', '55}nightswithoutawantandagrief,\\n\\nButratherwhenthesethingsgirdleyour\\nlifeandyetyouriseabovethemnaked\\nandunbound.\\n\\n*****\\n\\nAndhowshallyourisebeyondyourdays\\nandnightsunlessyoubreakthe\\nchainswhichyouatthedawnofyour\\nunderstandinghavefastenedaroundyour\\nnoonhour?\\n\\nIntruththatwhichyoucallfreedomis\\nthestrongestofthesechains,though\\nitslinksglitterinthesunanddazzle\\nyoureyes.\\n\\nAndwhatisitbutfragmentsofyour\\nownselfyouwoulddiscardthatyoumay\\nbecomefree?\\n\\nIfitisanunjustlawyouwould\\nabolish,thatlawwaswrittenwithyour\\nownhanduponyourownforehead.\\n\\nYoucannoteraseitbyburningyourlaw\\nbooksnorbywashingtheforeheadsof\\nyourjudges,thoughyoupourthesea\\nuponthem.\\n\\nAndifitisadespotyouwould\\n', '56}dethrone,seefirstthathisthrone\\nerectedwithinyouisdestroyed.\\n\\nForhowcanatyrantrulethefreeand\\ntheproud,butforatyrannyintheir\\nownfreedomandashameintheirown\\npride?\\n\\nAndifitisacareyouwouldcastoff,\\nthatcarthasbeenchosenbyyourather\\nthanimposeduponyou.\\n\\nAndifitisafearyouwoulddispel,\\ntheseatofthatfearisinyourheart\\nandnotinthehandofthefeared.\\n\\n*****\\n\\nVerilyallthingsmovewithinyourbeing\\ninconstanthalfembrace,thedesired\\nandthedreaded,therepugnantandthe\\ncherished,thepursuedandthatwhich\\nyouwouldescape.\\n\\nThesethingsmovewithinyouaslights\\nandshadowsinpairsthatcling.\\n\\nAndwhentheshadowfadesandisno\\nmore,thelightthatlingersbecomesa\\nshadowtoanotherlight.\\n\\nAndthusyourfreedomwhenitlosesits\\nfettersbecomesitselfthefetterofa\\ngreaterfreedom.\\n\\n**********\\n\\n', '57}Andthepriestessspokeagain\\nandsaid:Speaktousof_Reasonand\\nPassion_.\\n\\nAndheanswered,saying:\\n\\nYoursoulisoftentimesabattlefield,\\nuponwhichyourreasonandyourjudgment\\nwagewaragainstyourpassionandyour\\nappetite.\\n\\nWouldthatIcouldbethepeacemakerin\\nyoursoul,thatImightturnthediscord\\nandtherivalryofyourelementsinto\\nonenessandmelody.\\n\\nButhowshallI,unlessyouyourselves\\nbealsothepeacemakers,nay,thelovers\\nofallyourelements?\\n\\nYourreasonandyourpassionarethe\\nrudderandthesailsofyourseafaring\\nsoul.\\n\\nIfeitheryoursailsoryourrudderbe\\nbroken,youcanbuttossanddrift,\\norelsebeheldatastandstillin\\nmid-seas.', '58}Forreason,rulingalone,\\nisaforceconfining;andpassion,\\nunattended,isaflamethatburnstoits\\nowndestruction.\\n\\nThereforeletyoursoulexaltyour\\nreasontotheheightofpassion,thatit\\nmaysing;\\n\\nAndletitdirectyourpassionwith\\nreason,thatyourpassionmaylive\\nthroughitsowndailyresurrection,\\nandlikethephoenixriseaboveitsown\\nashes.\\n\\n*****\\n\\nIwouldhaveyouconsideryourjudgment\\nandyourappetiteevenasyouwouldtwo\\nlovedguestsinyourhouse.\\n\\nSurelyyouwouldnothonouroneguest\\nabovetheother;forhewhoismore\\nmindfulofonelosestheloveandthe\\nfaithofboth\\n\\nAmongthehills,whenyousitinthe\\ncoolshadeofthewhitepoplars,sharing\\nthepeaceandserenityofdistantfields\\nandmeadows--thenletyourheartsayin\\nsilence,“Godrestsinreason.”\\n\\nAndwhenthestormcomes,andthe\\n', '59}mightywindshakestheforest,\\nandthunderandlightningproclaimthe\\nmajestyofthesky,--thenletyourheart\\nsayinawe,“Godmovesinpassion.”\\n\\nAndsinceyouareabreathinGod’s\\nsphere,andaleafinGod’sforest,you\\ntooshouldrestinreasonandmovein\\npassion.\\n\\n**********\\n\\n', '60}Andawomanspoke,saying,Tellus\\nof_Pain_.\\n\\nAndhesaid:\\n\\nYourpainisthebreakingoftheshell\\nthatenclosesyourunderstanding.\\n\\nEvenasthestoneofthefruitmust\\nbreak,thatitsheartmaystandinthe\\nsun,somustyouknowpain.\\n\\nAndcouldyoukeepyourheartinwonder\\natthedailymiraclesofyourlife,your\\npainwouldnotseemlesswondrousthan\\nyourjoy;\\n\\nAndyouwouldaccepttheseasonsofyour\\nheart,evenasyouhavealwaysaccepted\\ntheseasonsthatpassoveryourfields.\\n\\nAndyouwouldwatchwithserenity\\nthroughthewintersofyourgrief.\\n\\nMuchofyourpainisself-chosen.\\n\\nItisthebitterpotionbywhichthe\\nphysician', '61}withinyouhealsyoursick\\nself.\\n\\nThereforetrustthephysician,anddrink\\nhisremedyinsilenceandtranquillity:\\nForhishand,thoughheavyandhard,is\\nguidedbythetenderhandoftheUnseen,\\nAndthecuphebrings,thoughitburn\\nyourlips,hasbeenfashionedofthe\\nclaywhichthePotterhasmoistenedwith\\nHisownsacredtears.\\n\\n**********\\n\\n', '62}Andamansaid,Speaktousof\\n_Self-Knowledge_.\\n\\nAndheanswered,saying:\\n\\nYourheartsknowinsilencethesecrets\\nofthedaysandthenights.\\n\\nButyourearsthirstforthesoundof\\nyourheart’sknowledge.\\n\\nYouwouldknowinwordsthatwhichyou\\nhavealwaysknowninthought.\\n\\nYouwouldtouchwithyourfingersthe\\nnakedbodyofyourdreams.\\n\\nAnditiswellyoushould.\\n\\nThehiddenwell-springofyoursoulmust\\nneedsriseandrunmurmuringtothesea;\\n\\nAndthetreasureofyourinfinitedepths\\nwouldberevealedtoyoureyes.\\n\\nButlettherebenoscalestoweighyour\\nunknowntreasure;\\n\\nAndseeknotthedepthsofyour\\n', '63}knowledgewithstafforsounding\\nline.\\n\\nForselfisaseaboundlessand\\nmeasureless.\\n\\n*****\\n\\nSaynot,“Ihavefoundthetruth,”but\\nrather,“Ihavefoundatruth.”\\n\\nSaynot,“Ihavefoundthepathofthe\\nsoul.”Sayrather,“Ihavemetthesoul\\nwalkinguponmypath.”\\n\\nForthesoulwalksuponallpaths.\\n\\nThesoulwalksnotuponaline,neither\\ndoesitgrowlikeareed.\\n\\nThesoulunfoldsitself,likealotusof\\ncountlesspetals.\\n\\n[Illustration:0083]\\n\\n**********\\n\\n', '64}Thensaidateacher,Speaktousof\\n_Teaching_.\\n\\nAndhesaid:\\n\\n“Nomancanrevealtoyouaughtbutthat\\nwhichalreadylieshalfasleepinthe\\ndawningofyourknowledge.\\n\\nTheteacherwhowalksintheshadowof\\nthetemple,amonghisfollowers,gives\\nnotofhiswisdombutratherofhis\\nfaithandhislovingness.\\n\\nIfheisindeedwisehedoesnotbid\\nyouenterthehouseofhiswisdom,but\\nratherleadsyoutothethresholdof\\nyourownmind.\\n\\nTheastronomermayspeaktoyouofhis\\nunderstandingofspace,buthecannot\\ngiveyouhisunderstanding.\\n\\nThemusicianmaysingtoyouofthe\\nrhythmwhichisinallspace,buthe\\ncannotgiveyoutheearwhicharrests\\ntherhythmnorthevoicethatechoesit.\\n', '65}Andhewhoisversedinthescience\\nofnumberscantelloftheregions\\nofweightandmeasure,buthecannot\\nconductyouthither.\\n\\nForthevisionofonemanlendsnotits\\nwingstoanotherman.\\n\\nAndevenaseachoneofyoustandsalone\\ninGod’sknowledge,somusteachoneof\\nyoubealoneinhisknowledgeofGodand\\ninhisunderstandingoftheearth.\\n\\n**********\\n\\n', '66}Andayouthsaid,Speaktousof\\n_Friendship_.\\n\\nAndheanswered,saying:\\n\\nYourfriendisyourneedsanswered.\\n\\nHeisyourfieldwhichyousowwithlove\\nandreapwiththanksgiving.\\n\\nAndheisyourboardandyourfireside.\\n\\nForyoucometohimwithyourhunger,\\nandyouseekhimforpeace.\\n\\nWhenyourfriendspeakshismindyou\\nfearnotthe“nay”inyourownmind,nor\\ndoyouwithholdthe“ay.”\\n\\nAndwhenheissilentyourheartceases\\nnottolistentohisheart;\\n\\nForwithoutwords,infriendship,all\\nthoughts,alldesires,allexpectations\\narebornandshared,withjoythatis\\nunacclaimed.\\n\\nWhenyoupartfromyourfriend,you\\ngrievenot;\\n\\nForthatwhichyoulovemostinhim\\nmaybeclearerinhisabsence,asthe\\nmountaintotheclimberisclearer\\nfromtheplain.', '67}Andlettherebeno\\npurposeinfriendshipsavethedeepening\\nofthespirit.\\n\\nForlovethatseeksaughtbutthe\\ndisclosureofitsownmysteryisnot\\nlovebutanetcastforth:andonlythe\\nunprofitableiscaught.\\n\\n*****\\n\\nAndletyourbestbeforyourfriend.\\n\\nIfhemustknowtheebbofyourtide,\\nlethimknowitsfloodalso.\\n\\nForwhatisyourfriendthatyoushould\\nseekhimwithhourstokill?\\n\\nSeekhimalwayswithhourstolive.\\n\\nForitishistofillyourneed,butnot\\nyouremptiness.\\n\\nAndinthesweetnessoffriendship\\nlettherebelaughter,andsharingof\\npleasures.\\n\\nForinthedewoflittlethings\\ntheheartfindsitsmorningandis\\nrefreshed.\\n\\n**********\\n\\n', '68}Andthenascholarsaid,Speakof\\n_Talking_.\\n\\nAndheanswered,saying:\\n\\nYoutalkwhenyouceasetobeatpeace\\nwithyourthoughts;\\n\\nAndwhenyoucannolongerdwellinthe\\nsolitudeofyourheartyouliveinyour\\nlips,andsoundisadiversionanda\\npastime.\\n\\nAndinmuchofyourtalking,thinkingis\\nhalfmurdered.\\n\\nForthoughtisabirdofspace,thatin\\nacageofwordsmayindeedunfoldits\\nwingsbutcannotfly.\\n\\nTherearethoseamongyouwhoseekthe\\ntalkativethroughfearofbeingalone.\\n\\nThesilenceofalonenessrevealsto\\ntheireyestheirnakedselvesandthey\\nwouldescape.\\n\\nAndtherearethosewhotalk,and\\n', '69}withoutknowledgeorforethoughtreveal\\natruthwhichtheythemselvesdonot\\nunderstand.\\n\\nAndtherearethosewhohavethetruth\\nwithinthem,buttheytellitnotin\\nwords.\\n\\nInthebosomofsuchasthesethespirit\\ndwellsinrhythmicsilence.\\n\\n*****\\n\\nWhenyoumeetyourfriendonthe\\nroadsideorinthemarketplace,letthe\\nspiritinyoumoveyourlipsanddirect\\nyourtongue.\\n\\nLetthevoicewithinyourvoicespeakto\\ntheearofhisear;\\n\\nForhissoulwillkeepthetruthof\\nyourheartasthetasteofthewineis\\nremembered\\n\\nWhenthecolourisforgottenandthe\\nvesselisnomore.\\n\\n**********\\n\\n', '70}Andanastronomersaid,Master,what\\nof_Time_?\\n\\nAndheanswered:\\n\\nYouwouldmeasuretimethemeasureless\\nandtheimmeasurable.\\n\\nYouwouldadjustyourconductand\\nevendirectthecourseofyourspirit\\naccordingtohoursandseasons.\\n\\nOftimeyouwouldmakeastreamupon\\nwhosebankyouwouldsitandwatchits\\nflowing.\\n\\nYetthetimelessinyouisawareof\\nlife’stimelessness,\\n\\nAndknowsthatyesterdayisbuttoday’s\\nmemoryandtomorrowistoday’sdream.\\n\\nAndthatthatwhichsingsand\\ncontemplatesinyouisstilldwelling\\nwithintheboundsofthatfirstmoment\\nwhichscatteredthestarsintospace.\\n', '71}Whoamongyoudoesnotfeelthathis\\npowertoloveisboundless?\\n\\nAndyetwhodoesnotfeelthatvery\\nlove,thoughboundless,encompassed\\nwithinthecentreofhisbeing,and\\nmovingnotfromlovethoughttolove\\nthought,norfromlovedeedstoother\\nlovedeeds?\\n\\nAndisnottimeevenasloveis,\\nundividedandpaceless?\\n\\n*****\\n\\nButifinyourthoughtyoumustmeasure\\ntimeintoseasons,leteachseason\\nencirclealltheotherseasons,\\n\\nAndlettodayembracethepastwith\\nremembranceandthefuturewithlonging.\\n\\n**********\\n\\n', '72}Andoneoftheeldersofthecity\\nsaid,Speaktousof_GoodandEvil_.\\n\\nAndheanswered:\\n\\nOfthegoodinyouIcanspeak,butnot\\noftheevil.\\n\\nForwhatisevilbutgoodtorturedby\\nitsownhungerandthirst?\\n\\nVerilywhengoodishungryitseeksfood\\nevenindarkcaves,andwhenitthirsts\\nitdrinksevenofdeadwaters.\\n\\nYouaregoodwhenyouareonewith\\nyourself.\\n\\nYetwhenyouarenotonewithyourself\\nyouarenotevil.\\n\\nForadividedhouseisnotadenof\\nthieves;itisonlyadividedhouse.\\n\\nAndashipwithoutruddermaywander\\naimlesslyamongperilousislesyetsink\\nnottothebottom.', '73}Youaregoodwhen\\nyoustrivetogiveofyourself.\\n\\nYetyouarenotevilwhenyouseekgain\\nforyourself.\\n\\nForwhenyoustriveforgainyouare\\nbutarootthatclingstotheearthand\\nsucksatherbreast.\\n\\nSurelythefruitcannotsaytotheroot,\\n“Belikeme,ripeandfullandever\\ngivingofyourabundance.”\\n\\nFortothefruitgivingisaneed,as\\nreceivingisaneedtotheroot.\\n\\n*****\\n\\nYouaregoodwhenyouarefullyawakein\\nyourspeech,\\n\\nYetyouarenotevilwhenyousleep\\nwhileyourtonguestaggerswithout\\npurpose.\\n\\nAndevenstumblingspeechmaystrengthen\\naweaktongue.\\n\\nYouaregoodwhenyouwalktoyourgoal\\nfirmlyandwithboldsteps.\\n\\nYetyouarenotevilwhenyougothither\\nlimping.', '74}Eventhosewholimpgonot\\nbackward.\\n\\nButyouwhoarestrongandswift,see\\nthatyoudonotlimpbeforethelame,\\ndeemingitkindness.\\n\\n*****\\n\\nYouaregoodincountlessways,andyou\\narenotevilwhenyouarenotgood,\\n\\nYouareonlyloiteringandsluggard.\\n\\nPitythatthestagscannotteach\\nswiftnesstotheturtles.\\n\\nInyourlongingforyourgiantselflies\\nyourgoodness:andthatlongingisin\\nallofyou.\\n\\nButinsomeofyouthatlongingisa\\ntorrentrushingwithmighttothesea,\\ncarryingthesecretsofthehillsides\\nandthesongsoftheforest.\\n\\nAndinothersitisaflatstreamthat\\nlosesitselfinanglesandbendsand\\nlingersbeforeitreachestheshore.\\n\\nButletnothimwholongsmuchsayto\\n', '75}himwholongslittle,“Whereforeare\\nyouslowandhalting?”\\n\\nForthetrulygoodasknotthenaked,\\n“Whereisyourgarment?”northe\\nhouseless,“Whathasbefallenyour\\nhouse?”\\n\\n**********\\n\\n', '76}Thenapriestesssaid,Speaktous\\nof_Prayer_.\\n\\nAndheanswered,saying:\\n\\nYouprayinyourdistressandinyour\\nneed;wouldthatyoumightprayalso\\ninthefullnessofyourjoyandinyour\\ndaysofabundance.\\n\\nForwhatisprayerbuttheexpansionof\\nyourselfintothelivingether?\\n\\nAndifitisforyourcomforttopour\\nyourdarknessintospace,itisalsofor\\nyourdelighttopourforththedawning\\nofyourheart.\\n\\nAndifyoucannotbutweepwhenyour\\nsoulsummonsyoutoprayer,sheshould\\nspuryouagainandyetagain,though\\nweeping,untilyoushallcomelaughing.\\n\\nWhenyouprayyourisetomeetinthe\\nairthosewhoareprayingatthatvery\\n', '77}hour,andwhomsaveinprayeryou\\nmaynotmeet.\\n\\nThereforeletyourvisittothattemple\\ninvisiblebefornaughtbutecstasyand\\nsweetcommunion.\\n\\nForifyoushouldenterthetemplefor\\nnootherpurposethanaskingyoushall\\nnotreceive:\\n\\nAndifyoushouldenterintoitto\\nhumbleyourselfyoushallnotbelifted:\\n\\nOrevenifyoushouldenterintoitto\\nbegforthegoodofothersyoushallnot\\nbeheard.\\n\\nItisenoughthatyouenterthetemple\\ninvisible.\\n\\n*****\\n\\nIcannotteachyouhowtoprayinwords.\\n\\nGodlistensnottoyourwordssavewhen\\nHeHimselfuttersthemthroughyour\\nlips.\\n\\nAndIcannotteachyoutheprayerofthe\\nseasandtheforestsandthemountains.\\n', '78}Butyouwhoarebornofthe\\nmountainsandtheforestsandtheseas\\ncanfindtheirprayerinyourheart,\\n\\nAndifyoubutlisteninthestillness\\nofthenightyoushallhearthemsaying\\ninsilence,\\n\\n“OurGod,whoartourwingedself,itis\\nthywillinusthatwilleth.\\n\\nItisthydesireinusthatdesireth.\\n\\nItisthyurgeinusthatwouldturnour\\nnights,whicharethine,intodayswhich\\narethinealso.\\n\\nWecannotasktheeforaught,forthou\\nknowestourneedsbeforetheyareborn\\ninus:\\n\\nThouartourneed;andingivingusmore\\nofthyselfthougivestusall.”\\n\\n[Illustration:0100]\\n\\n**********\\n\\n', '79}Thenahermit,whovisitedthecity\\nonceayear,cameforthandsaid,Speak\\ntousof_Pleasure_.\\n\\nAndheanswered,saying:\\n\\nPleasureisafreedom-song,\\n\\nButitisnotfreedom.\\n\\nItistheblossomingofyourdesires,\\n\\nButitisnottheirfruit.\\n\\nItisadepthcallinguntoaheight,\\n\\nButitisnotthedeepnorthehigh.\\n\\nItisthecagedtakingwing,\\n\\nButitisnotspaceencompassed.\\n\\nAy,inverytruth,pleasureisa\\nfreedom-song.\\n\\nAndIfainwouldhaveyousingitwith\\nfullnessofheart;yetIwouldnothave\\nyouloseyourheartsinthesinging.\\n\\nSomeofyouryouthseekpleasureasif\\nitwereall,andtheyarejudgedand\\nrebuked.', '80}Iwouldnotjudgenor\\nrebukethem.Iwouldhavethemseek.\\n\\nFortheyshallfindpleasure,butnot\\nheralone;\\n\\nSevenarehersisters,andtheleastof\\nthemismorebeautifulthanpleasure.\\n\\nHaveyounotheardofthemanwhowas\\ndiggingintheearthforrootsandfound\\natreasure?\\n\\n*****\\n\\nAndsomeofyoureldersremember\\npleasureswithregretlikewrongs\\ncommittedindrunkenness.\\n\\nButregretisthebecloudingofthemind\\nandnotitschastisement.\\n\\nTheyshouldremembertheirpleasures\\nwithgratitude,astheywouldthe\\nharvestofasummer.\\n\\nYetifitcomfortsthemtoregret,let\\nthembecomforted.\\n\\nAndthereareamongyouthosewho\\nareneitheryoungtoseeknoroldto\\nremember;\\n\\nAndintheirfearofseekingand\\nremembering', '81}theyshunallpleasures,\\nlesttheyneglectthespiritoroffend\\nagainstit.\\n\\nButevenintheirforegoingistheir\\npleasure.\\n\\nAndthustheytoofindatreasurethough\\ntheydigforrootswithquiveringhands.\\n\\nButtellme,whoishethatcanoffend\\nthespirit?\\n\\nShallthenightingaleoffendthe\\nstillnessofthenight,orthefirefly\\nthestars?\\n\\nAndshallyourflameoryoursmoke\\nburdenthewind?\\n\\nThinkyouthespiritisastillpool\\nwhichyoucantroublewithastaff?\\n\\n*****\\n\\nOftentimesindenyingyourselfpleasure\\nyoudobutstorethedesireinthe\\nrecessesofyourbeing.\\n\\nWhoknowsbutthatwhichseemsomitted\\ntoday,waitsfortomorrow?\\n\\nEvenyourbodyknowsitsheritage\\nanditsrightfulneedandwillnotbe\\ndeceived.\\n\\nAndyourbodyistheharpofyoursoul,\\n\\nAnditisyourstobringforth', '82}sweet\\nmusicfromitorconfusedsounds.\\n\\n*****\\n\\nAndnowyouaskinyourheart,“How\\nshallwedistinguishthatwhichis\\ngoodinpleasurefromthatwhichisnot\\ngood?”\\n\\nGotoyourfieldsandyourgardens,and\\nyoushalllearnthatitisthepleasure\\nofthebeetogatherhoneyofthe\\nflower,\\n\\nButitisalsothepleasureofthe\\nflowertoyielditshoneytothebee.\\n\\nFortothebeeaflowerisafountainof\\nlife,\\n\\nAndtotheflowerabeeisamessenger\\noflove,\\n\\nAndtoboth,beeandflower,thegiving\\nandthereceivingofpleasureisaneed\\nandanecstasy.\\n\\nPeopleofOrphalese,beinyour\\npleasuresliketheflowersandthebees.\\n\\n**********\\n\\n', '83}Andapoetsaid,Speaktousof\\n_Beauty_.\\n\\nAndheanswered:\\n\\nWhereshallyouseekbeauty,andhow\\nshallyoufindherunlesssheherselfbe\\nyourwayandyourguide?\\n\\nAndhowshallyouspeakofherexcept\\nshebetheweaverofyourspeech?\\n\\nTheaggrievedandtheinjuredsay,\\n“Beautyiskindandgentle.\\n\\nLikeayoungmotherhalf-shyofherown\\ngloryshewalksamongus.”\\n\\nAndthepassionatesay,“Nay,beautyis\\nathingofmightanddread.\\n\\nLikethetempestsheshakestheearth\\nbeneathusandtheskyaboveus.”\\n\\nThetiredandthewearysay,“Beautyis\\nofsoftwhisperings.Shespeaksinour\\nspirit.', '84}Hervoiceyieldstoour\\nsilenceslikeafaintlightthatquivers\\ninfearoftheshadow.”\\n\\nButtherestlesssay,“Wehaveheardher\\nshoutingamongthemountains,\\n\\nAndwithhercriescamethesoundof\\nhoofs,andthebeatingofwingsandthe\\nroaringoflions.”\\n\\nAtnightthewatchmenofthecitysay,\\n“Beautyshallrisewiththedawnfrom\\ntheeast.”\\n\\nAndatnoontidethetoilersandthe\\nwayfarerssay,“Wehaveseenherleaning\\novertheearthfromthewindowsofthe\\nsunset.”\\n\\n*****\\n\\nInwintersaythesnow-bound,“Sheshall\\ncomewiththespringleapinguponthe\\nhills.”\\n\\nAndinthesummerheatthereapers\\nsay,“Wehaveseenherdancingwiththe\\nautumnleaves,andwesawadriftof\\nsnowinherhair.”', '85}Allthesethings\\nhaveyousaidofbeauty,\\n\\nYetintruthyouspokenotofherbutof\\nneedsunsatisfied,\\n\\nAndbeautyisnotaneedbutanecstasy.\\n\\nItisnotamouththirstingnoranempty\\nhandstretchedforth,\\n\\nButratheraheartenflamedandasoul\\nenchanted.\\n\\nItisnottheimageyouwouldseenor\\nthesongyouwouldhear,\\n\\nButratheranimageyouseethoughyou\\ncloseyoureyesandasongyouhear\\nthoughyoushutyourears.\\n\\nItisnotthesapwithinthefurrowed\\nbark,norawingattachedtoaclaw,\\n\\nButratheragardenforeverinbloom\\nandaflockofangelsforeverin\\nflight.\\n\\n*****\\n\\nPeopleofOrphalese,beautyislifewhen\\nlifeunveilsherholyface.\\n\\nButyouarelifeandyouaretheveil.\\n', '86}Beautyiseternitygazingatitself\\ninamirror.\\n\\nButyouareeternityandyouarethe\\nmirror.\\n\\n**********\\n\\n', '87}Andanoldpriestsaid,Speaktous\\nof_Religion_.\\n\\nAndhesaid:\\n\\nHaveIspokenthisdayofaughtelse?\\n\\nIsnotreligionalldeedsandall\\nreflection,\\n\\nAndthatwhichisneitherdeednor\\nreflection,butawonderandasurprise\\neverspringinginthesoul,evenwhile\\nthehandshewthestoneortendthe\\nloom?\\n\\nWhocanseparatehisfaithfrom\\nhisactions,orhisbelieffromhis\\noccupations?\\n\\nWhocanspreadhishoursbeforehim,\\nsaving,“ThisforGodandthisfor\\nmyself;Thisformysoul,andthisother\\nformybody?”\\n\\nAllyourhoursarewingsthatbeat\\nthroughspacefromselftoself.', '88}He\\nwhowearshismoralitybutashisbest\\ngarmentwerebetternaked.\\n\\nThewindandthesunwilltearnoholes\\ninhisskin.\\n\\nAndhewhodefineshisconductbyethics\\nimprisonshissong-birdinacage.\\n\\nThefreestsongcomesnotthroughbars\\nandwires.\\n\\nAndhetowhomworshippingisawindow,\\ntoopenbutalsotoshut,hasnotyet\\nvisitedthehouseofhissoulwhose\\nwindowsarefromdawntodawn.\\n\\n*****\\n\\nYourdailylifeisyourtempleandyour\\nreligion.\\n\\nWheneveryouenterintoittakewithyou\\nyourall.\\n\\nTaketheploughandtheforgeandthe\\nmalletandthelute,\\n\\nThethingsyouhavefashionedin\\nnecessityorfordelight.\\n\\nForinreveryyoucannotriseaboveyour\\nachievementsnorfalllowerthanyour\\nfailures.\\n\\nAndtakewithyouallmen:', '89}Forin\\nadorationyoucannotflyhigherthan\\ntheirhopesnorhumbleyourselflower\\nthantheirdespair.\\n\\n*****\\n\\nAndifyouwouldknowGodbenot\\nthereforeasolverofriddles.\\n\\nRatherlookaboutyouandyoushallsee\\nHimplayingwithyourchildren.\\n\\nAndlookintospace;youshallseeHim\\nwalkinginthecloud,outstretchingHis\\narmsinthelightninganddescendingin\\nrain.\\n\\nYoushallseeHimsmilinginflowers,\\nthenrisingandwavingHishandsin\\ntrees.\\n\\n**********\\n\\n', '90}ThenAlmitraspoke,saying,Wewould\\nasknowof_Death_.\\n\\nAndhesaid:\\n\\nYouwouldknowthesecretofdeath.\\n\\nButhowshallyoufinditunlessyou\\nseekitintheheartoflife?\\n\\nTheowlwhosenight-boundeyesareblind\\nuntothedaycannotunveilthemystery\\noflight.\\n\\nIfyouwouldindeedbeholdthespirit\\nofdeath,openyourheartwideuntothe\\nbodyoflife.\\n\\nForlifeanddeathareone,evenasthe\\nriverandtheseaareone.\\n\\nInthedepthofyourhopesanddesires\\nliesyoursilentknowledgeofthe\\nbeyond;\\n\\nAndlikeseedsdreamingbeneaththesnow\\nyourheartdreamsofspring.\\n\\nTrustthedreams,forinthemishidden\\nthegatetoeternity.', '91}Yourfear\\nofdeathisbutthetremblingofthe\\nshepherdwhenhestandsbeforetheking\\nwhosehandistobelaiduponhimin\\nhonour.\\n\\nIstheshepherdnotjoyfulbeneathhis\\ntrembling,thatheshallwearthemark\\noftheking?\\n\\nYetishenotmoremindfulofhis\\ntrembling?\\n\\n*****\\n\\nForwhatisittodiebuttostandnaked\\ninthewindandtomeltintothesun?\\n\\nAndwhatisittoceasebreathing,but\\ntofreethebreathfromitsrestless\\ntides,thatitmayriseandexpandand\\nseekGodunencumbered?\\n\\nOnlywhenyoudrinkfromtheriverof\\nsilenceshallyouindeedsing.\\n\\nAndwhenyouhavereachedthemountain\\ntop,thenyoushallbegintoclimb.\\n\\nAndwhentheearthshallclaimyour\\nlimbs,thenshallyoutrulydance.\\n', '92}Andnowitwasevening.\\n\\nAndAlmitratheseeresssaid,Blessedbe\\nthisdayandthisplaceandyourspirit\\nthathasspoken.\\n\\nAndheanswered,WasitIwhospoke?Was\\nInotalsoalistener?\\n\\n*****\\n\\nThenhedescendedthestepsofthe\\nTempleandallthepeoplefollowedhim.\\nAndhereachedhisshipandstoodupon\\nthedeck.\\n\\nAndfacingthepeopleagain,heraised\\nhisvoiceandsaid:\\n\\nPeopleofOrphalese,thewindbidsme\\nleaveyou.\\n\\nLesshastyamIthanthewind,yetI\\nmustgo.\\n\\nWewanderers,everseekingthelonelier\\nway,beginnodaywherewehaveended\\nanotherday;andnosunrisefindsus\\nwheresunsetleftus.', '93}Evenwhilethe\\nearthsleepswetravel.\\n\\nWearetheseedsofthetenacious\\nplant,anditisinourripenessandour\\nfullnessofheartthatwearegivento\\nthewindandarescattered.\\n\\n*****\\n\\nBriefweremydaysamongyou,and\\nbrieferstillthewordsIhavespoken.\\n\\nButshouldmyvoicefadeinyourears,\\nandmylovevanishinyourmemory,then\\nIwillcomeagain,\\n\\nAndwitharicherheartandlipsmore\\nyieldingtothespiritwillIspeak.\\n\\nYea,Ishallreturnwiththetide,\\n\\nAndthoughdeathmayhideme,andthe\\ngreatersilenceenfoldme,yetagain\\nwillIseekyourunderstanding.\\n\\nAndnotinvainwillIseek.\\n\\nIfaughtIhavesaidistruth,that\\ntruthshallrevealitselfinaclearer\\nvoice,andinwordsmorekintoyour\\nthoughts.\\n\\nIgowiththewind,peopleof\\nOrphalese,butnotdownintoemptiness;\\n', '94}Andifthisdayisnotafulfilment\\nofyourneedsandmylove,thenletit\\nbeapromisetillanotherday.\\n\\nMan’sneedschange,butnothislove,\\nnorhisdesirethathisloveshould\\nsatisfyhisneeds.\\n\\nKnowtherefore,thatfromthegreater\\nsilenceIshallreturn.\\n\\nThemistthatdriftsawayatdawn,\\nleavingbutdewinthefields,shall\\nriseandgatherintoacloudandthen\\nfalldowninrain.\\n\\nAndnotunlikethemisthaveIbeen.\\n\\nInthestillnessofthenightIhave\\nwalkedinyourstreets,andmyspirit\\nhasenteredyourhouses,\\n\\nAndyourheart-beatswereinmyheart,\\nandyourbreathwasuponmyface,andI\\nknewyouall.\\n\\nAy,Iknewyourjoyandyourpain,\\nandinyoursleepyourdreamsweremy\\ndreams.\\n\\nAndoftentimesIwasamongyoualake\\namongthemountains.\\n\\nImirroredthesummitsinyouandthe\\n', '95}bendingslopes,andeventhe\\npassingflocksofyourthoughtsandyour\\ndesires.\\n\\nAndtomysilencecamethelaughter\\nofyourchildreninstreams,andthe\\nlongingofyouryouthsinrivers.\\n\\nAndwhentheyreachedmydepththe\\nstreamsandtheriversceasednotyetto\\nsing.\\n\\n[Illustration:0119]\\n\\nButsweeterstillthanlaughterand\\ngreaterthanlongingcametome.\\n\\nItwastheboundlessinyou;\\n\\nThevastmaninwhomyouareallbut\\ncellsandsinews;\\n\\nHeinwhosechantallyoursingingis\\nbutasoundlessthrobbing.\\n\\nItisinthevastmanthatyouarevast,\\n\\nAndinbeholdinghimthatIbeheldyou\\nandlovedyou.\\n\\nForwhatdistancescanlovereachthat\\narenotinthatvastsphere?\\n\\nWhatvisions,whatexpectationsandwhat\\npresumptionscanoutsoarthatflight?\\n\\nLikeagiantoaktreecoveredwithapple\\nblossomsisthevastmaninyou.', '96}His\\nmightbindsyoutotheearth,his\\nfragranceliftsyouintospace,andin\\nhisdurabilityyouaredeathless.\\n\\n*****\\n\\nYouhavebeentoldthat,evenlikea\\nchain,youareasweakasyourweakest\\nlink.\\n\\nThisisbuthalfthetruth.Youarealso\\nasstrongasyourstrongestlink.\\n\\nTomeasureyoubyyoursmallestdeed\\nistoreckonthepowerofoceanbythe\\nfrailtyofitsfoam.\\n\\nTojudgeyoubyyourfailuresisto\\ncastblameupontheseasonsfortheir\\ninconstancy.\\n\\nAy,youarelikeanocean,\\n\\nAndthoughheavy-groundedshipsawait\\nthetideuponyourshores,yet,even\\nlikeanocean,youcannothastenyour\\ntides.\\n\\nAndliketheseasonsyouarealso,\\n\\nAndthoughinyourwinteryoudenyyour\\nspring,\\n\\nYetspring,reposingwithinyou,smiles\\ninherdrowsinessandisnotoffended.\\n', '97}ThinknotIsaythesethingsin\\norderthatyoumaysaytheonetothe\\nother,“Hepraiseduswell.Hesawbut\\nthegoodinus.”\\n\\nIonlyspeaktoyouinwordsofthat\\nwhichyouyourselvesknowinthought.\\n\\nAndwhatiswordknowledgebutashadow\\nofwordlessknowledge?\\n\\nYourthoughtsandmywordsarewaves\\nfromasealedmemorythatkeepsrecords\\nofouryesterdays,\\n\\nAndoftheancientdayswhentheearth\\nknewnotusnorherself,\\n\\nAndofnightswhenearthwasup-wrought\\nwithconfusion.\\n\\n*****\\n\\nWisemenhavecometoyoutogiveyou\\noftheirwisdom.Icametotakeofyour\\nwisdom:\\n\\nAndbeholdIhavefoundthatwhichis\\ngreaterthanwisdom.\\n\\nItisaflamespiritinyouever\\ngatheringmoreofitself,\\n\\nWhileyou,heedlessofitsexpansion,\\nbewailthewitheringofyourdays.\\n', '98}Itislifeinquestoflifein\\nbodiesthatfearthegrave.\\n\\n*****\\n\\nTherearenograveshere.\\n\\nThesemountainsandplainsareacradle\\nandastepping-stone.\\n\\nWheneveryoupassbythefieldwhere\\nyouhavelaidyourancestorslookwell\\nthereupon,andyoushallseeyourselves\\nandyourchildrendancinghandinhand.\\n\\nVerilyyouoftenmakemerrywithout\\nknowing.\\n\\nOthershavecometoyoutowhomfor\\ngoldenpromisesmadeuntoyourfaith\\nyouhavegivenbutrichesandpowerand\\nglory.\\n\\nLessthanapromisehaveIgiven,and\\nyetmoregeneroushaveyoubeentome.\\n\\nYouhavegivenmemydeeperthirsting\\nafterlife.\\n\\nSurelythereisnogreatergifttoaman\\nthanthatwhichturnsallhisaims\\nintoparchinglipsandalllifeintoa\\nfountain.\\n\\n[Illustration:0125]\\n\\n', '99}Andinthisliesmyhonourandmy\\nreward,--\\n\\nThatwheneverIcometothefountain\\ntodrinkIfindthelivingwateritself\\nthirsty;\\n\\nAnditdrinksmewhileIdrinkit.\\n\\n*****\\n\\nSomeofyouhavedeemedmeproudand\\nover-shytoreceivegifts.\\n\\nTooproudindeedamItoreceivewages,\\nbutnotgifts.\\n\\nAndthoughIhaveeatenberriesamong\\nthehillswhenyouwouldhavehadmesit\\natyourboard,\\n\\nAndsleptintheporticoofthetemple\\nwhenyouwouldgladlyhaveshelteredme,\\n\\nYetwasitnotyourlovingmindfulness\\nofmydaysandmynightsthatmadefood\\nsweettomymouthandgirdledmysleep\\nwithvisions?\\n\\nForthisIblessyoumost:\\n\\nYougivemuchandknownotthatyougive\\natall.', '100}Verilythekindnessthat\\ngazesuponitselfinamirrorturnsto\\nstone,\\n\\nAndagooddeedthatcallsitselfby\\ntendernamesbecomestheparenttoa\\ncurse.\\n\\n*****\\n\\nAndsomeofyouhavecalledmealoof,\\nanddrunkwithmyownaloneness,\\n\\nAndyouhavesaid,“Heholdscouncil\\nwiththetreesoftheforest,butnot\\nwithmen.\\n\\nHesitsaloneonhill-topsandlooks\\ndownuponourcity.”\\n\\nTrueitisthatIhaveclimbedthehills\\nandwalkedinremoteplaces.\\n\\nHowcouldIhaveseenyousavefroma\\ngreatheightoragreatdistance?\\n\\nHowcanonebeindeednearunlesshebe\\ntar?\\n\\nAndothersamongyoucalleduntome,not\\ninwords,andtheysaid,\\n\\n“Stranger,stranger,loverof\\nunreachableheights,whydwellyouamong\\nthesummitswhereeaglesbuild\\ntheirnests?', '101}Whyseekyouthe\\nunattainable?\\n\\nWhatstormswouldyoutrapinyournet,\\n\\nAndwhatvaporousbirdsdoyouhuntin\\nthesky?\\n\\nComeandbeoneofus.\\n\\nDescendandappeaseyourhungerwithour\\nbreadandquenchyourthirstwithour\\nwine.”\\n\\nInthesolitudeoftheirsoulstheysaid\\nthesethings;\\n\\nButweretheirsolitudedeeperthey\\nwouldhaveknownthatIsoughtbutthe\\nsecretofyourjoyandyourpain,\\n\\nAndIhuntedonlyyourlargerselves\\nthatwalkthesky.\\n\\n*****\\n\\nButthehunterwasalsothehunted;\\n\\nFormanyofmyarrowsleftmybowonly\\ntoseekmyownbreast.\\n\\nAndtheflierwasalsothecreeper;\\n\\nForwhenmywingswerespreadinthe\\nsuntheirshadowupontheearthwasa\\nturtle.\\n\\nAndIthebelieverwasalsothedoubter;\\n', '102}ForoftenhaveIputmyfinger\\ninmyownwoundthatImighthavethe\\ngreaterbeliefinyouandthegreater\\nknowledgeofyou.\\n\\n*****\\n\\nAnditiswiththisbeliefandthis\\nknowledgethatIsay,\\n\\nYouarenotenclosedwithinyourbodies,\\nnorconfinedtohousesorfields.\\n\\nThatwhichisyoudwellsabovethe\\nmountainandroveswiththewind.\\n\\nItisnotathingthatcrawlsinto\\nthesunforwarmthordigsholesinto\\ndarknessforsafety,\\n\\nButathingfree,aspiritthatenvelops\\ntheearthandmovesintheether.\\n\\nIfthesebevaguewords,thenseeknot\\ntoclearthem.\\n\\nVagueandnebulousisthebeginningof\\nallthings,butnottheirend,\\n\\nAndIfainwouldhaveyouremembermeas\\nabeginning.\\n\\nLife,andallthatlives,isconceived\\ninthemistandnotinthecrystal.\\n', '103}Andwhoknowsbutacrystalismist\\nindecay?\\n\\n*****\\n\\nThiswouldIhaveyourememberin\\nrememberingme:\\n\\nThatwhichseemsmostfeebleand\\nbewilderedinyouisthestrongestand\\nmostdetermined.\\n\\nIsitnotyourbreaththathaserected\\nandhardenedthestructureofyour\\nbones?\\n\\nAndisitnotadreamwhichnoneofyou\\nrememberhavingdreamt,thatbuilded\\nyourcityandfashionedallthereisin\\nit?\\n\\nCouldyoubutseethetidesofthat\\nbreathyouwouldceasetoseeallelse,\\n\\nAndifyoucouldhearthewhisperingof\\nthedreamyouwouldhearnoothersound.\\n\\nButyoudonotsee,nordoyouhear,and\\nitiswell.\\n\\nTheveilthatcloudsyoureyesshallbe\\nliftedbythehandsthatwoveit,\\n\\nAndtheclaythatfillsyourearsshall\\nbepiercedbythosefingersthatkneaded\\nit.', '104}Andyoushallsee.\\n\\nAndyoushallhear.\\n\\nYetyoushallnotdeplorehavingknown\\nblindness,norregrethavingbeendeaf.\\n\\nForinthatdayyoushallknowthe\\nhiddenpurposesinallthings,\\n\\nAndyoushallblessdarknessasyou\\nwouldblesslight.\\n\\nAftersayingthesethingshelooked\\nabouthim,andhesawthepilotofhis\\nshipstandingbythehelmandgazing\\nnowatthefullsailsandnowatthe\\ndistance.\\n\\nAndhesaid:\\n\\nPatient,overpatient,isthecaptainof\\nmyship.\\n\\nThewindblows,andrestlessarethe\\nsails;\\n\\nEventherudderbegsdirection;\\n\\nYetquietlymycaptainawaitsmy\\nsilence.\\n\\nAndthesemymariners,whohaveheard\\nthechoirofthegreatersea,theytoo\\nhaveheardmepatiently.', '105}Nowthey\\nshallwaitnolonger.\\n\\nIamready.\\n\\nThestreamhasreachedthesea,and\\noncemorethegreatmotherholdsherson\\nagainstherbreast.\\n\\n*****\\n\\nFareyouwell,peopleofOrphalese.\\n\\nThisdayhasended.\\n\\nItisclosinguponusevenasthe\\nwater-lilyuponitsowntomorrow.\\n\\nWhatwasgivenushereweshallkeep,\\n\\nAndifitsufficesnot,thenagainmust\\nwecometogetherandtogetherstretch\\nourhandsuntothegiver.\\n\\nForgetnotthatIshallcomebackto\\nyou.\\n\\nAlittlewhile,andmylongingshall\\ngatherdustandfoamforanotherbody.\\n\\nAlittlewhile,amomentofrestupon\\nthewind,andanotherwomanshallbear\\nme.\\n\\nFarewelltoyouandtheyouthIhave\\nspentwithyou.\\n\\nItwasbutyesterdaywemetina\\ndream.', '106}Youhavesungtomeinmy\\naloneness,andIofyourlongingshave\\nbuiltatowerinthesky.\\n\\nButnowoursleephasfledandourdream\\nisover,anditisnolongerdawn.\\n\\nThenoontideisuponusandourhalf\\nwakinghasturnedtofullerday,andwe\\nmustpart.\\n\\nIfinthetwilightofmemoryweshould\\nmeetoncemore,weshallspeakagain\\ntogetherandyoushallsingtomea\\ndeepersong.\\n\\nAndifourhandsshouldmeetinanother\\ndreamweshallbuildanothertowerin\\nthesky.\\n\\n*****\\n\\nSosayinghemadeasignaltothe\\nseamen,andstraightwaytheyweighed\\nanchorandcasttheshiploosefromits\\nmoorings,andtheymovedeastward.\\n\\nAndacrycamefromthepeopleasfroma\\nsingleheart,anditroseintothedusk\\nandwascarriedoutoverthesealikea\\ngreattrumpeting.\\n\\nOnlyAlmitrawassilent,gazingafter\\n', '107}theshipuntilithadvanishedinto\\nthemist.\\n\\nAndwhenallthepeopleweredispersed\\nshestillstoodaloneuponthesea-wall,\\nrememberinginherhearthissaying,\\n\\n“Alittlewhile,amomentofrestupon\\nthewind,andanotherwomanshallbear\\nme.”\\n\\n[Illustration:0134]\\n\\n\\n\\n\\n\\n\\n\\n\\nEndoftheProjectGutenbergEBookofTheProphet,byKahlilGibran\\n\\n***ENDOFTHISPROJECTGUTENBERGEBOOKTHEPROPHET***\\n\\n*****Thisfileshouldbenamed58585-0.txtor58585-0.zip*****\\nThisandallassociatedfilesofvariousformatswillbefoundin:\\nhttp://www.gutenberg.org/5/8/5/8/58585/\\n\\nProducedbyDavidWidgerfrompageimagesgenerously\\nprovidedbytheInternetArchive\\n\\n\\nUpdatededitionswillreplacethepreviousone--theoldeditionswill\\nberenamed.\\n\\nCreatingtheworksfromprinteditionsnotprotectedbyU.S.copyright\\nlawmeansthatnooneownsaUnitedStatescopyrightintheseworks,\\nsotheFoundation(andyou!)cancopyanddistributeitintheUnited\\nStateswithoutpermissionandwithoutpayingcopyright\\nroyalties.Specialrules,setforthintheGeneralTermsofUsepart\\nofthislicense,applytocopyinganddistributingProject\\nGutenberg-tmelectronicworkstoprotectthePROJECTGUTENBERG-tm\\nconceptandtrademark.ProjectGutenbergisaregisteredtrademark,\\nandmaynotbeusedifyouchargefortheeBooks,unlessyoureceive\\nspecificpermission.Ifyoudonotchargeanythingforcopiesofthis\\neBook,complyingwiththerulesisveryeasy.YoumayusethiseBook\\nfornearlyanypurposesuchascreationofderivativeworks,reports,\\nperformancesandresearch.Theymaybemodifiedandprintedandgiven\\naway--youmaydopracticallyANYTHINGintheUnitedStateswitheBooks\\nnotprotectedbyU.S.copyrightlaw.Redistributionissubjecttothe\\ntrademarklicense,especiallycommercialredistribution.\\n\\nSTART:FULLLICENSE\\n\\nTHEFULLPROJECTGUTENBERGLICENSE\\nPLEASEREADTHISBEFOREYOUDISTRIBUTEORUSETHISWORK\\n\\nToprotecttheProjectGutenberg-tmmissionofpromotingthefree\\ndistributionofelectronicworks,byusingordistributingthiswork\\n(oranyotherworkassociatedinanywaywiththephrase\"Project\\nGutenberg\"),youagreetocomplywithallthetermsoftheFull\\nProjectGutenberg-tmLicenseavailablewiththisfileoronlineat\\nwww.gutenberg.org/license.\\n\\nSection1.GeneralTermsofUseandRedistributingProject\\nGutenberg-tmelectronicworks\\n\\n1.A.ByreadingorusinganypartofthisProjectGutenberg-tm\\nelectronicwork,youindicatethatyouhaveread,understand,agreeto\\nandacceptallthetermsofthislicenseandintellectualproperty\\n(trademark/copyright)agreement.Ifyoudonotagreetoabidebyall\\nthetermsofthisagreement,youmustceaseusingandreturnor\\ndestroyallcopiesofProjectGutenberg-tmelectronicworksinyour\\npossession.Ifyoupaidafeeforobtainingacopyoforaccesstoa\\nProjectGutenberg-tmelectronicworkandyoudonotagreetobebound\\nbythetermsofthisagreement,youmayobtainarefundfromthe\\npersonorentitytowhomyoupaidthefeeassetforthinparagraph\\n1.E.8.\\n\\n1.B.\"ProjectGutenberg\"isaregisteredtrademark.Itmayonlybe\\nusedonorassociatedinanywaywithanelectronicworkbypeoplewho\\nagreetobeboundbythetermsofthisagreement.Thereareafew\\nthingsthatyoucandowithmostProjectGutenberg-tmelectronicworks\\nevenwithoutcomplyingwiththefulltermsofthisagreement.See\\nparagraph1.Cbelow.TherearealotofthingsyoucandowithProject\\nGutenberg-tmelectronicworksifyoufollowthetermsofthis\\nagreementandhelppreservefreefutureaccesstoProjectGutenberg-tm\\nelectronicworks.Seeparagraph1.Ebelow.\\n\\n1.C.TheProjectGutenbergLiteraryArchiveFoundation(\"the\\nFoundation\"orPGLAF),ownsacompilationcopyrightinthecollection\\nofProjectGutenberg-tmelectronicworks.Nearlyalltheindividual\\nworksinthecollectionareinthepublicdomainintheUnited\\nStates.Ifanindividualworkisunprotectedbycopyrightlawinthe\\nUnitedStatesandyouarelocatedintheUnitedStates,wedonot\\nclaimarighttopreventyoufromcopying,distributing,performing,\\ndisplayingorcreatingderivativeworksbasedontheworkaslongas\\nallreferencestoProjectGutenbergareremoved.Ofcourse,wehope\\nthatyouwillsupporttheProjectGutenberg-tmmissionofpromoting\\nfreeaccesstoelectronicworksbyfreelysharingProjectGutenberg-tm\\nworksincompliancewiththetermsofthisagreementforkeepingthe\\nProjectGutenberg-tmnameassociatedwiththework.Youcaneasily\\ncomplywiththetermsofthisagreementbykeepingthisworkinthe\\nsameformatwithitsattachedfullProjectGutenberg-tmLicensewhen\\nyoushareitwithoutchargewithothers.\\n\\n1.D.Thecopyrightlawsoftheplacewhereyouarelocatedalsogovern\\nwhatyoucandowiththiswork.Copyrightlawsinmostcountriesare\\ninaconstantstateofchange.IfyouareoutsidetheUnitedStates,\\ncheckthelawsofyourcountryinadditiontothetermsofthis\\nagreementbeforedownloading,copying,displaying,performing,\\ndistributingorcreatingderivativeworksbasedonthisworkorany\\notherProjectGutenberg-tmwork.TheFoundationmakesno\\nrepresentationsconcerningthecopyrightstatusofanyworkinany\\ncountryoutsidetheUnitedStates.\\n\\n1.E.UnlessyouhaveremovedallreferencestoProjectGutenberg:\\n\\n1.E.1.Thefollowingsentence,withactivelinksto,orother\\nimmediateaccessto,thefullProjectGutenberg-tmLicensemustappear\\nprominentlywheneveranycopyofaProjectGutenberg-tmwork(anywork\\nonwhichthephrase\"ProjectGutenberg\"appears,orwithwhichthe\\nphrase\"ProjectGutenberg\"isassociated)isaccessed,displayed,\\nperformed,viewed,copiedordistributed:\\n\\nThiseBookisfortheuseofanyoneanywhereintheUnitedStatesand\\nmostotherpartsoftheworldatnocostandwithalmostno\\nrestrictionswhatsoever.Youmaycopyit,giveitawayorre-useit\\nunderthetermsoftheProjectGutenbergLicenseincludedwiththis\\neBookoronlineatwww.gutenberg.org.Ifyouarenotlocatedinthe\\nUnitedStates,you\\'llhavetocheckthelawsofthecountrywhereyou\\narelocatedbeforeusingthisebook.\\n\\n1.E.2.IfanindividualProjectGutenberg-tmelectronicworkis\\nderivedfromtextsnotprotectedbyU.S.copyrightlaw(doesnot\\ncontainanoticeindicatingthatitispostedwithpermissionofthe\\ncopyrightholder),theworkcanbecopiedanddistributedtoanyonein\\ntheUnitedStateswithoutpayinganyfeesorcharges.Ifyouare\\nredistributingorprovidingaccesstoaworkwiththephrase\"Project\\nGutenberg\"associatedwithorappearingonthework,youmustcomply\\neitherwiththerequirementsofparagraphs1.E.1through1.E.7or\\nobtainpermissionfortheuseoftheworkandtheProjectGutenberg-tm\\ntrademarkassetforthinparagraphs1.E.8or1.E.9.\\n\\n1.E.3.IfanindividualProjectGutenberg-tmelectronicworkisposted\\nwiththepermissionofthecopyrightholder,youruseanddistribution\\nmustcomplywithbothparagraphs1.E.1through1.E.7andany\\nadditionaltermsimposedbythecopyrightholder.Additionalterms\\nwillbelinkedtotheProjectGutenberg-tmLicenseforallworks\\npostedwiththepermissionofthecopyrightholderfoundatthe\\nbeginningofthiswork.\\n\\n1.E.4.DonotunlinkordetachorremovethefullProjectGutenberg-tm\\nLicensetermsfromthiswork,oranyfilescontainingapartofthis\\nworkoranyotherworkassociatedwithProjectGutenberg-tm.\\n\\n1.E.5.Donotcopy,display,perform,distributeorredistributethis\\nelectronicwork,oranypartofthiselectronicwork,without\\nprominentlydisplayingthesentencesetforthinparagraph1.E.1with\\nactivelinksorimmediateaccesstothefulltermsoftheProject\\nGutenberg-tmLicense.\\n\\n1.E.6.Youmayconverttoanddistributethisworkinanybinary,\\ncompressed,markedup,nonproprietaryorproprietaryform,including\\nanywordprocessingorhypertextform.However,ifyouprovideaccess\\ntoordistributecopiesofaProjectGutenberg-tmworkinaformat\\notherthan\"PlainVanillaASCII\"orotherformatusedintheofficial\\nversionpostedontheofficialProjectGutenberg-tmwebsite\\n(www.gutenberg.org),youmust,atnoadditionalcost,feeorexpense\\ntotheuser,provideacopy,ameansofexportingacopy,orameans\\nofobtainingacopyuponrequest,oftheworkinitsoriginal\"Plain\\nVanillaASCII\"orotherform.Anyalternateformatmustincludethe\\nfullProjectGutenberg-tmLicenseasspecifiedinparagraph1.E.1.\\n\\n1.E.7.Donotchargeafeeforaccessto,viewing,displaying,\\nperforming,copyingordistributinganyProjectGutenberg-tmworks\\nunlessyoucomplywithparagraph1.E.8or1.E.9.\\n\\n1.E.8.Youmaychargeareasonablefeeforcopiesoforproviding\\naccesstoordistributingProjectGutenberg-tmelectronicworks\\nprovidedthat\\n\\n*Youpayaroyaltyfeeof20%ofthegrossprofitsyouderivefrom\\ntheuseofProjectGutenberg-tmworkscalculatedusingthemethod\\nyoualreadyusetocalculateyourapplicabletaxes.Thefeeisowed\\ntotheowneroftheProjectGutenberg-tmtrademark,buthehas\\nagreedtodonateroyaltiesunderthisparagraphtotheProject\\nGutenbergLiteraryArchiveFoundation.Royaltypaymentsmustbepaid\\nwithin60daysfollowingeachdateonwhichyouprepare(orare\\nlegallyrequiredtoprepare)yourperiodictaxreturns.Royalty\\npaymentsshouldbeclearlymarkedassuchandsenttotheProject\\nGutenbergLiteraryArchiveFoundationattheaddressspecifiedin\\nSection4,\"InformationaboutdonationstotheProjectGutenberg\\nLiteraryArchiveFoundation.\"\\n\\n*Youprovideafullrefundofanymoneypaidbyauserwhonotifies\\nyouinwriting(orbye-mail)within30daysofreceiptthats/he\\ndoesnotagreetothetermsofthefullProjectGutenberg-tm\\nLicense.Youmustrequiresuchausertoreturnordestroyall\\ncopiesoftheworkspossessedinaphysicalmediumanddiscontinue\\nalluseofandallaccesstoothercopiesofProjectGutenberg-tm\\nworks.\\n\\n*Youprovide,inaccordancewithparagraph1.F.3,afullrefundof\\nanymoneypaidforaworkorareplacementcopy,ifadefectinthe\\nelectronicworkisdiscoveredandreportedtoyouwithin90daysof\\nreceiptofthework.\\n\\n*Youcomplywithallothertermsofthisagreementforfree\\ndistributionofProjectGutenberg-tmworks.\\n\\n1.E.9.IfyouwishtochargeafeeordistributeaProject\\nGutenberg-tmelectronicworkorgroupofworksondifferenttermsthan\\naresetforthinthisagreement,youmustobtainpermissioninwriting\\nfromboththeProjectGutenbergLiteraryArchiveFoundationandThe\\nProjectGutenbergTrademarkLLC,theowneroftheProjectGutenberg-tm\\ntrademark.ContacttheFoundationassetforthinSection3below.\\n\\n1.F.\\n\\n1.F.1.ProjectGutenbergvolunteersandemployeesexpendconsiderable\\nefforttoidentify,docopyrightresearchon,transcribeandproofread\\nworksnotprotectedbyU.S.copyrightlawincreatingtheProject\\nGutenberg-tmcollection.Despitetheseefforts,ProjectGutenberg-tm\\nelectronicworks,andthemediumonwhichtheymaybestored,may\\ncontain\"Defects,\"suchas,butnotlimitedto,incomplete,inaccurate\\norcorruptdata,transcriptionerrors,acopyrightorother\\nintellectualpropertyinfringement,adefectiveordamageddiskor\\nothermedium,acomputervirus,orcomputercodesthatdamageor\\ncannotbereadbyyourequipment.\\n\\n1.F.2.LIMITEDWARRANTY,DISCLAIMEROFDAMAGES-Exceptforthe\"Right\\nofReplacementorRefund\"describedinparagraph1.F.3,theProject\\nGutenbergLiteraryArchiveFoundation,theowneroftheProject\\nGutenberg-tmtrademark,andanyotherpartydistributingaProject\\nGutenberg-tmelectronicworkunderthisagreement,disclaimall\\nliabilitytoyoufordamages,costsandexpenses,includinglegal\\nfees.YOUAGREETHATYOUHAVENOREMEDIESFORNEGLIGENCE,STRICT\\nLIABILITY,BREACHOFWARRANTYORBREACHOFCONTRACTEXCEPTTHOSE\\nPROVIDEDINPARAGRAPH1.F.3.YOUAGREETHATTHEFOUNDATION,THE\\nTRADEMARKOWNER,ANDANYDISTRIBUTORUNDERTHISAGREEMENTWILLNOTBE\\nLIABLETOYOUFORACTUAL,DIRECT,INDIRECT,CONSEQUENTIAL,PUNITIVEOR\\nINCIDENTALDAMAGESEVENIFYOUGIVENOTICEOFTHEPOSSIBILITYOFSUCH\\nDAMAGE.\\n\\n1.F.3.LIMITEDRIGHTOFREPLACEMENTORREFUND-Ifyoudiscovera\\ndefectinthiselectronicworkwithin90daysofreceivingit,youcan\\nreceivearefundofthemoney(ifany)youpaidforitbysendinga\\nwrittenexplanationtothepersonyoureceivedtheworkfrom.Ifyou\\nreceivedtheworkonaphysicalmedium,youmustreturnthemedium\\nwithyourwrittenexplanation.Thepersonorentitythatprovidedyou\\nwiththedefectiveworkmayelecttoprovideareplacementcopyin\\nlieuofarefund.Ifyoureceivedtheworkelectronically,theperson\\norentityprovidingittoyoumaychoosetogiveyouasecond\\nopportunitytoreceivetheworkelectronicallyinlieuofarefund.If\\nthesecondcopyisalsodefective,youmaydemandarefundinwriting\\nwithoutfurtheropportunitiestofixtheproblem.\\n\\n1.F.4.Exceptforthelimitedrightofreplacementorrefundsetforth\\ninparagraph1.F.3,thisworkisprovidedtoyou\\'AS-IS\\',WITHNO\\nOTHERWARRANTIESOFANYKIND,EXPRESSORIMPLIED,INCLUDINGBUTNOT\\nLIMITEDTOWARRANTIESOFMERCHANTABILITYORFITNESSFORANYPURPOSE.\\n\\n1.F.5.Somestatesdonotallowdisclaimersofcertainimplied\\nwarrantiesortheexclusionorlimitationofcertaintypesof\\ndamages.Ifanydisclaimerorlimitationsetforthinthisagreement\\nviolatesthelawofthestateapplicabletothisagreement,the\\nagreementshallbeinterpretedtomakethemaximumdisclaimeror\\nlimitationpermittedbytheapplicablestatelaw.Theinvalidityor\\nunenforceabilityofanyprovisionofthisagreementshallnotvoidthe\\nremainingprovisions.\\n\\n1.F.6.INDEMNITY-YouagreetoindemnifyandholdtheFoundation,the\\ntrademarkowner,anyagentoremployeeoftheFoundation,anyone\\nprovidingcopiesofProjectGutenberg-tmelectronicworksin\\naccordancewiththisagreement,andanyvolunteersassociatedwiththe\\nproduction,promotionanddistributionofProjectGutenberg-tm\\nelectronicworks,harmlessfromallliability,costsandexpenses,\\nincludinglegalfees,thatarisedirectlyorindirectlyfromanyof\\nthefollowingwhichyoudoorcausetooccur:(a)distributionofthis\\noranyProjectGutenberg-tmwork,(b)alteration,modification,or\\nadditionsordeletionstoanyProjectGutenberg-tmwork,and(c)any\\nDefectyoucause.\\n\\nSection2.InformationabouttheMissionofProjectGutenberg-tm\\n\\nProjectGutenberg-tmissynonymouswiththefreedistributionof\\nelectronicworksinformatsreadablebythewidestvarietyof\\ncomputersincludingobsolete,old,middle-agedandnewcomputers.It\\nexistsbecauseoftheeffortsofhundredsofvolunteersanddonations\\nfrompeopleinallwalksoflife.\\n\\nVolunteersandfinancialsupporttoprovidevolunteerswiththe\\nassistancetheyneedarecriticaltoreachingProjectGutenberg-tm\\'s\\ngoalsandensuringthattheProjectGutenberg-tmcollectionwill\\nremainfreelyavailableforgenerationstocome.In2001,theProject\\nGutenbergLiteraryArchiveFoundationwascreatedtoprovideasecure\\nandpermanentfutureforProjectGutenberg-tmandfuture\\ngenerations.TolearnmoreabouttheProjectGutenbergLiterary\\nArchiveFoundationandhowyoureffortsanddonationscanhelp,see\\nSections3and4andtheFoundationinformationpageat\\nwww.gutenberg.orgSection3.InformationabouttheProjectGutenberg\\nLiteraryArchiveFoundation\\n\\nTheProjectGutenbergLiteraryArchiveFoundationisanonprofit\\n501(c)(3)educationalcorporationorganizedunderthelawsofthe\\nstateofMississippiandgrantedtaxexemptstatusbytheInternal\\nRevenueService.TheFoundation\\'sEINorfederaltaxidentification\\nnumberis64-6221541.ContributionstotheProjectGutenbergLiterary\\nArchiveFoundationaretaxdeductibletothefullextentpermittedby\\nU.S.federallawsandyourstate\\'slaws.\\n\\nTheFoundation\\'sprincipalofficeisinFairbanks,Alaska,withthe\\nmailingaddress:POBox750175,Fairbanks,AK99775,butits\\nvolunteersandemployeesarescatteredthroughoutnumerous\\nlocations.Itsbusinessofficeislocatedat809North1500West,Salt\\nLakeCity,UT84116,(801)596-1887.Emailcontactlinksandupto\\ndatecontactinformationcanbefoundattheFoundation\\'swebsiteand\\nofficialpageatwww.gutenberg.org/contact\\n\\nForadditionalcontactinformation:\\n\\nDr.GregoryB.Newby\\nChiefExecutiveandDirector\\ngbnewby@pglaf.org\\n\\nSection4.InformationaboutDonationstotheProjectGutenberg\\nLiteraryArchiveFoundation\\n\\nProjectGutenberg-tmdependsuponandcannotsurvivewithoutwide\\nspreadpublicsupportanddonationstocarryoutitsmissionof\\nincreasingthenumberofpublicdomainandlicensedworksthatcanbe\\nfreelydistributedinmachinereadableformaccessiblebythewidest\\narrayofequipmentincludingoutdatedequipment.Manysmalldonations\\n($1to$5,000)areparticularlyimportanttomaintainingtaxexempt\\nstatuswiththeIRS.\\n\\nTheFoundationiscommittedtocomplyingwiththelawsregulating\\ncharitiesandcharitabledonationsinall50statesoftheUnited\\nStates.Compliancerequirementsarenotuniformandittakesa\\nconsiderableeffort,muchpaperworkandmanyfeestomeetandkeepup\\nwiththeserequirements.Wedonotsolicitdonationsinlocations\\nwherewehavenotreceivedwrittenconfirmationofcompliance.ToSEND\\nDONATIONSordeterminethestatusofcomplianceforanyparticular\\nstatevisitwww.gutenberg.org/donate\\n\\nWhilewecannotanddonotsolicitcontributionsfromstateswherewe\\nhavenotmetthesolicitationrequirements,weknowofnoprohibition\\nagainstacceptingunsoliciteddonationsfromdonorsinsuchstateswho\\napproachuswithofferstodonate.\\n\\nInternationaldonationsaregratefullyaccepted,butwecannotmake\\nanystatementsconcerningtaxtreatmentofdonationsreceivedfrom\\noutsidetheUnitedStates.U.S.lawsaloneswampoursmallstaff.\\n\\nPleasechecktheProjectGutenbergWebpagesforcurrentdonation\\nmethodsandaddresses.Donationsareacceptedinanumberofother\\nwaysincludingchecks,onlinepaymentsandcreditcarddonations.To\\ndonate,pleasevisit:www.gutenberg.org/donate\\n\\nSection5.GeneralInformationAboutProjectGutenberg-tmelectronicworks.\\n\\nProfessorMichaelS.HartwastheoriginatoroftheProject\\nGutenberg-tmconceptofalibraryofelectronicworksthatcouldbe\\nfreelysharedwithanyone.Forfortyyears,heproducedand\\ndistributedProjectGutenberg-tmeBookswithonlyaloosenetworkof\\nvolunteersupport.\\n\\nProjectGutenberg-tmeBooksareoftencreatedfromseveralprinted\\neditions,allofwhichareconfirmedasnotprotectedbycopyrightin\\ntheU.S.unlessacopyrightnoticeisincluded.Thus,wedonot\\nnecessarilykeepeBooksincompliancewithanyparticularpaper\\nedition.\\n\\nMostpeoplestartatourWebsitewhichhasthemainPGsearch\\nfacility:www.gutenberg.org\\n\\nThisWebsiteincludesinformationaboutProjectGutenberg-tm,\\nincludinghowtomakedonationstotheProjectGutenbergLiterary\\nArchiveFoundation,howtohelpproduceourneweBooks,andhowto\\nsubscribetoouremailnewslettertohearaboutneweBooks.\\n\\n']\n"
     ]
    }
   ],
   "source": [
    "#convert the list of string in a unique string:\n",
    "str1 = ''.join(prophet)\n",
    "#print(str1)\n",
    "\n",
    "\n",
    "word1 = str1.split('{')\n",
    "print(word1)\n",
    "\n",
    "#str2 = ''.join(word1)\n",
    "\n",
    "\n",
    "#word2 = str2.split('}')\n",
    "\n",
    "#print(word2)"
   ]
  },
  {
   "cell_type": "markdown",
   "metadata": {},
   "source": [
    "Now that we have our function, use the `map()` function to apply this function to our book, The Prophet. Return the resulting list to a new list called `prophet_reference`."
   ]
  },
  {
   "cell_type": "code",
   "execution_count": null,
   "metadata": {},
   "outputs": [],
   "source": [
    "# your code here"
   ]
  },
  {
   "cell_type": "markdown",
   "metadata": {},
   "source": [
    "Another thing you may have noticed is that some words contain a line break. Let's write a function to split those words. Our function will return the string split on the character `\\n`. Write your function in the cell below."
   ]
  },
  {
   "cell_type": "code",
   "execution_count": null,
   "metadata": {},
   "outputs": [],
   "source": [
    "def line_break(x):\n",
    "    '''\n",
    "    Input: A string\n",
    "    Output: A list of strings split on the line break (\\n) character\n",
    "        \n",
    "    Example:\n",
    "    Input: 'the\\nbeloved'\n",
    "    Output: ['the', 'beloved']\n",
    "    '''\n",
    "    \n",
    "    # your code here"
   ]
  },
  {
   "cell_type": "markdown",
   "metadata": {},
   "source": [
    "Apply the `line_break` function to the `prophet_reference` list. Name the new list `prophet_line`."
   ]
  },
  {
   "cell_type": "code",
   "execution_count": null,
   "metadata": {},
   "outputs": [],
   "source": [
    "# your code here"
   ]
  },
  {
   "cell_type": "markdown",
   "metadata": {},
   "source": [
    "If you look at the elements of `prophet_line`, you will see that the function returned lists and not strings. Our list is now a list of lists. Flatten the list using list comprehension. Assign this new list to `prophet_flat`."
   ]
  },
  {
   "cell_type": "code",
   "execution_count": null,
   "metadata": {},
   "outputs": [],
   "source": [
    "# your code here"
   ]
  },
  {
   "cell_type": "markdown",
   "metadata": {},
   "source": [
    "# Challenge 2 - Filtering\n",
    "\n",
    "When printing out a few words from the book, we see that there are words that we may not want to keep if we choose to analyze the corpus of text. Below is a list of words that we would like to get rid of. Create a function that will return false if it contains a word from the list of words specified and true otherwise."
   ]
  },
  {
   "cell_type": "code",
   "execution_count": null,
   "metadata": {},
   "outputs": [],
   "source": [
    "def word_filter(x):\n",
    "    '''\n",
    "    Input: A string\n",
    "    Output: True if the word is not in the specified list \n",
    "    and False if the word is in the list.\n",
    "        \n",
    "    Example:\n",
    "    word list = ['and', 'the']\n",
    "    Input: 'and'\n",
    "    Output: False\n",
    "    \n",
    "    Input: 'John'\n",
    "    Output: True\n",
    "    '''\n",
    "    \n",
    "    word_list = ['and', 'the', 'a', 'an']\n",
    "    \n",
    "    # your code here"
   ]
  },
  {
   "cell_type": "markdown",
   "metadata": {},
   "source": [
    "Use the `filter()` function to filter out the words speficied in the `word_filter()` function. Store the filtered list in the variable `prophet_filter`."
   ]
  },
  {
   "cell_type": "markdown",
   "metadata": {},
   "source": [
    "# Bonus Challenge\n",
    "\n",
    "Rewrite the `word_filter` function above to not be case sensitive."
   ]
  },
  {
   "cell_type": "code",
   "execution_count": null,
   "metadata": {},
   "outputs": [],
   "source": [
    "def word_filter_case(x):\n",
    "   \n",
    "    word_list = ['and', 'the', 'a', 'an']\n",
    "    \n",
    "    # your code here"
   ]
  },
  {
   "cell_type": "markdown",
   "metadata": {},
   "source": [
    "# Challenge 3 - Reducing\n",
    "\n",
    "#### Now that we have significantly cleaned up our text corpus, let's use the `reduce()` function to put the words back together into one long string separated by spaces. \n",
    "\n",
    "We will start by writing a function that takes two strings and concatenates them together with a space between the two strings."
   ]
  },
  {
   "cell_type": "code",
   "execution_count": null,
   "metadata": {},
   "outputs": [],
   "source": [
    "def concat_space(a, b):\n",
    "    '''\n",
    "    Input:Two strings\n",
    "    Output: A single string separated by a space\n",
    "        \n",
    "    Example:\n",
    "    Input: 'John', 'Smith'\n",
    "    Output: 'John Smith'\n",
    "    '''\n",
    "    \n",
    "    # your code here"
   ]
  },
  {
   "cell_type": "markdown",
   "metadata": {},
   "source": [
    "Use the function above to reduce the text corpus in the list `prophet_filter` into a single string. Assign this new string to the variable `prophet_string`."
   ]
  },
  {
   "cell_type": "code",
   "execution_count": null,
   "metadata": {},
   "outputs": [],
   "source": [
    "# your code here"
   ]
  },
  {
   "cell_type": "markdown",
   "metadata": {},
   "source": [
    "# Challenge 4 - Applying Functions to DataFrames\n",
    "\n",
    "#### Our next step is to use the apply function to a dataframe and transform all cells.\n",
    "\n",
    "To do this, we will connect to Ironhack's database and retrieve the data from the *pollution* database. Select the *beijing_pollution* table and retrieve its data."
   ]
  },
  {
   "cell_type": "code",
   "execution_count": null,
   "metadata": {},
   "outputs": [],
   "source": [
    "# your code here"
   ]
  },
  {
   "cell_type": "markdown",
   "metadata": {},
   "source": [
    "Let's look at the data using the `head()` function."
   ]
  },
  {
   "cell_type": "code",
   "execution_count": null,
   "metadata": {},
   "outputs": [],
   "source": [
    "# your code here"
   ]
  },
  {
   "cell_type": "markdown",
   "metadata": {},
   "source": [
    "The next step is to create a function that divides a cell by 24 to produce an hourly figure. Write the function below."
   ]
  },
  {
   "cell_type": "code",
   "execution_count": null,
   "metadata": {},
   "outputs": [],
   "source": [
    "def hourly(x):\n",
    "    '''\n",
    "    Input: A numerical value\n",
    "    Output: The value divided by 24\n",
    "        \n",
    "    Example:\n",
    "    Input: 48\n",
    "    Output: 2.0\n",
    "    '''\n",
    "    \n",
    "    # your code here"
   ]
  },
  {
   "cell_type": "markdown",
   "metadata": {},
   "source": [
    "Apply this function to the columns `Iws`, `Is`, and `Ir`. Store this new dataframe in the variable `pm25_hourly`."
   ]
  },
  {
   "cell_type": "code",
   "execution_count": null,
   "metadata": {},
   "outputs": [],
   "source": [
    "# your code here"
   ]
  },
  {
   "cell_type": "markdown",
   "metadata": {},
   "source": [
    "#### Our last challenge will be to create an aggregate function and apply it to a select group of columns in our dataframe.\n",
    "\n",
    "Write a function that returns the standard deviation of a column divided by the length of a column minus 1. Since we are using pandas, do not use the `len()` function. One alternative is to use `count()`. Also, use the numpy version of standard deviation."
   ]
  },
  {
   "cell_type": "code",
   "execution_count": null,
   "metadata": {},
   "outputs": [],
   "source": [
    "def sample_sd(x):\n",
    "    '''\n",
    "    Input: A Pandas series of values\n",
    "    Output: the standard deviation divided by the number of elements in the series\n",
    "        \n",
    "    Example:\n",
    "    Input: pd.Series([1,2,3,4])\n",
    "    Output: 0.3726779962\n",
    "    '''\n",
    "    \n",
    "    # your code here"
   ]
  }
 ],
 "metadata": {
  "kernelspec": {
   "display_name": "Python 3",
   "language": "python",
   "name": "python3"
  },
  "language_info": {
   "codemirror_mode": {
    "name": "ipython",
    "version": 3
   },
   "file_extension": ".py",
   "mimetype": "text/x-python",
   "name": "python",
   "nbconvert_exporter": "python",
   "pygments_lexer": "ipython3",
   "version": "3.7.3"
  }
 },
 "nbformat": 4,
 "nbformat_minor": 2
}
